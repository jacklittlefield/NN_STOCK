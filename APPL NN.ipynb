{
 "cells": [
  {
   "cell_type": "code",
   "execution_count": 1,
   "metadata": {},
   "outputs": [],
   "source": [
    "import pandas as pd"
   ]
  },
  {
   "cell_type": "code",
   "execution_count": 2,
   "metadata": {},
   "outputs": [],
   "source": [
    "df = pd.read_csv('AAPL_COMB.csv')"
   ]
  },
  {
   "cell_type": "code",
   "execution_count": 3,
   "metadata": {},
   "outputs": [
    {
     "data": {
      "text/plain": [
       "Index(['Date', 'Close', 'Rates'], dtype='object')"
      ]
     },
     "execution_count": 3,
     "metadata": {},
     "output_type": "execute_result"
    }
   ],
   "source": [
    "df.columns"
   ]
  },
  {
   "cell_type": "code",
   "execution_count": 4,
   "metadata": {},
   "outputs": [],
   "source": [
    "#df = df.drop(['Volume', 'std', 'upper', 'lower'], axis = 1)"
   ]
  },
  {
   "cell_type": "code",
   "execution_count": 5,
   "metadata": {},
   "outputs": [],
   "source": [
    "df['lag'] = df['Close'].shift()\n",
    "df['std_1'] = df['Close'].rolling(5).std().dropna().shift()"
   ]
  },
  {
   "cell_type": "code",
   "execution_count": 6,
   "metadata": {},
   "outputs": [],
   "source": [
    "df.dropna(inplace=True)"
   ]
  },
  {
   "cell_type": "code",
   "execution_count": 7,
   "metadata": {},
   "outputs": [
    {
     "data": {
      "text/html": [
       "<div>\n",
       "<style scoped>\n",
       "    .dataframe tbody tr th:only-of-type {\n",
       "        vertical-align: middle;\n",
       "    }\n",
       "\n",
       "    .dataframe tbody tr th {\n",
       "        vertical-align: top;\n",
       "    }\n",
       "\n",
       "    .dataframe thead th {\n",
       "        text-align: right;\n",
       "    }\n",
       "</style>\n",
       "<table border=\"1\" class=\"dataframe\">\n",
       "  <thead>\n",
       "    <tr style=\"text-align: right;\">\n",
       "      <th></th>\n",
       "      <th>Date</th>\n",
       "      <th>Close</th>\n",
       "      <th>Rates</th>\n",
       "      <th>lag</th>\n",
       "      <th>std_1</th>\n",
       "    </tr>\n",
       "  </thead>\n",
       "  <tbody>\n",
       "    <tr>\n",
       "      <th>5</th>\n",
       "      <td>2000-11-10</td>\n",
       "      <td>1.361607</td>\n",
       "      <td>6.17</td>\n",
       "      <td>1.441964</td>\n",
       "      <td>0.065642</td>\n",
       "    </tr>\n",
       "    <tr>\n",
       "      <th>6</th>\n",
       "      <td>2000-11-13</td>\n",
       "      <td>1.383929</td>\n",
       "      <td>6.17</td>\n",
       "      <td>1.361607</td>\n",
       "      <td>0.070133</td>\n",
       "    </tr>\n",
       "    <tr>\n",
       "      <th>7</th>\n",
       "      <td>2000-11-14</td>\n",
       "      <td>1.446429</td>\n",
       "      <td>6.17</td>\n",
       "      <td>1.383929</td>\n",
       "      <td>0.062180</td>\n",
       "    </tr>\n",
       "    <tr>\n",
       "      <th>8</th>\n",
       "      <td>2000-11-15</td>\n",
       "      <td>1.419643</td>\n",
       "      <td>6.17</td>\n",
       "      <td>1.446429</td>\n",
       "      <td>0.038221</td>\n",
       "    </tr>\n",
       "    <tr>\n",
       "      <th>9</th>\n",
       "      <td>2000-11-16</td>\n",
       "      <td>1.357143</td>\n",
       "      <td>6.17</td>\n",
       "      <td>1.419643</td>\n",
       "      <td>0.036949</td>\n",
       "    </tr>\n",
       "  </tbody>\n",
       "</table>\n",
       "</div>"
      ],
      "text/plain": [
       "         Date     Close  Rates       lag     std_1\n",
       "5  2000-11-10  1.361607   6.17  1.441964  0.065642\n",
       "6  2000-11-13  1.383929   6.17  1.361607  0.070133\n",
       "7  2000-11-14  1.446429   6.17  1.383929  0.062180\n",
       "8  2000-11-15  1.419643   6.17  1.446429  0.038221\n",
       "9  2000-11-16  1.357143   6.17  1.419643  0.036949"
      ]
     },
     "execution_count": 7,
     "metadata": {},
     "output_type": "execute_result"
    }
   ],
   "source": [
    "df.head()"
   ]
  },
  {
   "cell_type": "code",
   "execution_count": 8,
   "metadata": {},
   "outputs": [],
   "source": [
    "df['std'] = df['Close'].rolling(5).std().dropna()"
   ]
  },
  {
   "cell_type": "code",
   "execution_count": 9,
   "metadata": {},
   "outputs": [],
   "source": [
    "df.dropna(inplace=True)"
   ]
  },
  {
   "cell_type": "code",
   "execution_count": 10,
   "metadata": {},
   "outputs": [],
   "source": [
    "df['Date'] = pd.to_datetime(df['Date'])"
   ]
  },
  {
   "cell_type": "code",
   "execution_count": 11,
   "metadata": {},
   "outputs": [],
   "source": [
    "df.set_index('Date', inplace=True)"
   ]
  },
  {
   "cell_type": "markdown",
   "metadata": {},
   "source": [
    "For GE I am going to make my train test split on the year 2014"
   ]
  },
  {
   "cell_type": "code",
   "execution_count": 12,
   "metadata": {},
   "outputs": [],
   "source": [
    "train_df = df[:'2014']\n",
    "test_df = df['2015':]"
   ]
  },
  {
   "cell_type": "code",
   "execution_count": 13,
   "metadata": {},
   "outputs": [
    {
     "data": {
      "text/html": [
       "<div>\n",
       "<style scoped>\n",
       "    .dataframe tbody tr th:only-of-type {\n",
       "        vertical-align: middle;\n",
       "    }\n",
       "\n",
       "    .dataframe tbody tr th {\n",
       "        vertical-align: top;\n",
       "    }\n",
       "\n",
       "    .dataframe thead th {\n",
       "        text-align: right;\n",
       "    }\n",
       "</style>\n",
       "<table border=\"1\" class=\"dataframe\">\n",
       "  <thead>\n",
       "    <tr style=\"text-align: right;\">\n",
       "      <th></th>\n",
       "      <th>Close</th>\n",
       "      <th>Rates</th>\n",
       "      <th>lag</th>\n",
       "      <th>std_1</th>\n",
       "      <th>std</th>\n",
       "    </tr>\n",
       "    <tr>\n",
       "      <th>Date</th>\n",
       "      <th></th>\n",
       "      <th></th>\n",
       "      <th></th>\n",
       "      <th></th>\n",
       "      <th></th>\n",
       "    </tr>\n",
       "  </thead>\n",
       "  <tbody>\n",
       "    <tr>\n",
       "      <th>2014-12-24</th>\n",
       "      <td>112.010002</td>\n",
       "      <td>0.03</td>\n",
       "      <td>112.540001</td>\n",
       "      <td>1.437159</td>\n",
       "      <td>0.476687</td>\n",
       "    </tr>\n",
       "    <tr>\n",
       "      <th>2014-12-26</th>\n",
       "      <td>113.989998</td>\n",
       "      <td>0.03</td>\n",
       "      <td>112.010002</td>\n",
       "      <td>0.476687</td>\n",
       "      <td>0.874396</td>\n",
       "    </tr>\n",
       "    <tr>\n",
       "      <th>2014-12-29</th>\n",
       "      <td>113.910004</td>\n",
       "      <td>0.03</td>\n",
       "      <td>113.989998</td>\n",
       "      <td>0.874396</td>\n",
       "      <td>0.862131</td>\n",
       "    </tr>\n",
       "    <tr>\n",
       "      <th>2014-12-30</th>\n",
       "      <td>112.519997</td>\n",
       "      <td>0.03</td>\n",
       "      <td>113.910004</td>\n",
       "      <td>0.862131</td>\n",
       "      <td>0.898627</td>\n",
       "    </tr>\n",
       "    <tr>\n",
       "      <th>2014-12-31</th>\n",
       "      <td>110.379997</td>\n",
       "      <td>0.03</td>\n",
       "      <td>112.519997</td>\n",
       "      <td>0.898627</td>\n",
       "      <td>1.493645</td>\n",
       "    </tr>\n",
       "  </tbody>\n",
       "</table>\n",
       "</div>"
      ],
      "text/plain": [
       "                 Close  Rates         lag     std_1       std\n",
       "Date                                                         \n",
       "2014-12-24  112.010002   0.03  112.540001  1.437159  0.476687\n",
       "2014-12-26  113.989998   0.03  112.010002  0.476687  0.874396\n",
       "2014-12-29  113.910004   0.03  113.989998  0.874396  0.862131\n",
       "2014-12-30  112.519997   0.03  113.910004  0.862131  0.898627\n",
       "2014-12-31  110.379997   0.03  112.519997  0.898627  1.493645"
      ]
     },
     "execution_count": 13,
     "metadata": {},
     "output_type": "execute_result"
    }
   ],
   "source": [
    "train_df.tail()"
   ]
  },
  {
   "cell_type": "code",
   "execution_count": 14,
   "metadata": {},
   "outputs": [
    {
     "data": {
      "text/html": [
       "<div>\n",
       "<style scoped>\n",
       "    .dataframe tbody tr th:only-of-type {\n",
       "        vertical-align: middle;\n",
       "    }\n",
       "\n",
       "    .dataframe tbody tr th {\n",
       "        vertical-align: top;\n",
       "    }\n",
       "\n",
       "    .dataframe thead th {\n",
       "        text-align: right;\n",
       "    }\n",
       "</style>\n",
       "<table border=\"1\" class=\"dataframe\">\n",
       "  <thead>\n",
       "    <tr style=\"text-align: right;\">\n",
       "      <th></th>\n",
       "      <th>Close</th>\n",
       "      <th>Rates</th>\n",
       "      <th>lag</th>\n",
       "      <th>std_1</th>\n",
       "      <th>std</th>\n",
       "    </tr>\n",
       "    <tr>\n",
       "      <th>Date</th>\n",
       "      <th></th>\n",
       "      <th></th>\n",
       "      <th></th>\n",
       "      <th></th>\n",
       "      <th></th>\n",
       "    </tr>\n",
       "  </thead>\n",
       "  <tbody>\n",
       "    <tr>\n",
       "      <th>2018-10-02</th>\n",
       "      <td>229.279999</td>\n",
       "      <td>2.03</td>\n",
       "      <td>227.259995</td>\n",
       "      <td>2.765297</td>\n",
       "      <td>3.299545</td>\n",
       "    </tr>\n",
       "    <tr>\n",
       "      <th>2018-10-03</th>\n",
       "      <td>232.070007</td>\n",
       "      <td>2.03</td>\n",
       "      <td>229.279999</td>\n",
       "      <td>3.299545</td>\n",
       "      <td>2.875024</td>\n",
       "    </tr>\n",
       "    <tr>\n",
       "      <th>2018-10-04</th>\n",
       "      <td>227.990005</td>\n",
       "      <td>2.03</td>\n",
       "      <td>232.070007</td>\n",
       "      <td>2.875024</td>\n",
       "      <td>2.385556</td>\n",
       "    </tr>\n",
       "    <tr>\n",
       "      <th>2018-10-05</th>\n",
       "      <td>224.289993</td>\n",
       "      <td>2.03</td>\n",
       "      <td>227.990005</td>\n",
       "      <td>2.385556</td>\n",
       "      <td>2.844152</td>\n",
       "    </tr>\n",
       "    <tr>\n",
       "      <th>2018-10-08</th>\n",
       "      <td>223.770004</td>\n",
       "      <td>2.03</td>\n",
       "      <td>224.289993</td>\n",
       "      <td>2.844152</td>\n",
       "      <td>3.482401</td>\n",
       "    </tr>\n",
       "  </tbody>\n",
       "</table>\n",
       "</div>"
      ],
      "text/plain": [
       "                 Close  Rates         lag     std_1       std\n",
       "Date                                                         \n",
       "2018-10-02  229.279999   2.03  227.259995  2.765297  3.299545\n",
       "2018-10-03  232.070007   2.03  229.279999  3.299545  2.875024\n",
       "2018-10-04  227.990005   2.03  232.070007  2.875024  2.385556\n",
       "2018-10-05  224.289993   2.03  227.990005  2.385556  2.844152\n",
       "2018-10-08  223.770004   2.03  224.289993  2.844152  3.482401"
      ]
     },
     "execution_count": 14,
     "metadata": {},
     "output_type": "execute_result"
    }
   ],
   "source": [
    "test_df.tail()"
   ]
  },
  {
   "cell_type": "markdown",
   "metadata": {},
   "source": [
    "To see this visually, we can make a line plot of the train and test data"
   ]
  },
  {
   "cell_type": "code",
   "execution_count": 15,
   "metadata": {},
   "outputs": [],
   "source": [
    "import matplotlib.pyplot as plt"
   ]
  },
  {
   "cell_type": "code",
   "execution_count": 16,
   "metadata": {},
   "outputs": [
    {
     "name": "stderr",
     "output_type": "stream",
     "text": [
      "/anaconda3/lib/python3.6/site-packages/pandas/core/frame.py:3778: SettingWithCopyWarning: \n",
      "A value is trying to be set on a copy of a slice from a DataFrame\n",
      "\n",
      "See the caveats in the documentation: http://pandas.pydata.org/pandas-docs/stable/indexing.html#indexing-view-versus-copy\n",
      "  return super(DataFrame, self).rename(**kwargs)\n"
     ]
    }
   ],
   "source": [
    "graph_df_train = train_df\n",
    "maper = {'Close':'Train'}\n",
    "graph_df_train.rename(maper, axis = 1, inplace=True)"
   ]
  },
  {
   "cell_type": "code",
   "execution_count": 17,
   "metadata": {},
   "outputs": [
    {
     "name": "stderr",
     "output_type": "stream",
     "text": [
      "/anaconda3/lib/python3.6/site-packages/pandas/core/frame.py:3778: SettingWithCopyWarning: \n",
      "A value is trying to be set on a copy of a slice from a DataFrame\n",
      "\n",
      "See the caveats in the documentation: http://pandas.pydata.org/pandas-docs/stable/indexing.html#indexing-view-versus-copy\n",
      "  return super(DataFrame, self).rename(**kwargs)\n"
     ]
    }
   ],
   "source": [
    "graph_df_test = test_df\n",
    "maper = {'Close':'Test'}\n",
    "graph_df_test.rename(maper, axis = 1, inplace=True)"
   ]
  },
  {
   "cell_type": "code",
   "execution_count": 18,
   "metadata": {},
   "outputs": [
    {
     "data": {
      "image/png": "[encoded data removed]",
      "text/plain": [
       "<Figure size 432x288 with 1 Axes>"
      ]
     },
     "metadata": {},
     "output_type": "display_data"
    }
   ],
   "source": [
    "plt.plot(graph_df_train['Train'])\n",
    "plt.plot(graph_df_test['Test'])\n",
    "plt.legend();"
   ]
  },
  {
   "cell_type": "markdown",
   "metadata": {},
   "source": [
    "As you can see, 2014 is a year where the pattern of a downward trend may begin again. Lets build a model to find out. "
   ]
  },
  {
   "cell_type": "code",
   "execution_count": 19,
   "metadata": {},
   "outputs": [
    {
     "data": {
      "text/html": [
       "<div>\n",
       "<style scoped>\n",
       "    .dataframe tbody tr th:only-of-type {\n",
       "        vertical-align: middle;\n",
       "    }\n",
       "\n",
       "    .dataframe tbody tr th {\n",
       "        vertical-align: top;\n",
       "    }\n",
       "\n",
       "    .dataframe thead th {\n",
       "        text-align: right;\n",
       "    }\n",
       "</style>\n",
       "<table border=\"1\" class=\"dataframe\">\n",
       "  <thead>\n",
       "    <tr style=\"text-align: right;\">\n",
       "      <th></th>\n",
       "      <th>Close</th>\n",
       "      <th>Rates</th>\n",
       "      <th>lag</th>\n",
       "      <th>std_1</th>\n",
       "      <th>std</th>\n",
       "    </tr>\n",
       "    <tr>\n",
       "      <th>Date</th>\n",
       "      <th></th>\n",
       "      <th></th>\n",
       "      <th></th>\n",
       "      <th></th>\n",
       "      <th></th>\n",
       "    </tr>\n",
       "  </thead>\n",
       "  <tbody>\n",
       "    <tr>\n",
       "      <th>2000-11-16</th>\n",
       "      <td>1.357143</td>\n",
       "      <td>6.17</td>\n",
       "      <td>1.419643</td>\n",
       "      <td>0.036949</td>\n",
       "      <td>0.038455</td>\n",
       "    </tr>\n",
       "    <tr>\n",
       "      <th>2000-11-17</th>\n",
       "      <td>1.321429</td>\n",
       "      <td>6.17</td>\n",
       "      <td>1.357143</td>\n",
       "      <td>0.038455</td>\n",
       "      <td>0.049471</td>\n",
       "    </tr>\n",
       "    <tr>\n",
       "      <th>2000-11-20</th>\n",
       "      <td>1.352679</td>\n",
       "      <td>6.17</td>\n",
       "      <td>1.321429</td>\n",
       "      <td>0.049471</td>\n",
       "      <td>0.051678</td>\n",
       "    </tr>\n",
       "    <tr>\n",
       "      <th>2000-11-21</th>\n",
       "      <td>1.343750</td>\n",
       "      <td>6.17</td>\n",
       "      <td>1.352679</td>\n",
       "      <td>0.051678</td>\n",
       "      <td>0.036623</td>\n",
       "    </tr>\n",
       "    <tr>\n",
       "      <th>2000-11-22</th>\n",
       "      <td>1.321429</td>\n",
       "      <td>6.17</td>\n",
       "      <td>1.343750</td>\n",
       "      <td>0.036623</td>\n",
       "      <td>0.016999</td>\n",
       "    </tr>\n",
       "  </tbody>\n",
       "</table>\n",
       "</div>"
      ],
      "text/plain": [
       "               Close  Rates       lag     std_1       std\n",
       "Date                                                     \n",
       "2000-11-16  1.357143   6.17  1.419643  0.036949  0.038455\n",
       "2000-11-17  1.321429   6.17  1.357143  0.038455  0.049471\n",
       "2000-11-20  1.352679   6.17  1.321429  0.049471  0.051678\n",
       "2000-11-21  1.343750   6.17  1.352679  0.051678  0.036623\n",
       "2000-11-22  1.321429   6.17  1.343750  0.036623  0.016999"
      ]
     },
     "execution_count": 19,
     "metadata": {},
     "output_type": "execute_result"
    }
   ],
   "source": [
    "df.head()"
   ]
  },
  {
   "cell_type": "code",
   "execution_count": 20,
   "metadata": {},
   "outputs": [],
   "source": [
    "train_df = df[:'2014']\n",
    "test_df = df['2015':]"
   ]
  },
  {
   "cell_type": "code",
   "execution_count": 21,
   "metadata": {},
   "outputs": [
    {
     "data": {
      "text/html": [
       "<div>\n",
       "<style scoped>\n",
       "    .dataframe tbody tr th:only-of-type {\n",
       "        vertical-align: middle;\n",
       "    }\n",
       "\n",
       "    .dataframe tbody tr th {\n",
       "        vertical-align: top;\n",
       "    }\n",
       "\n",
       "    .dataframe thead th {\n",
       "        text-align: right;\n",
       "    }\n",
       "</style>\n",
       "<table border=\"1\" class=\"dataframe\">\n",
       "  <thead>\n",
       "    <tr style=\"text-align: right;\">\n",
       "      <th></th>\n",
       "      <th>Close</th>\n",
       "      <th>Rates</th>\n",
       "      <th>lag</th>\n",
       "      <th>std_1</th>\n",
       "      <th>std</th>\n",
       "    </tr>\n",
       "    <tr>\n",
       "      <th>Date</th>\n",
       "      <th></th>\n",
       "      <th></th>\n",
       "      <th></th>\n",
       "      <th></th>\n",
       "      <th></th>\n",
       "    </tr>\n",
       "  </thead>\n",
       "  <tbody>\n",
       "    <tr>\n",
       "      <th>2015-01-02</th>\n",
       "      <td>109.330002</td>\n",
       "      <td>0.03</td>\n",
       "      <td>110.379997</td>\n",
       "      <td>1.493645</td>\n",
       "      <td>2.099317</td>\n",
       "    </tr>\n",
       "    <tr>\n",
       "      <th>2015-01-05</th>\n",
       "      <td>106.250000</td>\n",
       "      <td>0.03</td>\n",
       "      <td>109.330002</td>\n",
       "      <td>2.099317</td>\n",
       "      <td>2.964452</td>\n",
       "    </tr>\n",
       "    <tr>\n",
       "      <th>2015-01-06</th>\n",
       "      <td>106.260002</td>\n",
       "      <td>0.03</td>\n",
       "      <td>106.250000</td>\n",
       "      <td>2.964452</td>\n",
       "      <td>2.713864</td>\n",
       "    </tr>\n",
       "    <tr>\n",
       "      <th>2015-01-07</th>\n",
       "      <td>107.750000</td>\n",
       "      <td>0.03</td>\n",
       "      <td>106.260002</td>\n",
       "      <td>2.713864</td>\n",
       "      <td>1.842940</td>\n",
       "    </tr>\n",
       "    <tr>\n",
       "      <th>2015-01-08</th>\n",
       "      <td>111.889999</td>\n",
       "      <td>0.03</td>\n",
       "      <td>107.750000</td>\n",
       "      <td>1.842940</td>\n",
       "      <td>2.377788</td>\n",
       "    </tr>\n",
       "  </tbody>\n",
       "</table>\n",
       "</div>"
      ],
      "text/plain": [
       "                 Close  Rates         lag     std_1       std\n",
       "Date                                                         \n",
       "2015-01-02  109.330002   0.03  110.379997  1.493645  2.099317\n",
       "2015-01-05  106.250000   0.03  109.330002  2.099317  2.964452\n",
       "2015-01-06  106.260002   0.03  106.250000  2.964452  2.713864\n",
       "2015-01-07  107.750000   0.03  106.260002  2.713864  1.842940\n",
       "2015-01-08  111.889999   0.03  107.750000  1.842940  2.377788"
      ]
     },
     "execution_count": 21,
     "metadata": {},
     "output_type": "execute_result"
    }
   ],
   "source": [
    "test_df.head()"
   ]
  },
  {
   "cell_type": "markdown",
   "metadata": {},
   "source": [
    "Scale Data"
   ]
  },
  {
   "cell_type": "code",
   "execution_count": 22,
   "metadata": {},
   "outputs": [],
   "source": [
    "from sklearn.preprocessing import MinMaxScaler"
   ]
  },
  {
   "cell_type": "code",
   "execution_count": 23,
   "metadata": {},
   "outputs": [],
   "source": [
    "scaler = MinMaxScaler()"
   ]
  },
  {
   "cell_type": "code",
   "execution_count": 24,
   "metadata": {},
   "outputs": [],
   "source": [
    "#X_train = train_df[['lag', 'std_1', 'Rates']].values\n",
    "#X_test = test_df[['lag', 'std_1', 'Rates']].values"
   ]
  },
  {
   "cell_type": "code",
   "execution_count": 25,
   "metadata": {},
   "outputs": [],
   "source": [
    "X_train = train_df[['lag']].values\n",
    "X_test = test_df[['lag']].values"
   ]
  },
  {
   "cell_type": "code",
   "execution_count": 26,
   "metadata": {},
   "outputs": [
    {
     "data": {
      "text/plain": [
       "array([[  1.419643],\n",
       "       [  1.357143],\n",
       "       [  1.321429],\n",
       "       ...,\n",
       "       [113.989998],\n",
       "       [113.910004],\n",
       "       [112.519997]])"
      ]
     },
     "execution_count": 26,
     "metadata": {},
     "output_type": "execute_result"
    }
   ],
   "source": [
    "X_train"
   ]
  },
  {
   "cell_type": "code",
   "execution_count": 27,
   "metadata": {},
   "outputs": [],
   "source": [
    "train_df_sc = scaler.fit_transform(X_train)\n",
    "test_df_sc = scaler.transform(X_test)"
   ]
  },
  {
   "cell_type": "code",
   "execution_count": 28,
   "metadata": {},
   "outputs": [
    {
     "name": "stdout",
     "output_type": "stream",
     "text": [
      "(3551, 1)\n",
      "(949, 1)\n"
     ]
    }
   ],
   "source": [
    "print(train_df_sc.shape)\n",
    "print(test_df_sc.shape)"
   ]
  },
  {
   "cell_type": "code",
   "execution_count": 29,
   "metadata": {},
   "outputs": [
    {
     "data": {
      "text/plain": [
       "array([[0.00408681],\n",
       "       [0.00355743],\n",
       "       [0.00325493],\n",
       "       ...,\n",
       "       [0.95756496],\n",
       "       [0.95688741],\n",
       "       [0.94511396]])"
      ]
     },
     "execution_count": 29,
     "metadata": {},
     "output_type": "execute_result"
    }
   ],
   "source": [
    "train_df_sc"
   ]
  },
  {
   "cell_type": "code",
   "execution_count": 30,
   "metadata": {},
   "outputs": [],
   "source": [
    "from sklearn.svm import SVR"
   ]
  },
  {
   "cell_type": "code",
   "execution_count": 31,
   "metadata": {},
   "outputs": [],
   "source": [
    "svr = SVR()"
   ]
  },
  {
   "cell_type": "code",
   "execution_count": 32,
   "metadata": {},
   "outputs": [],
   "source": [
    "y_train = train_df['Close'].values.reshape(-1,1)"
   ]
  },
  {
   "cell_type": "code",
   "execution_count": 33,
   "metadata": {},
   "outputs": [
    {
     "data": {
      "text/plain": [
       "3551"
      ]
     },
     "execution_count": 33,
     "metadata": {},
     "output_type": "execute_result"
    }
   ],
   "source": [
    "len(X_train)"
   ]
  },
  {
   "cell_type": "code",
   "execution_count": 34,
   "metadata": {},
   "outputs": [
    {
     "data": {
      "text/plain": [
       "3551"
      ]
     },
     "execution_count": 34,
     "metadata": {},
     "output_type": "execute_result"
    }
   ],
   "source": [
    "len(y_train)"
   ]
  },
  {
   "cell_type": "code",
   "execution_count": 35,
   "metadata": {},
   "outputs": [
    {
     "name": "stderr",
     "output_type": "stream",
     "text": [
      "/anaconda3/lib/python3.6/site-packages/sklearn/utils/validation.py:578: DataConversionWarning: A column-vector y was passed when a 1d array was expected. Please change the shape of y to (n_samples, ), for example using ravel().\n",
      "  y = column_or_1d(y, warn=True)\n"
     ]
    },
    {
     "data": {
      "text/plain": [
       "SVR(C=1.0, cache_size=200, coef0=0.0, degree=3, epsilon=0.1, gamma='auto',\n",
       "  kernel='rbf', max_iter=-1, shrinking=True, tol=0.001, verbose=False)"
      ]
     },
     "execution_count": 35,
     "metadata": {},
     "output_type": "execute_result"
    }
   ],
   "source": [
    "svr.fit(X_train, y_train)"
   ]
  },
  {
   "cell_type": "code",
   "execution_count": 36,
   "metadata": {},
   "outputs": [],
   "source": [
    "y_pred = svr.predict(X_test)"
   ]
  },
  {
   "cell_type": "code",
   "execution_count": 37,
   "metadata": {},
   "outputs": [
    {
     "data": {
      "text/plain": [
       "949"
      ]
     },
     "execution_count": 37,
     "metadata": {},
     "output_type": "execute_result"
    }
   ],
   "source": [
    "len(y_pred)"
   ]
  },
  {
   "cell_type": "code",
   "execution_count": 38,
   "metadata": {},
   "outputs": [
    {
     "data": {
      "text/plain": [
       "[<matplotlib.lines.Line2D at 0x1a1d438550>]"
      ]
     },
     "execution_count": 38,
     "metadata": {},
     "output_type": "execute_result"
    },
    {
     "data": {
      "image/png": "[encoded data removed]",
      "text/plain": [
       "<Figure size 432x288 with 1 Axes>"
      ]
     },
     "metadata": {},
     "output_type": "display_data"
    }
   ],
   "source": [
    "\n",
    "plt.plot(y_pred)"
   ]
  },
  {
   "cell_type": "code",
   "execution_count": 39,
   "metadata": {},
   "outputs": [],
   "source": [
    "y_test = test_df['Close'].values"
   ]
  },
  {
   "cell_type": "code",
   "execution_count": 40,
   "metadata": {},
   "outputs": [
    {
     "data": {
      "text/plain": [
       "[<matplotlib.lines.Line2D at 0x1a1d4ee198>]"
      ]
     },
     "execution_count": 40,
     "metadata": {},
     "output_type": "execute_result"
    },
    {
     "data": {
      "image/png": "[encoded data removed]",
      "text/plain": [
       "<Figure size 432x288 with 1 Axes>"
      ]
     },
     "metadata": {},
     "output_type": "display_data"
    }
   ],
   "source": [
    "plt.plot(test_df['Close'])"
   ]
  },
  {
   "cell_type": "code",
   "execution_count": 41,
   "metadata": {},
   "outputs": [],
   "source": [
    "from sklearn.metrics import r2_score"
   ]
  },
  {
   "cell_type": "code",
   "execution_count": 42,
   "metadata": {},
   "outputs": [
    {
     "data": {
      "text/plain": [
       "-185.41590425850097"
      ]
     },
     "execution_count": 42,
     "metadata": {},
     "output_type": "execute_result"
    }
   ],
   "source": [
    "r2_score(y_pred, test_df['Close'])"
   ]
  },
  {
   "cell_type": "code",
   "execution_count": 43,
   "metadata": {},
   "outputs": [
    {
     "name": "stderr",
     "output_type": "stream",
     "text": [
      "/anaconda3/lib/python3.6/site-packages/h5py/__init__.py:36: FutureWarning: Conversion of the second argument of issubdtype from `float` to `np.floating` is deprecated. In future, it will be treated as `np.float64 == np.dtype(float).type`.\n",
      "  from ._conv import register_converters as _register_converters\n",
      "Using TensorFlow backend.\n"
     ]
    },
    {
     "name": "stdout",
     "output_type": "stream",
     "text": [
      "Couldn't import dot_parser, loading of dot files will not be possible.\n"
     ]
    }
   ],
   "source": [
    "from keras.models import Sequential\n",
    "from keras.layers import Dense\n",
    "from keras.optimizers import Adam"
   ]
  },
  {
   "cell_type": "code",
   "execution_count": null,
   "metadata": {},
   "outputs": [],
   "source": []
  },
  {
   "cell_type": "code",
   "execution_count": 44,
   "metadata": {},
   "outputs": [
    {
     "name": "stdout",
     "output_type": "stream",
     "text": [
      "Epoch 1/200\n",
      "3551/3551 [==============================] - 1s 239us/step - loss: 1542.0230\n",
      "Epoch 2/200\n",
      "3551/3551 [==============================] - 0s 137us/step - loss: 851.9328\n",
      "Epoch 3/200\n",
      "3551/3551 [==============================] - 0s 138us/step - loss: 363.0287\n",
      "Epoch 4/200\n",
      "3551/3551 [==============================] - 0s 121us/step - loss: 113.9498\n",
      "Epoch 5/200\n",
      "3551/3551 [==============================] - 1s 141us/step - loss: 43.2694\n",
      "Epoch 6/200\n",
      "3551/3551 [==============================] - 0s 140us/step - loss: 23.1289\n",
      "Epoch 7/200\n",
      "3551/3551 [==============================] - 0s 136us/step - loss: 16.3198\n",
      "Epoch 8/200\n",
      "3551/3551 [==============================] - 1s 142us/step - loss: 13.0710\n",
      "Epoch 9/200\n",
      "3551/3551 [==============================] - 1s 174us/step - loss: 10.5804\n",
      "Epoch 10/200\n",
      "3551/3551 [==============================] - 1s 155us/step - loss: 7.9170\n",
      "Epoch 11/200\n",
      "3551/3551 [==============================] - 1s 143us/step - loss: 5.9108\n",
      "Epoch 12/200\n",
      "3551/3551 [==============================] - 0s 138us/step - loss: 4.1559\n",
      "Epoch 13/200\n",
      "3551/3551 [==============================] - 1s 149us/step - loss: 3.2795\n",
      "Epoch 14/200\n",
      "3551/3551 [==============================] - 1s 150us/step - loss: 2.4535\n",
      "Epoch 15/200\n",
      "3551/3551 [==============================] - 1s 190us/step - loss: 2.0873\n",
      "Epoch 16/200\n",
      "3551/3551 [==============================] - 1s 199us/step - loss: 1.8832\n",
      "Epoch 17/200\n",
      "3551/3551 [==============================] - 0s 129us/step - loss: 1.6450\n",
      "Epoch 18/200\n",
      "3551/3551 [==============================] - 0s 104us/step - loss: 1.8088\n",
      "Epoch 19/200\n",
      "3551/3551 [==============================] - 0s 103us/step - loss: 1.4264\n",
      "Epoch 20/200\n",
      "3551/3551 [==============================] - 0s 105us/step - loss: 1.5804\n",
      "Epoch 21/200\n",
      "3551/3551 [==============================] - 0s 128us/step - loss: 1.3664\n",
      "Epoch 22/200\n",
      "3551/3551 [==============================] - 0s 138us/step - loss: 1.3390\n",
      "Epoch 23/200\n",
      "3551/3551 [==============================] - 0s 122us/step - loss: 1.6593\n",
      "Epoch 24/200\n",
      "3551/3551 [==============================] - 1s 147us/step - loss: 1.2124\n",
      "Epoch 25/200\n",
      "3551/3551 [==============================] - 0s 117us/step - loss: 1.3689\n",
      "Epoch 26/200\n",
      "3551/3551 [==============================] - 1s 180us/step - loss: 1.3871\n",
      "Epoch 27/200\n",
      "3551/3551 [==============================] - 0s 131us/step - loss: 1.4500\n",
      "Epoch 28/200\n",
      "3551/3551 [==============================] - 0s 115us/step - loss: 1.2291\n",
      "Epoch 29/200\n",
      "3551/3551 [==============================] - 0s 103us/step - loss: 1.2893\n",
      "Epoch 30/200\n",
      "3551/3551 [==============================] - 0s 105us/step - loss: 1.1289\n",
      "Epoch 31/200\n",
      "3551/3551 [==============================] - 0s 123us/step - loss: 1.0800\n",
      "Epoch 32/200\n",
      "3551/3551 [==============================] - 0s 105us/step - loss: 1.2767\n",
      "Epoch 33/200\n",
      "3551/3551 [==============================] - 0s 102us/step - loss: 1.2050\n",
      "Epoch 34/200\n",
      "3551/3551 [==============================] - 0s 137us/step - loss: 1.0740\n",
      "Epoch 35/200\n",
      "3551/3551 [==============================] - 0s 125us/step - loss: 1.0913\n",
      "Epoch 36/200\n",
      "3551/3551 [==============================] - 0s 101us/step - loss: 1.1715\n",
      "Epoch 37/200\n",
      "3551/3551 [==============================] - 0s 102us/step - loss: 1.2575\n",
      "Epoch 38/200\n",
      "3551/3551 [==============================] - 0s 103us/step - loss: 0.9816\n",
      "Epoch 39/200\n",
      "3551/3551 [==============================] - 0s 110us/step - loss: 0.9617\n",
      "Epoch 40/200\n",
      "3551/3551 [==============================] - 0s 123us/step - loss: 1.3840\n",
      "Epoch 41/200\n",
      "3551/3551 [==============================] - 0s 101us/step - loss: 0.9953\n",
      "Epoch 42/200\n",
      "3551/3551 [==============================] - 0s 102us/step - loss: 0.9274\n",
      "Epoch 43/200\n",
      "3551/3551 [==============================] - 0s 103us/step - loss: 0.8607\n",
      "Epoch 44/200\n",
      "3551/3551 [==============================] - 0s 102us/step - loss: 1.1127\n",
      "Epoch 45/200\n",
      "3551/3551 [==============================] - 0s 103us/step - loss: 1.1416\n",
      "Epoch 46/200\n",
      "3551/3551 [==============================] - 0s 104us/step - loss: 1.0029\n",
      "Epoch 47/200\n",
      "3551/3551 [==============================] - 0s 130us/step - loss: 0.8351\n",
      "Epoch 48/200\n",
      "3551/3551 [==============================] - 0s 128us/step - loss: 1.0402\n",
      "Epoch 49/200\n",
      "3551/3551 [==============================] - 1s 148us/step - loss: 1.0421\n",
      "Epoch 50/200\n",
      "3551/3551 [==============================] - 0s 123us/step - loss: 0.9092\n",
      "Epoch 51/200\n",
      "3551/3551 [==============================] - 0s 101us/step - loss: 0.8613\n",
      "Epoch 52/200\n",
      "3551/3551 [==============================] - 0s 102us/step - loss: 0.8559\n",
      "Epoch 53/200\n",
      "3551/3551 [==============================] - 0s 134us/step - loss: 1.6166\n",
      "Epoch 54/200\n",
      "3551/3551 [==============================] - 0s 103us/step - loss: 0.8478\n",
      "Epoch 55/200\n",
      "3551/3551 [==============================] - 1s 153us/step - loss: 0.9820\n",
      "Epoch 56/200\n",
      "3551/3551 [==============================] - 1s 155us/step - loss: 0.9526\n",
      "Epoch 57/200\n",
      "3551/3551 [==============================] - 1s 168us/step - loss: 0.9032\n",
      "Epoch 58/200\n",
      "3551/3551 [==============================] - 1s 144us/step - loss: 0.9155\n",
      "Epoch 59/200\n",
      "3551/3551 [==============================] - 1s 185us/step - loss: 0.9480\n",
      "Epoch 60/200\n",
      "3551/3551 [==============================] - 1s 194us/step - loss: 0.9501\n",
      "Epoch 61/200\n",
      "3551/3551 [==============================] - 1s 178us/step - loss: 0.8572\n",
      "Epoch 62/200\n",
      "3551/3551 [==============================] - 1s 206us/step - loss: 0.7969\n",
      "Epoch 63/200\n",
      "3551/3551 [==============================] - 1s 192us/step - loss: 0.8461\n",
      "Epoch 64/200\n",
      "3551/3551 [==============================] - 0s 140us/step - loss: 0.8052\n",
      "Epoch 65/200\n",
      "3551/3551 [==============================] - 0s 120us/step - loss: 0.8808\n",
      "Epoch 66/200\n",
      "3551/3551 [==============================] - 0s 117us/step - loss: 0.8490\n",
      "Epoch 67/200\n",
      "3551/3551 [==============================] - 0s 135us/step - loss: 0.8040\n",
      "Epoch 68/200\n",
      "3551/3551 [==============================] - 0s 132us/step - loss: 0.9163\n",
      "Epoch 69/200\n",
      "3551/3551 [==============================] - 0s 103us/step - loss: 0.9155\n",
      "Epoch 70/200\n",
      "3551/3551 [==============================] - 0s 103us/step - loss: 0.9340\n",
      "Epoch 71/200\n",
      "3551/3551 [==============================] - 0s 103us/step - loss: 1.0077\n",
      "Epoch 72/200\n",
      "3551/3551 [==============================] - 0s 104us/step - loss: 0.9883\n",
      "Epoch 73/200\n",
      "3551/3551 [==============================] - 0s 103us/step - loss: 0.8228\n",
      "Epoch 74/200\n",
      "3551/3551 [==============================] - 0s 103us/step - loss: 0.8358\n",
      "Epoch 75/200\n",
      "3551/3551 [==============================] - 0s 104us/step - loss: 1.0103\n",
      "Epoch 76/200\n",
      "3551/3551 [==============================] - 0s 103us/step - loss: 0.8616\n",
      "Epoch 77/200\n",
      "3551/3551 [==============================] - 0s 104us/step - loss: 0.9957\n",
      "Epoch 78/200\n",
      "3551/3551 [==============================] - 0s 126us/step - loss: 0.8735\n",
      "Epoch 79/200\n",
      "3551/3551 [==============================] - 0s 125us/step - loss: 0.7570\n",
      "Epoch 80/200\n",
      "3551/3551 [==============================] - 0s 134us/step - loss: 0.9409\n",
      "Epoch 81/200\n",
      "3551/3551 [==============================] - 0s 139us/step - loss: 1.0129\n",
      "Epoch 82/200\n",
      "3551/3551 [==============================] - 0s 118us/step - loss: 0.7115\n",
      "Epoch 83/200\n",
      "3551/3551 [==============================] - 0s 135us/step - loss: 0.8142\n",
      "Epoch 84/200\n",
      "3551/3551 [==============================] - 0s 114us/step - loss: 0.7978\n",
      "Epoch 85/200\n",
      "3551/3551 [==============================] - 0s 103us/step - loss: 0.8516\n",
      "Epoch 86/200\n",
      "3551/3551 [==============================] - 0s 124us/step - loss: 0.8231\n",
      "Epoch 87/200\n",
      "3551/3551 [==============================] - 0s 122us/step - loss: 1.1198\n",
      "Epoch 88/200\n",
      "3551/3551 [==============================] - 0s 133us/step - loss: 1.0903\n",
      "Epoch 89/200\n",
      "3551/3551 [==============================] - 0s 137us/step - loss: 0.7978\n",
      "Epoch 90/200\n",
      "3551/3551 [==============================] - 0s 103us/step - loss: 0.7900\n",
      "Epoch 91/200\n",
      "3551/3551 [==============================] - 0s 103us/step - loss: 0.8071\n",
      "Epoch 92/200\n",
      "3551/3551 [==============================] - 0s 102us/step - loss: 0.7567\n",
      "Epoch 93/200\n",
      "3551/3551 [==============================] - 0s 103us/step - loss: 0.8856\n",
      "Epoch 94/200\n",
      "3551/3551 [==============================] - 0s 112us/step - loss: 1.0898\n",
      "Epoch 95/200\n"
     ]
    },
    {
     "name": "stdout",
     "output_type": "stream",
     "text": [
      "3551/3551 [==============================] - 0s 124us/step - loss: 0.7166\n",
      "Epoch 96/200\n",
      "3551/3551 [==============================] - 0s 104us/step - loss: 0.8745\n",
      "Epoch 97/200\n",
      "3551/3551 [==============================] - 0s 103us/step - loss: 0.8186\n",
      "Epoch 98/200\n",
      "3551/3551 [==============================] - 0s 121us/step - loss: 0.7937\n",
      "Epoch 99/200\n",
      "3551/3551 [==============================] - 0s 116us/step - loss: 0.8722\n",
      "Epoch 100/200\n",
      "3551/3551 [==============================] - 0s 103us/step - loss: 0.6665\n",
      "Epoch 101/200\n",
      "3551/3551 [==============================] - 0s 103us/step - loss: 0.9045\n",
      "Epoch 102/200\n",
      "3551/3551 [==============================] - 0s 107us/step - loss: 0.7695\n",
      "Epoch 103/200\n",
      "3551/3551 [==============================] - 0s 102us/step - loss: 0.6983\n",
      "Epoch 104/200\n",
      "3551/3551 [==============================] - 0s 130us/step - loss: 0.7006\n",
      "Epoch 105/200\n",
      "3551/3551 [==============================] - 0s 104us/step - loss: 0.8256\n",
      "Epoch 106/200\n",
      "3551/3551 [==============================] - 0s 103us/step - loss: 0.8743\n",
      "Epoch 107/200\n",
      "3551/3551 [==============================] - 0s 104us/step - loss: 0.8392\n",
      "Epoch 108/200\n",
      "3551/3551 [==============================] - 0s 113us/step - loss: 0.9037\n",
      "Epoch 109/200\n",
      "3551/3551 [==============================] - 0s 134us/step - loss: 0.8706\n",
      "Epoch 110/200\n",
      "3551/3551 [==============================] - 0s 104us/step - loss: 0.7908\n",
      "Epoch 111/200\n",
      "3551/3551 [==============================] - 0s 103us/step - loss: 0.8533\n",
      "Epoch 112/200\n",
      "3551/3551 [==============================] - 0s 103us/step - loss: 0.7571\n",
      "Epoch 113/200\n",
      "3551/3551 [==============================] - 0s 103us/step - loss: 0.7464\n",
      "Epoch 114/200\n",
      "3551/3551 [==============================] - 0s 103us/step - loss: 1.1010\n",
      "Epoch 115/200\n",
      "3551/3551 [==============================] - 0s 104us/step - loss: 0.7519\n",
      "Epoch 116/200\n",
      "3551/3551 [==============================] - 0s 101us/step - loss: 0.8139\n",
      "Epoch 117/200\n",
      "3551/3551 [==============================] - 0s 131us/step - loss: 1.0907\n",
      "Epoch 118/200\n",
      "3551/3551 [==============================] - 0s 102us/step - loss: 1.0110\n",
      "Epoch 119/200\n",
      "3551/3551 [==============================] - 0s 103us/step - loss: 0.8325\n",
      "Epoch 120/200\n",
      "3551/3551 [==============================] - 0s 103us/step - loss: 1.0016\n",
      "Epoch 121/200\n",
      "3551/3551 [==============================] - 0s 107us/step - loss: 0.7786\n",
      "Epoch 122/200\n",
      "3551/3551 [==============================] - 0s 135us/step - loss: 0.7584\n",
      "Epoch 123/200\n",
      "3551/3551 [==============================] - 0s 118us/step - loss: 0.7440\n",
      "Epoch 124/200\n",
      "3551/3551 [==============================] - 1s 142us/step - loss: 0.7215\n",
      "Epoch 125/200\n",
      "3551/3551 [==============================] - 0s 106us/step - loss: 0.8902\n",
      "Epoch 126/200\n",
      "3551/3551 [==============================] - 0s 104us/step - loss: 0.9751\n",
      "Epoch 127/200\n",
      "3551/3551 [==============================] - 0s 108us/step - loss: 0.7148\n",
      "Epoch 128/200\n",
      "3551/3551 [==============================] - 0s 124us/step - loss: 0.8012\n",
      "Epoch 129/200\n",
      "3551/3551 [==============================] - 0s 102us/step - loss: 0.8074\n",
      "Epoch 130/200\n",
      "3551/3551 [==============================] - 0s 115us/step - loss: 0.9494\n",
      "Epoch 131/200\n",
      "3551/3551 [==============================] - 0s 125us/step - loss: 0.7878\n",
      "Epoch 132/200\n",
      "3551/3551 [==============================] - 0s 102us/step - loss: 0.8289\n",
      "Epoch 133/200\n",
      "3551/3551 [==============================] - 0s 120us/step - loss: 0.9875\n",
      "Epoch 134/200\n",
      "3551/3551 [==============================] - 0s 107us/step - loss: 0.7230\n",
      "Epoch 135/200\n",
      "3551/3551 [==============================] - 0s 103us/step - loss: 0.7368\n",
      "Epoch 136/200\n",
      "3551/3551 [==============================] - 0s 130us/step - loss: 0.7567\n",
      "Epoch 137/200\n",
      "3551/3551 [==============================] - 0s 137us/step - loss: 0.8735\n",
      "Epoch 138/200\n",
      "3551/3551 [==============================] - 0s 113us/step - loss: 0.7779\n",
      "Epoch 139/200\n",
      "3551/3551 [==============================] - 0s 103us/step - loss: 0.7702\n",
      "Epoch 140/200\n",
      "3551/3551 [==============================] - 0s 102us/step - loss: 0.8356\n",
      "Epoch 141/200\n",
      "3551/3551 [==============================] - 0s 104us/step - loss: 0.8710\n",
      "Epoch 142/200\n",
      "3551/3551 [==============================] - 0s 103us/step - loss: 0.8069\n",
      "Epoch 143/200\n",
      "3551/3551 [==============================] - 0s 102us/step - loss: 0.7132\n",
      "Epoch 144/200\n",
      "3551/3551 [==============================] - 0s 102us/step - loss: 0.8911\n",
      "Epoch 145/200\n",
      "3551/3551 [==============================] - 0s 102us/step - loss: 0.7626\n",
      "Epoch 146/200\n",
      "3551/3551 [==============================] - 0s 136us/step - loss: 0.7939\n",
      "Epoch 147/200\n",
      "3551/3551 [==============================] - 0s 107us/step - loss: 0.7425\n",
      "Epoch 148/200\n",
      "3551/3551 [==============================] - 0s 103us/step - loss: 0.7801\n",
      "Epoch 149/200\n",
      "3551/3551 [==============================] - 0s 102us/step - loss: 0.6764\n",
      "Epoch 150/200\n",
      "3551/3551 [==============================] - 0s 102us/step - loss: 0.8378\n",
      "Epoch 151/200\n",
      "3551/3551 [==============================] - 0s 102us/step - loss: 0.9868\n",
      "Epoch 152/200\n",
      "3551/3551 [==============================] - 0s 102us/step - loss: 0.7697\n",
      "Epoch 153/200\n",
      "3551/3551 [==============================] - 0s 102us/step - loss: 0.7183\n",
      "Epoch 154/200\n",
      "3551/3551 [==============================] - 0s 103us/step - loss: 0.7168\n",
      "Epoch 155/200\n",
      "3551/3551 [==============================] - 0s 119us/step - loss: 0.9360\n",
      "Epoch 156/200\n",
      "3551/3551 [==============================] - 0s 140us/step - loss: 0.8886\n",
      "Epoch 157/200\n",
      "3551/3551 [==============================] - 1s 145us/step - loss: 0.8010\n",
      "Epoch 158/200\n",
      "3551/3551 [==============================] - 0s 106us/step - loss: 0.7353\n",
      "Epoch 159/200\n",
      "3551/3551 [==============================] - 0s 124us/step - loss: 0.7754\n",
      "Epoch 160/200\n",
      "3551/3551 [==============================] - 1s 161us/step - loss: 0.8882\n",
      "Epoch 161/200\n",
      "3551/3551 [==============================] - 0s 134us/step - loss: 0.9130\n",
      "Epoch 162/200\n",
      "3551/3551 [==============================] - 1s 151us/step - loss: 0.7175\n",
      "Epoch 163/200\n",
      "3551/3551 [==============================] - 0s 112us/step - loss: 0.8480\n",
      "Epoch 164/200\n",
      "3551/3551 [==============================] - 0s 103us/step - loss: 0.7095\n",
      "Epoch 165/200\n",
      "3551/3551 [==============================] - 0s 103us/step - loss: 0.6605\n",
      "Epoch 166/200\n",
      "3551/3551 [==============================] - 0s 103us/step - loss: 0.8636\n",
      "Epoch 167/200\n",
      "3551/3551 [==============================] - 0s 102us/step - loss: 0.7386\n",
      "Epoch 168/200\n",
      "3551/3551 [==============================] - 0s 104us/step - loss: 1.0686\n",
      "Epoch 169/200\n",
      "3551/3551 [==============================] - 0s 122us/step - loss: 0.6734\n",
      "Epoch 170/200\n",
      "3551/3551 [==============================] - 1s 142us/step - loss: 0.7552\n",
      "Epoch 171/200\n",
      "3551/3551 [==============================] - 0s 136us/step - loss: 0.8658\n",
      "Epoch 172/200\n",
      "3551/3551 [==============================] - 0s 138us/step - loss: 0.7988\n",
      "Epoch 173/200\n",
      "3551/3551 [==============================] - 0s 110us/step - loss: 0.6875\n",
      "Epoch 174/200\n",
      "3551/3551 [==============================] - 0s 118us/step - loss: 0.8436\n",
      "Epoch 175/200\n",
      "3551/3551 [==============================] - 0s 125us/step - loss: 0.7456\n",
      "Epoch 176/200\n",
      "3551/3551 [==============================] - 0s 102us/step - loss: 0.8749\n",
      "Epoch 177/200\n",
      "3551/3551 [==============================] - 0s 103us/step - loss: 0.8666\n",
      "Epoch 178/200\n",
      "3551/3551 [==============================] - 0s 103us/step - loss: 1.0265\n",
      "Epoch 179/200\n",
      "3551/3551 [==============================] - 0s 102us/step - loss: 0.9077\n",
      "Epoch 180/200\n",
      "3551/3551 [==============================] - 0s 134us/step - loss: 0.8160\n",
      "Epoch 181/200\n",
      "3551/3551 [==============================] - 0s 104us/step - loss: 0.7216\n",
      "Epoch 182/200\n",
      "3551/3551 [==============================] - 0s 103us/step - loss: 0.7473\n",
      "Epoch 183/200\n",
      "3551/3551 [==============================] - 1s 144us/step - loss: 0.7576\n",
      "Epoch 184/200\n",
      "3551/3551 [==============================] - 0s 114us/step - loss: 0.7918\n",
      "Epoch 185/200\n",
      "3551/3551 [==============================] - 0s 102us/step - loss: 0.8163\n",
      "Epoch 186/200\n",
      "3551/3551 [==============================] - 0s 103us/step - loss: 0.9135\n",
      "Epoch 187/200\n",
      "3551/3551 [==============================] - 0s 102us/step - loss: 0.8261\n",
      "Epoch 188/200\n"
     ]
    },
    {
     "name": "stdout",
     "output_type": "stream",
     "text": [
      "3551/3551 [==============================] - 0s 103us/step - loss: 0.7981\n",
      "Epoch 189/200\n",
      "3551/3551 [==============================] - 0s 102us/step - loss: 0.8229\n",
      "Epoch 190/200\n",
      "3551/3551 [==============================] - 0s 102us/step - loss: 0.7698\n",
      "Epoch 191/200\n",
      "3551/3551 [==============================] - 0s 104us/step - loss: 0.7238\n",
      "Epoch 192/200\n",
      "3551/3551 [==============================] - 0s 103us/step - loss: 0.7560\n",
      "Epoch 193/200\n",
      "3551/3551 [==============================] - 1s 223us/step - loss: 1.4052\n",
      "Epoch 194/200\n",
      "3551/3551 [==============================] - 1s 149us/step - loss: 0.9496\n",
      "Epoch 195/200\n",
      "3551/3551 [==============================] - 1s 144us/step - loss: 0.7761\n",
      "Epoch 196/200\n",
      "3551/3551 [==============================] - 1s 141us/step - loss: 0.7100\n",
      "Epoch 197/200\n",
      "3551/3551 [==============================] - 1s 207us/step - loss: 0.8086\n",
      "Epoch 198/200\n",
      "3551/3551 [==============================] - 1s 178us/step - loss: 0.7345\n",
      "Epoch 199/200\n",
      "3551/3551 [==============================] - 1s 145us/step - loss: 0.6888\n",
      "Epoch 200/200\n",
      "3551/3551 [==============================] - 1s 182us/step - loss: 0.7222\n"
     ]
    },
    {
     "data": {
      "text/plain": [
       "<keras.callbacks.History at 0x1a33e21e10>"
      ]
     },
     "execution_count": 44,
     "metadata": {},
     "output_type": "execute_result"
    }
   ],
   "source": [
    "model = Sequential()\n",
    "model.add(Dense(10, input_shape=(X_test.shape[1],), activation='tanh', kernel_initializer='lecun_uniform'))\n",
    "model.add(Dense(10, input_shape=(X_test.shape[1],)))\n",
    "model.add(Dense(1))\n",
    "model.compile(optimizer='adam', loss='mean_squared_error')\n",
    "model.fit(X_train, y_train, batch_size=16, epochs=200, verbose=1)\n",
    "#EarlyStopping(monitor='val_loss', min_delta=0.1, patience=.1, verbose=0, mode='auto')"
   ]
  },
  {
   "cell_type": "code",
   "execution_count": 45,
   "metadata": {
    "scrolled": false
   },
   "outputs": [
    {
     "data": {
      "text/plain": [
       "0.30113446971217006"
      ]
     },
     "execution_count": 45,
     "metadata": {},
     "output_type": "execute_result"
    },
    {
     "data": {
      "image/png": "[encoded data removed]",
      "text/plain": [
       "<Figure size 1440x720 with 1 Axes>"
      ]
     },
     "metadata": {},
     "output_type": "display_data"
    }
   ],
   "source": [
    "plt.figure(figsize=(20,10))\n",
    "y_pred = model.predict(X_test)\n",
    "plt.plot(y_test, label = 'Actual')\n",
    "plt.plot(y_pred, label = 'Predictions')\n",
    "plt.legend()\n",
    "r2_score(y_test, y_pred)"
   ]
  },
  {
   "cell_type": "code",
   "execution_count": 46,
   "metadata": {},
   "outputs": [],
   "source": [
    "import numpy as np"
   ]
  },
  {
   "cell_type": "code",
   "execution_count": 47,
   "metadata": {},
   "outputs": [
    {
     "data": {
      "text/html": [
       "<div>\n",
       "<style scoped>\n",
       "    .dataframe tbody tr th:only-of-type {\n",
       "        vertical-align: middle;\n",
       "    }\n",
       "\n",
       "    .dataframe tbody tr th {\n",
       "        vertical-align: top;\n",
       "    }\n",
       "\n",
       "    .dataframe thead th {\n",
       "        text-align: right;\n",
       "    }\n",
       "</style>\n",
       "<table border=\"1\" class=\"dataframe\">\n",
       "  <thead>\n",
       "    <tr style=\"text-align: right;\">\n",
       "      <th></th>\n",
       "      <th>Close</th>\n",
       "      <th>Rates</th>\n",
       "      <th>lag</th>\n",
       "      <th>std_1</th>\n",
       "      <th>std</th>\n",
       "    </tr>\n",
       "    <tr>\n",
       "      <th>Date</th>\n",
       "      <th></th>\n",
       "      <th></th>\n",
       "      <th></th>\n",
       "      <th></th>\n",
       "      <th></th>\n",
       "    </tr>\n",
       "  </thead>\n",
       "  <tbody>\n",
       "    <tr>\n",
       "      <th>2018-10-02</th>\n",
       "      <td>229.279999</td>\n",
       "      <td>2.03</td>\n",
       "      <td>227.259995</td>\n",
       "      <td>2.765297</td>\n",
       "      <td>3.299545</td>\n",
       "    </tr>\n",
       "    <tr>\n",
       "      <th>2018-10-03</th>\n",
       "      <td>232.070007</td>\n",
       "      <td>2.03</td>\n",
       "      <td>229.279999</td>\n",
       "      <td>3.299545</td>\n",
       "      <td>2.875024</td>\n",
       "    </tr>\n",
       "    <tr>\n",
       "      <th>2018-10-04</th>\n",
       "      <td>227.990005</td>\n",
       "      <td>2.03</td>\n",
       "      <td>232.070007</td>\n",
       "      <td>2.875024</td>\n",
       "      <td>2.385556</td>\n",
       "    </tr>\n",
       "    <tr>\n",
       "      <th>2018-10-05</th>\n",
       "      <td>224.289993</td>\n",
       "      <td>2.03</td>\n",
       "      <td>227.990005</td>\n",
       "      <td>2.385556</td>\n",
       "      <td>2.844152</td>\n",
       "    </tr>\n",
       "    <tr>\n",
       "      <th>2018-10-08</th>\n",
       "      <td>223.770004</td>\n",
       "      <td>2.03</td>\n",
       "      <td>224.289993</td>\n",
       "      <td>2.844152</td>\n",
       "      <td>3.482401</td>\n",
       "    </tr>\n",
       "  </tbody>\n",
       "</table>\n",
       "</div>"
      ],
      "text/plain": [
       "                 Close  Rates         lag     std_1       std\n",
       "Date                                                         \n",
       "2018-10-02  229.279999   2.03  227.259995  2.765297  3.299545\n",
       "2018-10-03  232.070007   2.03  229.279999  3.299545  2.875024\n",
       "2018-10-04  227.990005   2.03  232.070007  2.875024  2.385556\n",
       "2018-10-05  224.289993   2.03  227.990005  2.385556  2.844152\n",
       "2018-10-08  223.770004   2.03  224.289993  2.844152  3.482401"
      ]
     },
     "execution_count": 47,
     "metadata": {},
     "output_type": "execute_result"
    }
   ],
   "source": [
    "df.tail()"
   ]
  },
  {
   "cell_type": "code",
   "execution_count": 53,
   "metadata": {},
   "outputs": [],
   "source": [
    "#rate = 2\n",
    "lag = 222\n",
    "#std = 2.482"
   ]
  },
  {
   "cell_type": "code",
   "execution_count": 58,
   "metadata": {},
   "outputs": [],
   "source": [
    "pred_1 = np.array([[lag]])"
   ]
  },
  {
   "cell_type": "code",
   "execution_count": 59,
   "metadata": {},
   "outputs": [],
   "source": [
    "#pred_1 = np.array([[0.00324675, 0.194511396, 0.30064325]])"
   ]
  },
  {
   "cell_type": "code",
   "execution_count": 60,
   "metadata": {},
   "outputs": [
    {
     "data": {
      "text/plain": [
       "(1, 1)"
      ]
     },
     "execution_count": 60,
     "metadata": {},
     "output_type": "execute_result"
    }
   ],
   "source": [
    "pred_1.shape"
   ]
  },
  {
   "cell_type": "code",
   "execution_count": 61,
   "metadata": {},
   "outputs": [
    {
     "data": {
      "text/plain": [
       "array([[137.85194]], dtype=float32)"
      ]
     },
     "execution_count": 61,
     "metadata": {},
     "output_type": "execute_result"
    }
   ],
   "source": [
    "model.predict(pred_1)"
   ]
  },
  {
   "cell_type": "code",
   "execution_count": null,
   "metadata": {},
   "outputs": [],
   "source": []
  },
  {
   "cell_type": "code",
   "execution_count": null,
   "metadata": {},
   "outputs": [],
   "source": []
  },
  {
   "cell_type": "code",
   "execution_count": null,
   "metadata": {},
   "outputs": [],
   "source": []
  }
 ],
 "metadata": {
  "kernelspec": {
   "display_name": "Python [conda env:anaconda3]",
   "language": "python",
   "name": "conda-env-anaconda3-py"
  },
  "language_info": {
   "codemirror_mode": {
    "name": "ipython",
    "version": 3
   },
   "file_extension": ".py",
   "mimetype": "text/x-python",
   "name": "python",
   "nbconvert_exporter": "python",
   "pygments_lexer": "ipython3",
   "version": "3.6.5"
  }
 },
 "nbformat": 4,
 "nbformat_minor": 2
}
