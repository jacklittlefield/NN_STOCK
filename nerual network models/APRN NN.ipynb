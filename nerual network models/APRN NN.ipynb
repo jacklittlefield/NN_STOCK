{
 "cells": [
  {
   "cell_type": "code",
   "execution_count": 429,
   "metadata": {},
   "outputs": [],
   "source": [
    "import pandas as pd"
   ]
  },
  {
   "cell_type": "code",
   "execution_count": 430,
   "metadata": {},
   "outputs": [],
   "source": [
    "df = pd.read_csv('APRN_COMB.csv')"
   ]
  },
  {
   "cell_type": "code",
   "execution_count": 431,
   "metadata": {},
   "outputs": [
    {
     "data": {
      "text/plain": [
       "Index(['Date', 'Close', 'Close.1', 'Rates'], dtype='object')"
      ]
     },
     "execution_count": 431,
     "metadata": {},
     "output_type": "execute_result"
    }
   ],
   "source": [
    "df.columns"
   ]
  },
  {
   "cell_type": "code",
   "execution_count": 432,
   "metadata": {},
   "outputs": [],
   "source": [
    "#df = df.drop(['Volume', 'std', 'upper', 'lower'], axis = 1)"
   ]
  },
  {
   "cell_type": "code",
   "execution_count": 433,
   "metadata": {},
   "outputs": [],
   "source": [
    "df['lag'] = df['Close'].shift()\n",
    "df['lag_2'] = df['Close'].shift(60)"
   ]
  },
  {
   "cell_type": "code",
   "execution_count": 434,
   "metadata": {},
   "outputs": [],
   "source": [
    "df.dropna(inplace=True)\n",
    "df.drop('Close.1', axis = 1, inplace=True)"
   ]
  },
  {
   "cell_type": "code",
   "execution_count": 435,
   "metadata": {},
   "outputs": [
    {
     "data": {
      "text/html": [
       "<div>\n",
       "<style scoped>\n",
       "    .dataframe tbody tr th:only-of-type {\n",
       "        vertical-align: middle;\n",
       "    }\n",
       "\n",
       "    .dataframe tbody tr th {\n",
       "        vertical-align: top;\n",
       "    }\n",
       "\n",
       "    .dataframe thead th {\n",
       "        text-align: right;\n",
       "    }\n",
       "</style>\n",
       "<table border=\"1\" class=\"dataframe\">\n",
       "  <thead>\n",
       "    <tr style=\"text-align: right;\">\n",
       "      <th></th>\n",
       "      <th>Date</th>\n",
       "      <th>Close</th>\n",
       "      <th>Rates</th>\n",
       "      <th>lag</th>\n",
       "      <th>lag_2</th>\n",
       "    </tr>\n",
       "  </thead>\n",
       "  <tbody>\n",
       "    <tr>\n",
       "      <th>60</th>\n",
       "      <td>2017-10-20</td>\n",
       "      <td>5.08</td>\n",
       "      <td>1.07</td>\n",
       "      <td>5.17</td>\n",
       "      <td>6.72</td>\n",
       "    </tr>\n",
       "    <tr>\n",
       "      <th>61</th>\n",
       "      <td>2017-10-23</td>\n",
       "      <td>5.15</td>\n",
       "      <td>1.07</td>\n",
       "      <td>5.08</td>\n",
       "      <td>6.74</td>\n",
       "    </tr>\n",
       "    <tr>\n",
       "      <th>62</th>\n",
       "      <td>2017-10-24</td>\n",
       "      <td>5.08</td>\n",
       "      <td>1.07</td>\n",
       "      <td>5.15</td>\n",
       "      <td>6.61</td>\n",
       "    </tr>\n",
       "    <tr>\n",
       "      <th>63</th>\n",
       "      <td>2017-10-25</td>\n",
       "      <td>5.01</td>\n",
       "      <td>1.07</td>\n",
       "      <td>5.08</td>\n",
       "      <td>6.37</td>\n",
       "    </tr>\n",
       "    <tr>\n",
       "      <th>64</th>\n",
       "      <td>2017-10-26</td>\n",
       "      <td>5.03</td>\n",
       "      <td>1.07</td>\n",
       "      <td>5.01</td>\n",
       "      <td>6.20</td>\n",
       "    </tr>\n",
       "  </tbody>\n",
       "</table>\n",
       "</div>"
      ],
      "text/plain": [
       "          Date  Close  Rates   lag  lag_2\n",
       "60  2017-10-20   5.08   1.07  5.17   6.72\n",
       "61  2017-10-23   5.15   1.07  5.08   6.74\n",
       "62  2017-10-24   5.08   1.07  5.15   6.61\n",
       "63  2017-10-25   5.01   1.07  5.08   6.37\n",
       "64  2017-10-26   5.03   1.07  5.01   6.20"
      ]
     },
     "execution_count": 435,
     "metadata": {},
     "output_type": "execute_result"
    }
   ],
   "source": [
    "df.head()"
   ]
  },
  {
   "cell_type": "code",
   "execution_count": 436,
   "metadata": {},
   "outputs": [
    {
     "data": {
      "text/html": [
       "<div>\n",
       "<style scoped>\n",
       "    .dataframe tbody tr th:only-of-type {\n",
       "        vertical-align: middle;\n",
       "    }\n",
       "\n",
       "    .dataframe tbody tr th {\n",
       "        vertical-align: top;\n",
       "    }\n",
       "\n",
       "    .dataframe thead th {\n",
       "        text-align: right;\n",
       "    }\n",
       "</style>\n",
       "<table border=\"1\" class=\"dataframe\">\n",
       "  <thead>\n",
       "    <tr style=\"text-align: right;\">\n",
       "      <th></th>\n",
       "      <th>Date</th>\n",
       "      <th>Close</th>\n",
       "      <th>Rates</th>\n",
       "      <th>lag</th>\n",
       "      <th>lag_2</th>\n",
       "    </tr>\n",
       "  </thead>\n",
       "  <tbody>\n",
       "    <tr>\n",
       "      <th>304</th>\n",
       "      <td>2018-10-10</td>\n",
       "      <td>1.34</td>\n",
       "      <td>2.03</td>\n",
       "      <td>1.38</td>\n",
       "      <td>3.58</td>\n",
       "    </tr>\n",
       "    <tr>\n",
       "      <th>305</th>\n",
       "      <td>2018-10-11</td>\n",
       "      <td>1.30</td>\n",
       "      <td>2.03</td>\n",
       "      <td>1.34</td>\n",
       "      <td>3.55</td>\n",
       "    </tr>\n",
       "    <tr>\n",
       "      <th>306</th>\n",
       "      <td>2018-10-12</td>\n",
       "      <td>1.34</td>\n",
       "      <td>2.03</td>\n",
       "      <td>1.30</td>\n",
       "      <td>3.40</td>\n",
       "    </tr>\n",
       "    <tr>\n",
       "      <th>307</th>\n",
       "      <td>2018-10-15</td>\n",
       "      <td>1.35</td>\n",
       "      <td>2.03</td>\n",
       "      <td>1.34</td>\n",
       "      <td>3.11</td>\n",
       "    </tr>\n",
       "    <tr>\n",
       "      <th>308</th>\n",
       "      <td>2018-10-16</td>\n",
       "      <td>1.35</td>\n",
       "      <td>2.03</td>\n",
       "      <td>1.35</td>\n",
       "      <td>3.18</td>\n",
       "    </tr>\n",
       "  </tbody>\n",
       "</table>\n",
       "</div>"
      ],
      "text/plain": [
       "           Date  Close  Rates   lag  lag_2\n",
       "304  2018-10-10   1.34   2.03  1.38   3.58\n",
       "305  2018-10-11   1.30   2.03  1.34   3.55\n",
       "306  2018-10-12   1.34   2.03  1.30   3.40\n",
       "307  2018-10-15   1.35   2.03  1.34   3.11\n",
       "308  2018-10-16   1.35   2.03  1.35   3.18"
      ]
     },
     "execution_count": 436,
     "metadata": {},
     "output_type": "execute_result"
    }
   ],
   "source": [
    "df.tail()"
   ]
  },
  {
   "cell_type": "code",
   "execution_count": 437,
   "metadata": {},
   "outputs": [],
   "source": [
    "df['std'] = df['Close'].rolling(5).std().dropna()"
   ]
  },
  {
   "cell_type": "code",
   "execution_count": 438,
   "metadata": {},
   "outputs": [],
   "source": [
    "df.dropna(inplace=True)"
   ]
  },
  {
   "cell_type": "code",
   "execution_count": 439,
   "metadata": {},
   "outputs": [],
   "source": [
    "df['Date'] = pd.to_datetime(df['Date'])"
   ]
  },
  {
   "cell_type": "code",
   "execution_count": 440,
   "metadata": {},
   "outputs": [],
   "source": [
    "df.set_index('Date', inplace=True)"
   ]
  },
  {
   "cell_type": "markdown",
   "metadata": {},
   "source": [
    "For GE I am going to make my train test split on the year 2014"
   ]
  },
  {
   "cell_type": "code",
   "execution_count": 441,
   "metadata": {},
   "outputs": [],
   "source": [
    "train_df = df[:'2018-06']\n",
    "test_df = df['2018-07':]"
   ]
  },
  {
   "cell_type": "code",
   "execution_count": 442,
   "metadata": {},
   "outputs": [
    {
     "data": {
      "text/html": [
       "<div>\n",
       "<style scoped>\n",
       "    .dataframe tbody tr th:only-of-type {\n",
       "        vertical-align: middle;\n",
       "    }\n",
       "\n",
       "    .dataframe tbody tr th {\n",
       "        vertical-align: top;\n",
       "    }\n",
       "\n",
       "    .dataframe thead th {\n",
       "        text-align: right;\n",
       "    }\n",
       "</style>\n",
       "<table border=\"1\" class=\"dataframe\">\n",
       "  <thead>\n",
       "    <tr style=\"text-align: right;\">\n",
       "      <th></th>\n",
       "      <th>Close</th>\n",
       "      <th>Rates</th>\n",
       "      <th>lag</th>\n",
       "      <th>lag_2</th>\n",
       "      <th>std</th>\n",
       "    </tr>\n",
       "    <tr>\n",
       "      <th>Date</th>\n",
       "      <th></th>\n",
       "      <th></th>\n",
       "      <th></th>\n",
       "      <th></th>\n",
       "      <th></th>\n",
       "    </tr>\n",
       "  </thead>\n",
       "  <tbody>\n",
       "    <tr>\n",
       "      <th>2018-06-25</th>\n",
       "      <td>3.26</td>\n",
       "      <td>1.9</td>\n",
       "      <td>3.33</td>\n",
       "      <td>2.00</td>\n",
       "      <td>0.046904</td>\n",
       "    </tr>\n",
       "    <tr>\n",
       "      <th>2018-06-26</th>\n",
       "      <td>3.18</td>\n",
       "      <td>1.9</td>\n",
       "      <td>3.26</td>\n",
       "      <td>1.87</td>\n",
       "      <td>0.075498</td>\n",
       "    </tr>\n",
       "    <tr>\n",
       "      <th>2018-06-27</th>\n",
       "      <td>3.25</td>\n",
       "      <td>1.9</td>\n",
       "      <td>3.18</td>\n",
       "      <td>1.80</td>\n",
       "      <td>0.056833</td>\n",
       "    </tr>\n",
       "    <tr>\n",
       "      <th>2018-06-28</th>\n",
       "      <td>3.22</td>\n",
       "      <td>1.9</td>\n",
       "      <td>3.25</td>\n",
       "      <td>1.85</td>\n",
       "      <td>0.055408</td>\n",
       "    </tr>\n",
       "    <tr>\n",
       "      <th>2018-06-29</th>\n",
       "      <td>3.35</td>\n",
       "      <td>1.9</td>\n",
       "      <td>3.22</td>\n",
       "      <td>1.86</td>\n",
       "      <td>0.063008</td>\n",
       "    </tr>\n",
       "  </tbody>\n",
       "</table>\n",
       "</div>"
      ],
      "text/plain": [
       "            Close  Rates   lag  lag_2       std\n",
       "Date                                           \n",
       "2018-06-25   3.26    1.9  3.33   2.00  0.046904\n",
       "2018-06-26   3.18    1.9  3.26   1.87  0.075498\n",
       "2018-06-27   3.25    1.9  3.18   1.80  0.056833\n",
       "2018-06-28   3.22    1.9  3.25   1.85  0.055408\n",
       "2018-06-29   3.35    1.9  3.22   1.86  0.063008"
      ]
     },
     "execution_count": 442,
     "metadata": {},
     "output_type": "execute_result"
    }
   ],
   "source": [
    "train_df.tail()"
   ]
  },
  {
   "cell_type": "code",
   "execution_count": 443,
   "metadata": {},
   "outputs": [
    {
     "data": {
      "text/html": [
       "<div>\n",
       "<style scoped>\n",
       "    .dataframe tbody tr th:only-of-type {\n",
       "        vertical-align: middle;\n",
       "    }\n",
       "\n",
       "    .dataframe tbody tr th {\n",
       "        vertical-align: top;\n",
       "    }\n",
       "\n",
       "    .dataframe thead th {\n",
       "        text-align: right;\n",
       "    }\n",
       "</style>\n",
       "<table border=\"1\" class=\"dataframe\">\n",
       "  <thead>\n",
       "    <tr style=\"text-align: right;\">\n",
       "      <th></th>\n",
       "      <th>Close</th>\n",
       "      <th>Rates</th>\n",
       "      <th>lag</th>\n",
       "      <th>lag_2</th>\n",
       "      <th>std</th>\n",
       "    </tr>\n",
       "    <tr>\n",
       "      <th>Date</th>\n",
       "      <th></th>\n",
       "      <th></th>\n",
       "      <th></th>\n",
       "      <th></th>\n",
       "      <th></th>\n",
       "    </tr>\n",
       "  </thead>\n",
       "  <tbody>\n",
       "    <tr>\n",
       "      <th>2018-07-02</th>\n",
       "      <td>3.31</td>\n",
       "      <td>1.96</td>\n",
       "      <td>3.35</td>\n",
       "      <td>1.77</td>\n",
       "      <td>0.068337</td>\n",
       "    </tr>\n",
       "    <tr>\n",
       "      <th>2018-07-03</th>\n",
       "      <td>3.28</td>\n",
       "      <td>1.96</td>\n",
       "      <td>3.31</td>\n",
       "      <td>1.85</td>\n",
       "      <td>0.050695</td>\n",
       "    </tr>\n",
       "    <tr>\n",
       "      <th>2018-07-05</th>\n",
       "      <td>3.53</td>\n",
       "      <td>1.96</td>\n",
       "      <td>3.28</td>\n",
       "      <td>1.84</td>\n",
       "      <td>0.117346</td>\n",
       "    </tr>\n",
       "    <tr>\n",
       "      <th>2018-07-06</th>\n",
       "      <td>3.35</td>\n",
       "      <td>1.96</td>\n",
       "      <td>3.53</td>\n",
       "      <td>1.81</td>\n",
       "      <td>0.097365</td>\n",
       "    </tr>\n",
       "    <tr>\n",
       "      <th>2018-07-09</th>\n",
       "      <td>3.44</td>\n",
       "      <td>1.96</td>\n",
       "      <td>3.35</td>\n",
       "      <td>1.82</td>\n",
       "      <td>0.102323</td>\n",
       "    </tr>\n",
       "  </tbody>\n",
       "</table>\n",
       "</div>"
      ],
      "text/plain": [
       "            Close  Rates   lag  lag_2       std\n",
       "Date                                           \n",
       "2018-07-02   3.31   1.96  3.35   1.77  0.068337\n",
       "2018-07-03   3.28   1.96  3.31   1.85  0.050695\n",
       "2018-07-05   3.53   1.96  3.28   1.84  0.117346\n",
       "2018-07-06   3.35   1.96  3.53   1.81  0.097365\n",
       "2018-07-09   3.44   1.96  3.35   1.82  0.102323"
      ]
     },
     "execution_count": 443,
     "metadata": {},
     "output_type": "execute_result"
    }
   ],
   "source": [
    "test_df.head()"
   ]
  },
  {
   "cell_type": "markdown",
   "metadata": {},
   "source": [
    "To see this visually, we can make a line plot of the train and test data"
   ]
  },
  {
   "cell_type": "code",
   "execution_count": 444,
   "metadata": {},
   "outputs": [],
   "source": [
    "import matplotlib.pyplot as plt"
   ]
  },
  {
   "cell_type": "code",
   "execution_count": 445,
   "metadata": {},
   "outputs": [
    {
     "name": "stderr",
     "output_type": "stream",
     "text": [
      "/anaconda3/lib/python3.6/site-packages/pandas/core/frame.py:3778: SettingWithCopyWarning: \n",
      "A value is trying to be set on a copy of a slice from a DataFrame\n",
      "\n",
      "See the caveats in the documentation: http://pandas.pydata.org/pandas-docs/stable/indexing.html#indexing-view-versus-copy\n",
      "  return super(DataFrame, self).rename(**kwargs)\n"
     ]
    }
   ],
   "source": [
    "graph_df_train = train_df\n",
    "maper = {'Close':'Train'}\n",
    "graph_df_train.rename(maper, axis = 1, inplace=True)"
   ]
  },
  {
   "cell_type": "code",
   "execution_count": 446,
   "metadata": {},
   "outputs": [
    {
     "name": "stderr",
     "output_type": "stream",
     "text": [
      "/anaconda3/lib/python3.6/site-packages/pandas/core/frame.py:3778: SettingWithCopyWarning: \n",
      "A value is trying to be set on a copy of a slice from a DataFrame\n",
      "\n",
      "See the caveats in the documentation: http://pandas.pydata.org/pandas-docs/stable/indexing.html#indexing-view-versus-copy\n",
      "  return super(DataFrame, self).rename(**kwargs)\n"
     ]
    }
   ],
   "source": [
    "graph_df_test = test_df\n",
    "maper = {'Close':'Test'}\n",
    "graph_df_test.rename(maper, axis = 1, inplace=True)"
   ]
  },
  {
   "cell_type": "code",
   "execution_count": 447,
   "metadata": {},
   "outputs": [
    {
     "data": {
      "image/png": "[encoded data removed]",
      "text/plain": [
       "<Figure size 432x288 with 1 Axes>"
      ]
     },
     "metadata": {},
     "output_type": "display_data"
    }
   ],
   "source": [
    "plt.plot(graph_df_train['Train'])\n",
    "plt.plot(graph_df_test['Test'])\n",
    "plt.legend();"
   ]
  },
  {
   "cell_type": "markdown",
   "metadata": {},
   "source": [
    "As you can see, 2014 is a year where the pattern of a downward trend may begin again. Lets build a model to find out. "
   ]
  },
  {
   "cell_type": "code",
   "execution_count": 448,
   "metadata": {},
   "outputs": [
    {
     "data": {
      "text/html": [
       "<div>\n",
       "<style scoped>\n",
       "    .dataframe tbody tr th:only-of-type {\n",
       "        vertical-align: middle;\n",
       "    }\n",
       "\n",
       "    .dataframe tbody tr th {\n",
       "        vertical-align: top;\n",
       "    }\n",
       "\n",
       "    .dataframe thead th {\n",
       "        text-align: right;\n",
       "    }\n",
       "</style>\n",
       "<table border=\"1\" class=\"dataframe\">\n",
       "  <thead>\n",
       "    <tr style=\"text-align: right;\">\n",
       "      <th></th>\n",
       "      <th>Close</th>\n",
       "      <th>Rates</th>\n",
       "      <th>lag</th>\n",
       "      <th>lag_2</th>\n",
       "      <th>std</th>\n",
       "    </tr>\n",
       "    <tr>\n",
       "      <th>Date</th>\n",
       "      <th></th>\n",
       "      <th></th>\n",
       "      <th></th>\n",
       "      <th></th>\n",
       "      <th></th>\n",
       "    </tr>\n",
       "  </thead>\n",
       "  <tbody>\n",
       "    <tr>\n",
       "      <th>2017-10-26</th>\n",
       "      <td>5.03</td>\n",
       "      <td>1.07</td>\n",
       "      <td>5.01</td>\n",
       "      <td>6.20</td>\n",
       "      <td>0.054314</td>\n",
       "    </tr>\n",
       "    <tr>\n",
       "      <th>2017-10-27</th>\n",
       "      <td>5.13</td>\n",
       "      <td>1.07</td>\n",
       "      <td>5.03</td>\n",
       "      <td>6.22</td>\n",
       "      <td>0.060828</td>\n",
       "    </tr>\n",
       "    <tr>\n",
       "      <th>2017-10-30</th>\n",
       "      <td>5.01</td>\n",
       "      <td>1.07</td>\n",
       "      <td>5.13</td>\n",
       "      <td>5.83</td>\n",
       "      <td>0.052154</td>\n",
       "    </tr>\n",
       "    <tr>\n",
       "      <th>2017-10-31</th>\n",
       "      <td>4.77</td>\n",
       "      <td>1.07</td>\n",
       "      <td>5.01</td>\n",
       "      <td>5.85</td>\n",
       "      <td>0.132665</td>\n",
       "    </tr>\n",
       "    <tr>\n",
       "      <th>2017-11-01</th>\n",
       "      <td>4.67</td>\n",
       "      <td>1.23</td>\n",
       "      <td>4.77</td>\n",
       "      <td>5.81</td>\n",
       "      <td>0.193184</td>\n",
       "    </tr>\n",
       "  </tbody>\n",
       "</table>\n",
       "</div>"
      ],
      "text/plain": [
       "            Close  Rates   lag  lag_2       std\n",
       "Date                                           \n",
       "2017-10-26   5.03   1.07  5.01   6.20  0.054314\n",
       "2017-10-27   5.13   1.07  5.03   6.22  0.060828\n",
       "2017-10-30   5.01   1.07  5.13   5.83  0.052154\n",
       "2017-10-31   4.77   1.07  5.01   5.85  0.132665\n",
       "2017-11-01   4.67   1.23  4.77   5.81  0.193184"
      ]
     },
     "execution_count": 448,
     "metadata": {},
     "output_type": "execute_result"
    }
   ],
   "source": [
    "df.head()"
   ]
  },
  {
   "cell_type": "code",
   "execution_count": 449,
   "metadata": {},
   "outputs": [],
   "source": [
    "train_df = df[:'2018-06']\n",
    "test_df = df['2018-07':]"
   ]
  },
  {
   "cell_type": "code",
   "execution_count": 450,
   "metadata": {},
   "outputs": [
    {
     "data": {
      "text/html": [
       "<div>\n",
       "<style scoped>\n",
       "    .dataframe tbody tr th:only-of-type {\n",
       "        vertical-align: middle;\n",
       "    }\n",
       "\n",
       "    .dataframe tbody tr th {\n",
       "        vertical-align: top;\n",
       "    }\n",
       "\n",
       "    .dataframe thead th {\n",
       "        text-align: right;\n",
       "    }\n",
       "</style>\n",
       "<table border=\"1\" class=\"dataframe\">\n",
       "  <thead>\n",
       "    <tr style=\"text-align: right;\">\n",
       "      <th></th>\n",
       "      <th>Close</th>\n",
       "      <th>Rates</th>\n",
       "      <th>lag</th>\n",
       "      <th>lag_2</th>\n",
       "      <th>std</th>\n",
       "    </tr>\n",
       "    <tr>\n",
       "      <th>Date</th>\n",
       "      <th></th>\n",
       "      <th></th>\n",
       "      <th></th>\n",
       "      <th></th>\n",
       "      <th></th>\n",
       "    </tr>\n",
       "  </thead>\n",
       "  <tbody>\n",
       "    <tr>\n",
       "      <th>2018-07-02</th>\n",
       "      <td>3.31</td>\n",
       "      <td>1.96</td>\n",
       "      <td>3.35</td>\n",
       "      <td>1.77</td>\n",
       "      <td>0.068337</td>\n",
       "    </tr>\n",
       "    <tr>\n",
       "      <th>2018-07-03</th>\n",
       "      <td>3.28</td>\n",
       "      <td>1.96</td>\n",
       "      <td>3.31</td>\n",
       "      <td>1.85</td>\n",
       "      <td>0.050695</td>\n",
       "    </tr>\n",
       "    <tr>\n",
       "      <th>2018-07-05</th>\n",
       "      <td>3.53</td>\n",
       "      <td>1.96</td>\n",
       "      <td>3.28</td>\n",
       "      <td>1.84</td>\n",
       "      <td>0.117346</td>\n",
       "    </tr>\n",
       "    <tr>\n",
       "      <th>2018-07-06</th>\n",
       "      <td>3.35</td>\n",
       "      <td>1.96</td>\n",
       "      <td>3.53</td>\n",
       "      <td>1.81</td>\n",
       "      <td>0.097365</td>\n",
       "    </tr>\n",
       "    <tr>\n",
       "      <th>2018-07-09</th>\n",
       "      <td>3.44</td>\n",
       "      <td>1.96</td>\n",
       "      <td>3.35</td>\n",
       "      <td>1.82</td>\n",
       "      <td>0.102323</td>\n",
       "    </tr>\n",
       "  </tbody>\n",
       "</table>\n",
       "</div>"
      ],
      "text/plain": [
       "            Close  Rates   lag  lag_2       std\n",
       "Date                                           \n",
       "2018-07-02   3.31   1.96  3.35   1.77  0.068337\n",
       "2018-07-03   3.28   1.96  3.31   1.85  0.050695\n",
       "2018-07-05   3.53   1.96  3.28   1.84  0.117346\n",
       "2018-07-06   3.35   1.96  3.53   1.81  0.097365\n",
       "2018-07-09   3.44   1.96  3.35   1.82  0.102323"
      ]
     },
     "execution_count": 450,
     "metadata": {},
     "output_type": "execute_result"
    }
   ],
   "source": [
    "test_df.head()"
   ]
  },
  {
   "cell_type": "markdown",
   "metadata": {},
   "source": [
    "Scale Data"
   ]
  },
  {
   "cell_type": "code",
   "execution_count": 451,
   "metadata": {},
   "outputs": [],
   "source": [
    "from sklearn.preprocessing import MinMaxScaler"
   ]
  },
  {
   "cell_type": "code",
   "execution_count": 452,
   "metadata": {},
   "outputs": [],
   "source": [
    "scaler = MinMaxScaler()"
   ]
  },
  {
   "cell_type": "code",
   "execution_count": 453,
   "metadata": {},
   "outputs": [],
   "source": [
    "X_train = train_df[['Rates', 'lag', 'std', 'lag_2']].values\n",
    "X_test = test_df[['Rates', 'lag', 'std', 'lag_2']].values"
   ]
  },
  {
   "cell_type": "code",
   "execution_count": 454,
   "metadata": {},
   "outputs": [
    {
     "data": {
      "text/plain": [
       "array([[1.07      , 5.01      , 0.0543139 , 6.2       ],\n",
       "       [1.07      , 5.03      , 0.06082763, 6.22      ],\n",
       "       [1.07      , 5.13      , 0.05215362, 5.83      ],\n",
       "       [1.07      , 5.01      , 0.13266499, 5.85      ],\n",
       "       [1.23      , 4.77      , 0.19318385, 5.81      ],\n",
       "       [1.23      , 4.67      , 0.52295315, 6.24      ],\n",
       "       [1.23      , 3.8       , 0.5730794 , 5.14      ],\n",
       "       [1.23      , 3.79      , 0.49362942, 5.12      ],\n",
       "       [1.23      , 3.88      , 0.57416896, 5.36      ],\n",
       "       [1.23      , 3.05      , 0.38996154, 5.65      ],\n",
       "       [1.23      , 3.19      , 0.40162171, 5.5       ],\n",
       "       [1.23      , 3.09      , 0.34246168, 5.39      ],\n",
       "       [1.23      , 3.17      , 0.06418723, 5.31      ],\n",
       "       [1.23      , 3.06      , 0.06188699, 5.24      ],\n",
       "       [1.23      , 3.06      , 0.04505552, 5.25      ],\n",
       "       [1.23      , 3.09      , 0.04549725, 5.47      ],\n",
       "       [1.23      , 3.08      , 0.01949359, 5.48      ],\n",
       "       [1.23      , 3.04      , 0.03209361, 5.39      ],\n",
       "       [1.23      , 3.01      , 0.0432435 , 5.38      ],\n",
       "       [1.23      , 2.99      , 0.0432435 , 5.17      ],\n",
       "       [1.23      , 2.97      , 0.0626099 , 5.33      ],\n",
       "       [1.23      , 3.13      , 0.06542171, 5.24      ],\n",
       "       [1.23      , 3.07      , 0.06418723, 5.22      ],\n",
       "       [1.23      , 3.05      , 0.06418723, 5.22      ],\n",
       "       [1.23      , 2.99      , 0.05899152, 5.47      ],\n",
       "       [1.32      , 2.99      , 0.09838699, 5.34      ],\n",
       "       [1.32      , 3.23      , 0.32600613, 5.38      ],\n",
       "       [1.32      , 3.76      , 0.39042285, 5.41      ],\n",
       "       [1.32      , 3.76      , 0.36253276, 5.37      ],\n",
       "       [1.32      , 3.74      , 0.23744473, 5.39      ],\n",
       "       [1.32      , 3.78      , 0.03847077, 5.65      ],\n",
       "       [1.32      , 3.84      , 0.04878524, 6.06      ],\n",
       "       [1.32      , 3.85      , 0.09121403, 5.67      ],\n",
       "       [1.32      , 3.98      , 0.08734987, 5.51      ],\n",
       "       [1.32      , 3.97      , 0.14916434, 5.22      ],\n",
       "       [1.32      , 4.21      , 0.16257306, 5.23      ],\n",
       "       [1.32      , 4.22      , 0.151096  , 5.19      ],\n",
       "       [1.32      , 4.3       , 0.17421251, 5.54      ],\n",
       "       [1.32      , 4.45      , 0.10894953, 5.8       ],\n",
       "       [1.32      , 4.41      , 0.16379866, 5.8       ],\n",
       "       [1.32      , 4.04      , 0.19766133, 5.59      ],\n",
       "       [1.32      , 4.04      , 0.20007499, 5.45      ],\n",
       "       [1.32      , 4.14      , 0.15319922, 5.44      ],\n",
       "       [1.32      , 4.21      , 0.1087658 , 5.34      ],\n",
       "       [1.32      , 4.29      , 0.1112205 , 5.34      ],\n",
       "       [1.41      , 4.03      , 0.0969536 , 5.32      ],\n",
       "       [1.41      , 4.13      , 0.10059821, 5.25      ],\n",
       "       [1.41      , 4.1       , 0.11584472, 5.15      ],\n",
       "       [1.41      , 3.99      , 0.08786353, 5.09      ],\n",
       "       [1.41      , 3.91      , 0.16887865, 5.09      ],\n",
       "       [1.41      , 3.71      , 0.24570307, 5.08      ],\n",
       "       [1.41      , 3.48      , 0.25820534, 5.16      ],\n",
       "       [1.41      , 3.4       , 0.20452384, 5.25      ],\n",
       "       [1.41      , 3.53      , 0.12581733, 5.38      ],\n",
       "       [1.41      , 3.41      , 0.13397761, 5.3       ],\n",
       "       [1.41      , 3.18      , 0.16009372, 5.17      ],\n",
       "       [1.41      , 3.16      , 0.16501515, 5.08      ],\n",
       "       [1.41      , 3.2       , 0.12814055, 5.15      ],\n",
       "       [1.41      , 3.06      , 0.06016644, 5.08      ],\n",
       "       [1.41      , 3.21      , 0.06228965, 5.01      ],\n",
       "       [1.41      , 3.2       , 0.07348469, 5.03      ],\n",
       "       [1.41      , 3.08      , 0.07842194, 5.13      ],\n",
       "       [1.41      , 3.05      , 0.07368853, 5.01      ],\n",
       "       [1.41      , 3.09      , 0.05718391, 4.77      ],\n",
       "       [1.41      , 3.12      , 0.02949576, 4.67      ],\n",
       "       [1.41      , 3.05      , 0.04898979, 3.8       ],\n",
       "       [1.57      , 2.99      , 0.0522494 , 3.79      ],\n",
       "       [1.57      , 3.02      , 0.04827007, 3.88      ],\n",
       "       [1.57      , 3.04      , 0.03361547, 3.05      ],\n",
       "       [1.57      , 3.08      , 0.0509902 , 3.19      ],\n",
       "       [1.57      , 3.12      , 0.07155418, 3.09      ],\n",
       "       [1.57      , 3.2       , 0.2704071 , 3.17      ],\n",
       "       [1.57      , 3.7       , 0.24923884, 3.06      ],\n",
       "       [1.57      , 3.26      , 0.22534418, 3.06      ],\n",
       "       [1.57      , 3.35      , 0.19408761, 3.09      ],\n",
       "       [1.57      , 3.35      , 0.17038192, 3.08      ],\n",
       "       [1.57      , 3.47      , 0.07758866, 3.04      ],\n",
       "       [1.57      , 3.31      , 0.10401923, 3.01      ],\n",
       "       [1.57      , 3.56      , 0.09989995, 2.99      ],\n",
       "       [1.57      , 3.39      , 0.11789826, 2.97      ],\n",
       "       [1.57      , 3.27      , 0.11584472, 3.13      ],\n",
       "       [1.57      , 3.31      , 0.16831518, 3.07      ],\n",
       "       [1.57      , 3.1       , 0.17005881, 3.05      ],\n",
       "       [1.57      , 2.97      , 0.21870071, 2.99      ],\n",
       "       [1.57      , 2.78      , 0.22304708, 2.99      ],\n",
       "       [1.7       , 2.79      , 0.16046807, 3.23      ],\n",
       "       [1.7       , 2.71      , 0.10134101, 3.76      ],\n",
       "       [1.7       , 2.74      , 0.07635444, 3.76      ],\n",
       "       [1.7       , 2.6       , 0.09984989, 3.74      ],\n",
       "       [1.7       , 2.55      , 0.10568822, 3.78      ],\n",
       "       [1.7       , 2.49      , 0.25228952, 3.84      ],\n",
       "       [1.7       , 2.07      , 0.21886069, 3.85      ],\n",
       "       [1.7       , 2.29      , 0.22600885, 3.98      ],\n",
       "       [1.7       , 2.07      , 0.17854971, 3.97      ],\n",
       "       [1.7       , 2.15      , 0.09011104, 4.21      ],\n",
       "       [1.7       , 2.16      , 0.07949843, 4.22      ],\n",
       "       [1.7       , 2.19      , 0.04449719, 4.3       ],\n",
       "       [1.7       , 2.15      , 0.0167332 , 4.45      ],\n",
       "       [1.7       , 2.17      , 0.04604346, 4.41      ],\n",
       "       [1.7       , 2.07      , 0.04560702, 4.04      ],\n",
       "       [1.7       , 2.15      , 0.05403702, 4.04      ],\n",
       "       [1.7       , 2.05      , 0.0598331 , 4.14      ],\n",
       "       [1.7       , 2.04      , 0.0680441 , 4.21      ],\n",
       "       [1.7       , 1.96      , 0.07259477, 4.29      ],\n",
       "       [1.7       , 1.99      , 0.068775  , 4.03      ],\n",
       "       [1.7       , 1.88      , 0.0598331 , 4.13      ],\n",
       "       [1.76      , 2.        , 0.06123724, 4.1       ],\n",
       "       [1.76      , 1.87      , 0.08526429, 3.99      ],\n",
       "       [1.76      , 1.8       , 0.07382412, 3.91      ],\n",
       "       [1.76      , 1.85      , 0.07436397, 3.71      ],\n",
       "       [1.76      , 1.86      , 0.04301163, 3.48      ],\n",
       "       [1.76      , 1.77      , 0.03911521, 3.4       ],\n",
       "       [1.76      , 1.85      , 0.03646917, 3.53      ],\n",
       "       [1.76      , 1.84      , 0.03646917, 3.41      ],\n",
       "       [1.76      , 1.81      , 0.03114482, 3.18      ],\n",
       "       [1.76      , 1.82      , 0.04743416, 3.16      ],\n",
       "       [1.76      , 1.93      , 0.09731393, 3.2       ],\n",
       "       [1.76      , 2.04      , 0.10014989, 3.06      ],\n",
       "       [1.76      , 1.98      , 0.09633276, 3.21      ],\n",
       "       [1.76      , 2.06      , 0.05118594, 3.2       ],\n",
       "       [1.76      , 2.        , 0.03286335, 3.08      ],\n",
       "       [1.76      , 2.        , 0.03286335, 3.05      ],\n",
       "       [1.76      , 1.98      , 0.04669047, 3.09      ],\n",
       "       [1.76      , 1.93      , 0.02880972, 3.12      ],\n",
       "       [1.76      , 1.97      , 0.13217413, 3.05      ],\n",
       "       [1.76      , 2.26      , 0.13352902, 2.99      ],\n",
       "       [1.76      , 2.09      , 0.12891858, 3.02      ],\n",
       "       [1.86      , 2.09      , 0.10329569, 3.04      ],\n",
       "       [1.86      , 2.1       , 0.07395945, 3.08      ],\n",
       "       [1.86      , 2.1       , 0.09181503, 3.12      ],\n",
       "       [1.86      , 2.3       , 0.15773395, 3.2       ],\n",
       "       [1.86      , 2.44      , 0.2012958 , 3.7       ],\n",
       "       [1.86      , 2.55      , 0.27709204, 3.26      ],\n",
       "       [1.86      , 2.84      , 0.20772578, 3.35      ],\n",
       "       [1.86      , 2.67      , 0.16574076, 3.35      ],\n",
       "       [1.86      , 2.46      , 0.16574076, 3.47      ],\n",
       "       [1.86      , 2.44      , 0.16920402, 3.31      ],\n",
       "       [1.86      , 2.51      , 0.09126883, 3.56      ],\n",
       "       [1.86      , 2.55      , 0.07231874, 3.39      ],\n",
       "       [1.86      , 2.62      , 0.12557866, 3.27      ],\n",
       "       [1.86      , 2.77      , 0.13274035, 3.31      ],\n",
       "       [1.86      , 2.81      , 0.17564168, 3.1       ],\n",
       "       [1.86      , 3.        , 0.22083931, 2.97      ],\n",
       "       [1.86      , 3.19      , 0.16769019, 2.78      ],\n",
       "       [1.86      , 2.97      , 0.14053469, 2.79      ],\n",
       "       [1.86      , 3.08      , 0.08526429, 2.71      ],\n",
       "       [1.86      , 3.05      , 0.09864076, 2.74      ],\n",
       "       [1.86      , 2.94      , 0.05770615, 2.6       ],\n",
       "       [1.86      , 3.03      , 0.0559464 , 2.55      ],\n",
       "       [1.9       , 3.07      , 0.08988882, 2.49      ],\n",
       "       [1.9       , 3.19      , 0.16991174, 2.07      ],\n",
       "       [1.9       , 3.38      , 0.16598193, 2.29      ],\n",
       "       [1.9       , 3.38      , 0.13202273, 2.07      ],\n",
       "       [1.9       , 3.25      , 0.09628084, 2.15      ],\n",
       "       [1.9       , 3.19      , 0.09407444, 2.16      ],\n",
       "       [1.9       , 3.2       , 0.0795613 , 2.19      ],\n",
       "       [1.9       , 3.2       , 0.07106335, 2.15      ],\n",
       "       [1.9       , 3.06      , 0.07778175, 2.17      ],\n",
       "       [1.9       , 3.05      , 0.07362065, 2.07      ],\n",
       "       [1.9       , 3.1       , 0.06760178, 2.15      ],\n",
       "       [1.9       , 3.03      , 0.0717635 , 2.05      ],\n",
       "       [1.9       , 3.21      , 0.10737784, 2.04      ],\n",
       "       [1.9       , 3.28      , 0.13946326, 1.96      ],\n",
       "       [1.9       , 3.38      , 0.13209845, 1.99      ],\n",
       "       [1.9       , 3.3       , 0.06284903, 1.88      ],\n",
       "       [1.9       , 3.33      , 0.04690416, 2.        ],\n",
       "       [1.9       , 3.26      , 0.07549834, 1.87      ],\n",
       "       [1.9       , 3.18      , 0.05683309, 1.8       ],\n",
       "       [1.9       , 3.25      , 0.05540758, 1.85      ],\n",
       "       [1.9       , 3.22      , 0.06300794, 1.86      ]])"
      ]
     },
     "execution_count": 454,
     "metadata": {},
     "output_type": "execute_result"
    }
   ],
   "source": [
    "X_train"
   ]
  },
  {
   "cell_type": "code",
   "execution_count": 455,
   "metadata": {},
   "outputs": [],
   "source": [
    "train_df_sc = scaler.fit_transform(X_train)\n",
    "test_df_sc = scaler.transform(X_test)"
   ]
  },
  {
   "cell_type": "code",
   "execution_count": 456,
   "metadata": {},
   "outputs": [
    {
     "name": "stdout",
     "output_type": "stream",
     "text": [
      "(170, 4)\n",
      "(75, 4)\n"
     ]
    }
   ],
   "source": [
    "print(train_df_sc.shape)\n",
    "print(test_df_sc.shape)"
   ]
  },
  {
   "cell_type": "code",
   "execution_count": 457,
   "metadata": {},
   "outputs": [
    {
     "data": {
      "text/plain": [
       "array([[0.        , 0.96428571, 0.0674171 , 0.99099099],\n",
       "       [0.        , 0.9702381 , 0.07910225, 0.9954955 ],\n",
       "       [0.        , 1.        , 0.0635417 , 0.90765766],\n",
       "       [0.        , 0.96428571, 0.20797336, 0.91216216],\n",
       "       [0.19277108, 0.89285714, 0.31653988, 0.90315315],\n",
       "       [0.19277108, 0.86309524, 0.90812249, 1.        ],\n",
       "       [0.19277108, 0.60416667, 0.9980454 , 0.75225225],\n",
       "       [0.19277108, 0.60119048, 0.85551779, 0.74774775],\n",
       "       [0.19277108, 0.62797619, 1.        , 0.8018018 ],\n",
       "       [0.19277108, 0.38095238, 0.66954501, 0.86711712],\n",
       "       [0.19277108, 0.42261905, 0.69046254, 0.83333333],\n",
       "       [0.19277108, 0.39285714, 0.58433365, 0.80855856],\n",
       "       [0.19277108, 0.41666667, 0.08512914, 0.79054054],\n",
       "       [0.19277108, 0.38392857, 0.08100268, 0.77477477],\n",
       "       [0.19277108, 0.38392857, 0.05080822, 0.77702703],\n",
       "       [0.19277108, 0.39285714, 0.05160066, 0.82657658],\n",
       "       [0.19277108, 0.38988095, 0.00495194, 0.82882883],\n",
       "       [0.19277108, 0.37797619, 0.02755548, 0.80855856],\n",
       "       [0.19277108, 0.36904762, 0.04755758, 0.80630631],\n",
       "       [0.19277108, 0.36309524, 0.04755758, 0.75900901],\n",
       "       [0.19277108, 0.35714286, 0.08229953, 0.79504505],\n",
       "       [0.19277108, 0.4047619 , 0.08734371, 0.77477477],\n",
       "       [0.19277108, 0.38690476, 0.08512914, 0.77027027],\n",
       "       [0.19277108, 0.38095238, 0.08512914, 0.77027027],\n",
       "       [0.19277108, 0.36309524, 0.07580842, 0.82657658],\n",
       "       [0.30120482, 0.36309524, 0.14648108, 0.7972973 ],\n",
       "       [0.30120482, 0.43452381, 0.55481358, 0.80630631],\n",
       "       [0.30120482, 0.5922619 , 0.67037257, 0.81306306],\n",
       "       [0.30120482, 0.5922619 , 0.62033974, 0.80405405],\n",
       "       [0.30120482, 0.58630952, 0.39594074, 0.80855856],\n",
       "       [0.30120482, 0.59821429, 0.03899565, 0.86711712],\n",
       "       [0.30120482, 0.61607143, 0.05749908, 0.95945946],\n",
       "       [0.30120482, 0.61904762, 0.1336133 , 0.87162162],\n",
       "       [0.30120482, 0.6577381 , 0.12668127, 0.83558559],\n",
       "       [0.30120482, 0.6547619 , 0.23757202, 0.77027027],\n",
       "       [0.30120482, 0.72619048, 0.26162631, 0.77252252],\n",
       "       [0.30120482, 0.72916667, 0.24103727, 0.76351351],\n",
       "       [0.30120482, 0.75297619, 0.28250666, 0.84234234],\n",
       "       [0.30120482, 0.79761905, 0.16542952, 0.9009009 ],\n",
       "       [0.30120482, 0.78571429, 0.26382494, 0.9009009 ],\n",
       "       [0.30120482, 0.67559524, 0.32457215, 0.8536036 ],\n",
       "       [0.30120482, 0.67559524, 0.32890209, 0.82207207],\n",
       "       [0.30120482, 0.70535714, 0.2448103 , 0.81981982],\n",
       "       [0.30120482, 0.72619048, 0.16509993, 0.7972973 ],\n",
       "       [0.30120482, 0.75      , 0.16950348, 0.7972973 ],\n",
       "       [0.40963855, 0.67261905, 0.14390967, 0.79279279],\n",
       "       [0.40963855, 0.70238095, 0.15044785, 0.77702703],\n",
       "       [0.40963855, 0.69345238, 0.177799  , 0.7545045 ],\n",
       "       [0.40963855, 0.66071429, 0.12760274, 0.74099099],\n",
       "       [0.40963855, 0.63690476, 0.27293809, 0.74099099],\n",
       "       [0.40963855, 0.57738095, 0.41075562, 0.73873874],\n",
       "       [0.40963855, 0.50892857, 0.4331838 , 0.75675676],\n",
       "       [0.40963855, 0.48511905, 0.33688301, 0.77702703],\n",
       "       [0.40963855, 0.52380952, 0.19568914, 0.80630631],\n",
       "       [0.40963855, 0.48809524, 0.21032811, 0.78828829],\n",
       "       [0.40963855, 0.41964286, 0.25717855, 0.75900901],\n",
       "       [0.40963855, 0.41369048, 0.26600724, 0.73873874],\n",
       "       [0.40963855, 0.42559524, 0.19985683, 0.7545045 ],\n",
       "       [0.40963855, 0.38392857, 0.07791613, 0.73873874],\n",
       "       [0.40963855, 0.42857143, 0.08172501, 0.72297297],\n",
       "       [0.40963855, 0.42559524, 0.10180813, 0.72747748],\n",
       "       [0.40963855, 0.38988095, 0.11066519, 0.75      ],\n",
       "       [0.40963855, 0.38095238, 0.10217381, 0.72297297],\n",
       "       [0.40963855, 0.39285714, 0.07256569, 0.66891892],\n",
       "       [0.40963855, 0.40178571, 0.02289513, 0.6463964 ],\n",
       "       [0.40963855, 0.38095238, 0.05786603, 0.45045045],\n",
       "       [0.60240964, 0.36309524, 0.06371353, 0.4481982 ],\n",
       "       [0.60240964, 0.37202381, 0.0565749 , 0.46846847],\n",
       "       [0.60240964, 0.37797619, 0.03028559, 0.28153153],\n",
       "       [0.60240964, 0.38988095, 0.0614546 , 0.31306306],\n",
       "       [0.60240964, 0.40178571, 0.09834492, 0.29054054],\n",
       "       [0.60240964, 0.42559524, 0.45507288, 0.30855856],\n",
       "       [0.60240964, 0.57440476, 0.41709854, 0.28378378],\n",
       "       [0.60240964, 0.44345238, 0.37423322, 0.28378378],\n",
       "       [0.60240964, 0.4702381 , 0.31816116, 0.29054054],\n",
       "       [0.60240964, 0.4702381 , 0.27563485, 0.28828829],\n",
       "       [0.60240964, 0.50595238, 0.10917035, 0.27927928],\n",
       "       [0.60240964, 0.45833333, 0.15658491, 0.27252252],\n",
       "       [0.60240964, 0.5327381 , 0.14919522, 0.26801802],\n",
       "       [0.60240964, 0.48214286, 0.1814829 , 0.26351351],\n",
       "       [0.60240964, 0.44642857, 0.177799  , 0.29954955],\n",
       "       [0.60240964, 0.45833333, 0.27192726, 0.28603604],\n",
       "       [0.60240964, 0.39583333, 0.27505521, 0.28153153],\n",
       "       [0.60240964, 0.35714286, 0.3623153 , 0.26801802],\n",
       "       [0.60240964, 0.30059524, 0.37011238, 0.26801802],\n",
       "       [0.75903614, 0.30357143, 0.2578501 , 0.32207207],\n",
       "       [0.75903614, 0.2797619 , 0.15178037, 0.44144144],\n",
       "       [0.75903614, 0.28869048, 0.10695624, 0.44144144],\n",
       "       [0.75903614, 0.24702381, 0.14910541, 0.43693694],\n",
       "       [0.75903614, 0.23214286, 0.15957896, 0.44594595],\n",
       "       [0.75903614, 0.21428571, 0.42257123, 0.45945946],\n",
       "       [0.75903614, 0.08928571, 0.36260229, 0.46171171],\n",
       "       [0.75903614, 0.1547619 , 0.37542559, 0.49099099],\n",
       "       [0.75903614, 0.08928571, 0.29028728, 0.48873874],\n",
       "       [0.75903614, 0.11309524, 0.13163461, 0.54279279],\n",
       "       [0.75903614, 0.11607143, 0.11259634, 0.54504505],\n",
       "       [0.75903614, 0.125     , 0.04980662, 0.56306306],\n",
       "       [0.75903614, 0.11309524, 0.        , 0.59684685],\n",
       "       [0.75903614, 0.11904762, 0.05258051, 0.58783784],\n",
       "       [0.75903614, 0.08928571, 0.05179757, 0.5045045 ],\n",
       "       [0.75903614, 0.11309524, 0.0669204 , 0.5045045 ],\n",
       "       [0.75903614, 0.08333333, 0.07731815, 0.52702703],\n",
       "       [0.75903614, 0.08035714, 0.0920481 , 0.54279279],\n",
       "       [0.75903614, 0.05654762, 0.10021166, 0.56081081],\n",
       "       [0.75903614, 0.06547619, 0.09335927, 0.50225225],\n",
       "       [0.75903614, 0.0327381 , 0.07731815, 0.52477477],\n",
       "       [0.8313253 , 0.06845238, 0.07983708, 0.51801802],\n",
       "       [0.8313253 , 0.0297619 , 0.1229399 , 0.49324324],\n",
       "       [0.8313253 , 0.00892857, 0.10241703, 0.47522523],\n",
       "       [0.8313253 , 0.02380952, 0.10338549, 0.43018018],\n",
       "       [0.8313253 , 0.02678571, 0.04714162, 0.37837838],\n",
       "       [0.8313253 , 0.        , 0.04015174, 0.36036036],\n",
       "       [0.8313253 , 0.02380952, 0.03540491, 0.38963964],\n",
       "       [0.8313253 , 0.02083333, 0.03540491, 0.36261261],\n",
       "       [0.8313253 , 0.01190476, 0.02585342, 0.31081081],\n",
       "       [0.8313253 , 0.01488095, 0.05507534, 0.30630631],\n",
       "       [0.8313253 , 0.04761905, 0.14455607, 0.31531532],\n",
       "       [0.8313253 , 0.08035714, 0.14964359, 0.28378378],\n",
       "       [0.8313253 , 0.0625    , 0.14279593, 0.31756757],\n",
       "       [0.8313253 , 0.08630952, 0.06180575, 0.31531532],\n",
       "       [0.8313253 , 0.06845238, 0.02893634, 0.28828829],\n",
       "       [0.8313253 , 0.06845238, 0.02893634, 0.28153153],\n",
       "       [0.8313253 , 0.0625    , 0.0537412 , 0.29054054],\n",
       "       [0.8313253 , 0.04761905, 0.02166442, 0.2972973 ],\n",
       "       [0.8313253 , 0.05952381, 0.20709279, 0.28153153],\n",
       "       [0.8313253 , 0.14583333, 0.20952337, 0.26801802],\n",
       "       [0.8313253 , 0.0952381 , 0.20125257, 0.27477477],\n",
       "       [0.95180723, 0.0952381 , 0.15528694, 0.27927928],\n",
       "       [0.95180723, 0.09821429, 0.10265981, 0.28828829],\n",
       "       [0.95180723, 0.09821429, 0.13469145, 0.2972973 ],\n",
       "       [0.95180723, 0.1577381 , 0.25294529, 0.31531532],\n",
       "       [0.95180723, 0.19940476, 0.33109214, 0.42792793],\n",
       "       [0.95180723, 0.23214286, 0.46706519, 0.32882883],\n",
       "       [0.95180723, 0.31845238, 0.34262707, 0.3490991 ],\n",
       "       [0.95180723, 0.26785714, 0.26730894, 0.3490991 ],\n",
       "       [0.95180723, 0.20535714, 0.26730894, 0.37612613],\n",
       "       [0.95180723, 0.19940476, 0.27352177, 0.34009009],\n",
       "       [0.95180723, 0.2202381 , 0.13371161, 0.3963964 ],\n",
       "       [0.95180723, 0.23214286, 0.09971649, 0.35810811],\n",
       "       [0.95180723, 0.25297619, 0.19526099, 0.33108108],\n",
       "       [0.95180723, 0.29761905, 0.20810855, 0.34009009],\n",
       "       [0.95180723, 0.30952381, 0.28507048, 0.29279279],\n",
       "       [0.95180723, 0.36607143, 0.3661518 , 0.26351351],\n",
       "       [0.95180723, 0.42261905, 0.27080607, 0.22072072],\n",
       "       [0.95180723, 0.35714286, 0.22209105, 0.22297297],\n",
       "       [0.95180723, 0.38988095, 0.1229399 , 0.20495495],\n",
       "       [0.95180723, 0.38095238, 0.14693632, 0.21171171],\n",
       "       [0.95180723, 0.34821429, 0.07350255, 0.18018018],\n",
       "       [0.95180723, 0.375     , 0.07034569, 0.16891892],\n",
       "       [1.        , 0.38690476, 0.13123596, 0.15540541],\n",
       "       [1.        , 0.42261905, 0.27479138, 0.06081081],\n",
       "       [1.        , 0.47916667, 0.26774157, 0.11036036],\n",
       "       [1.        , 0.47916667, 0.20682118, 0.06081081],\n",
       "       [1.        , 0.44047619, 0.14270279, 0.07882883],\n",
       "       [1.        , 0.42261905, 0.13874466, 0.08108108],\n",
       "       [1.        , 0.42559524, 0.11270912, 0.08783784],\n",
       "       [1.        , 0.42559524, 0.09746442, 0.07882883],\n",
       "       [1.        , 0.38392857, 0.10951674, 0.08333333],\n",
       "       [1.        , 0.38095238, 0.10205203, 0.06081081],\n",
       "       [1.        , 0.39583333, 0.09125459, 0.07882883],\n",
       "       [1.        , 0.375     , 0.09872043, 0.05630631],\n",
       "       [1.        , 0.42857143, 0.16261001, 0.05405405],\n",
       "       [1.        , 0.44940476, 0.22016897, 0.03603604],\n",
       "       [1.        , 0.47916667, 0.20695703, 0.04279279],\n",
       "       [1.        , 0.45535714, 0.0827285 , 0.01801802],\n",
       "       [1.        , 0.46428571, 0.05412454, 0.04504505],\n",
       "       [1.        , 0.44345238, 0.10542048, 0.01576577],\n",
       "       [1.        , 0.41964286, 0.07193634, 0.        ],\n",
       "       [1.        , 0.44047619, 0.06937908, 0.01126126],\n",
       "       [1.        , 0.43154762, 0.08301357, 0.01351351]])"
      ]
     },
     "execution_count": 457,
     "metadata": {},
     "output_type": "execute_result"
    }
   ],
   "source": [
    "train_df_sc"
   ]
  },
  {
   "cell_type": "code",
   "execution_count": 458,
   "metadata": {},
   "outputs": [],
   "source": [
    "from sklearn.svm import SVR"
   ]
  },
  {
   "cell_type": "code",
   "execution_count": 459,
   "metadata": {},
   "outputs": [],
   "source": [
    "svr = SVR()"
   ]
  },
  {
   "cell_type": "code",
   "execution_count": 460,
   "metadata": {},
   "outputs": [],
   "source": [
    "y_train = train_df['Close'].values.reshape(-1,1)"
   ]
  },
  {
   "cell_type": "code",
   "execution_count": 461,
   "metadata": {},
   "outputs": [
    {
     "data": {
      "text/plain": [
       "170"
      ]
     },
     "execution_count": 461,
     "metadata": {},
     "output_type": "execute_result"
    }
   ],
   "source": [
    "len(X_train)"
   ]
  },
  {
   "cell_type": "code",
   "execution_count": 462,
   "metadata": {},
   "outputs": [
    {
     "data": {
      "text/plain": [
       "170"
      ]
     },
     "execution_count": 462,
     "metadata": {},
     "output_type": "execute_result"
    }
   ],
   "source": [
    "len(y_train)"
   ]
  },
  {
   "cell_type": "code",
   "execution_count": 463,
   "metadata": {},
   "outputs": [
    {
     "name": "stderr",
     "output_type": "stream",
     "text": [
      "/anaconda3/lib/python3.6/site-packages/sklearn/utils/validation.py:578: DataConversionWarning: A column-vector y was passed when a 1d array was expected. Please change the shape of y to (n_samples, ), for example using ravel().\n",
      "  y = column_or_1d(y, warn=True)\n"
     ]
    },
    {
     "data": {
      "text/plain": [
       "SVR(C=1.0, cache_size=200, coef0=0.0, degree=3, epsilon=0.1, gamma='auto',\n",
       "  kernel='rbf', max_iter=-1, shrinking=True, tol=0.001, verbose=False)"
      ]
     },
     "execution_count": 463,
     "metadata": {},
     "output_type": "execute_result"
    }
   ],
   "source": [
    "svr.fit(X_train, y_train)"
   ]
  },
  {
   "cell_type": "code",
   "execution_count": 464,
   "metadata": {},
   "outputs": [],
   "source": [
    "y_pred = svr.predict(X_test)"
   ]
  },
  {
   "cell_type": "code",
   "execution_count": 465,
   "metadata": {},
   "outputs": [
    {
     "data": {
      "text/plain": [
       "75"
      ]
     },
     "execution_count": 465,
     "metadata": {},
     "output_type": "execute_result"
    }
   ],
   "source": [
    "len(y_pred)"
   ]
  },
  {
   "cell_type": "code",
   "execution_count": 466,
   "metadata": {},
   "outputs": [
    {
     "data": {
      "text/plain": [
       "[<matplotlib.lines.Line2D at 0x1a3a6315f8>]"
      ]
     },
     "execution_count": 466,
     "metadata": {},
     "output_type": "execute_result"
    },
    {
     "data": {
      "image/png": "[encoded data removed]",
      "text/plain": [
       "<Figure size 432x288 with 1 Axes>"
      ]
     },
     "metadata": {},
     "output_type": "display_data"
    }
   ],
   "source": [
    "\n",
    "plt.plot(y_pred)"
   ]
  },
  {
   "cell_type": "code",
   "execution_count": 467,
   "metadata": {},
   "outputs": [],
   "source": [
    "y_test = test_df['Close'].values"
   ]
  },
  {
   "cell_type": "code",
   "execution_count": 468,
   "metadata": {},
   "outputs": [
    {
     "data": {
      "text/plain": [
       "[<matplotlib.lines.Line2D at 0x1a3a615278>]"
      ]
     },
     "execution_count": 468,
     "metadata": {},
     "output_type": "execute_result"
    },
    {
     "data": {
      "image/png": "[encoded data removed]",
      "text/plain": [
       "<Figure size 432x288 with 1 Axes>"
      ]
     },
     "metadata": {},
     "output_type": "display_data"
    }
   ],
   "source": [
    "plt.plot(test_df['Close'])"
   ]
  },
  {
   "cell_type": "code",
   "execution_count": 469,
   "metadata": {},
   "outputs": [],
   "source": [
    "from sklearn.metrics import r2_score"
   ]
  },
  {
   "cell_type": "code",
   "execution_count": 470,
   "metadata": {},
   "outputs": [
    {
     "data": {
      "text/plain": [
       "0.7812920279545815"
      ]
     },
     "execution_count": 470,
     "metadata": {},
     "output_type": "execute_result"
    }
   ],
   "source": [
    "r2_score(y_pred, test_df['Close'])"
   ]
  },
  {
   "cell_type": "code",
   "execution_count": 471,
   "metadata": {},
   "outputs": [],
   "source": [
    "from keras.models import Sequential\n",
    "from keras.layers import Dense\n",
    "from keras.optimizers import Adam"
   ]
  },
  {
   "cell_type": "code",
   "execution_count": 472,
   "metadata": {},
   "outputs": [
    {
     "data": {
      "text/plain": [
       "\"model = Sequential()\\nmodel.add(Dense(10, input_shape=(X_test.shape[1],), activation='tanh', kernel_initializer='lecun_uniform'))\\nmodel.add(Dense(10, input_shape=(X_test.shape[1],)))\\nmodel.add(Dense(1))\\nmodel.compile(optimizer='adam', loss='mean_squared_error')\\nhistory = model.fit(X_train, y_train, batch_size=16, validation_data = (X_test, y_test), epochs=100, verbose=1)\""
      ]
     },
     "execution_count": 472,
     "metadata": {},
     "output_type": "execute_result"
    }
   ],
   "source": [
    "'''model = Sequential()\n",
    "model.add(Dense(10, input_shape=(X_test.shape[1],), activation='tanh', kernel_initializer='lecun_uniform'))\n",
    "model.add(Dense(10, input_shape=(X_test.shape[1],)))\n",
    "model.add(Dense(1))\n",
    "model.compile(optimizer='adam', loss='mean_squared_error')\n",
    "history = model.fit(X_train, y_train, batch_size=16, validation_data = (X_test, y_test), epochs=100, verbose=1)'''"
   ]
  },
  {
   "cell_type": "code",
   "execution_count": 473,
   "metadata": {},
   "outputs": [
    {
     "name": "stdout",
     "output_type": "stream",
     "text": [
      "Train on 170 samples, validate on 75 samples\n",
      "Epoch 1/200\n",
      "170/170 [==============================] - 1s 6ms/step - loss: 12.7399 - val_loss: 6.4831\n",
      "Epoch 2/200\n",
      "170/170 [==============================] - 0s 255us/step - loss: 10.6157 - val_loss: 4.8345\n",
      "Epoch 3/200\n",
      "170/170 [==============================] - 0s 381us/step - loss: 8.7445 - val_loss: 3.4440\n",
      "Epoch 4/200\n",
      "170/170 [==============================] - 0s 285us/step - loss: 6.9687 - val_loss: 2.2432\n",
      "Epoch 5/200\n",
      "170/170 [==============================] - 0s 354us/step - loss: 5.2178 - val_loss: 1.2989\n",
      "Epoch 6/200\n",
      "170/170 [==============================] - 0s 309us/step - loss: 3.5940 - val_loss: 0.7081\n",
      "Epoch 7/200\n",
      "170/170 [==============================] - 0s 362us/step - loss: 2.1605 - val_loss: 0.5805\n",
      "Epoch 8/200\n",
      "170/170 [==============================] - 0s 281us/step - loss: 1.1302 - val_loss: 0.8921\n",
      "Epoch 9/200\n",
      "170/170 [==============================] - 0s 288us/step - loss: 0.6859 - val_loss: 1.3750\n",
      "Epoch 10/200\n",
      "170/170 [==============================] - 0s 323us/step - loss: 0.5672 - val_loss: 1.6347\n",
      "Epoch 11/200\n",
      "170/170 [==============================] - 0s 297us/step - loss: 0.5545 - val_loss: 1.6098\n",
      "Epoch 12/200\n",
      "170/170 [==============================] - 0s 332us/step - loss: 0.5314 - val_loss: 1.4047\n",
      "Epoch 13/200\n",
      "170/170 [==============================] - 0s 315us/step - loss: 0.4974 - val_loss: 1.2363\n",
      "Epoch 14/200\n",
      "170/170 [==============================] - 0s 381us/step - loss: 0.4584 - val_loss: 1.1185\n",
      "Epoch 15/200\n",
      "170/170 [==============================] - 0s 307us/step - loss: 0.4110 - val_loss: 0.9245\n",
      "Epoch 16/200\n",
      "170/170 [==============================] - 0s 290us/step - loss: 0.3693 - val_loss: 0.7951\n",
      "Epoch 17/200\n",
      "170/170 [==============================] - 0s 298us/step - loss: 0.3293 - val_loss: 0.7489\n",
      "Epoch 18/200\n",
      "170/170 [==============================] - 0s 303us/step - loss: 0.2942 - val_loss: 0.6533\n",
      "Epoch 19/200\n",
      "170/170 [==============================] - 0s 283us/step - loss: 0.2610 - val_loss: 0.6131\n",
      "Epoch 20/200\n",
      "170/170 [==============================] - 0s 290us/step - loss: 0.2337 - val_loss: 0.5317\n",
      "Epoch 21/200\n",
      "170/170 [==============================] - 0s 300us/step - loss: 0.2039 - val_loss: 0.4522\n",
      "Epoch 22/200\n",
      "170/170 [==============================] - 0s 215us/step - loss: 0.1816 - val_loss: 0.3937\n",
      "Epoch 23/200\n",
      "170/170 [==============================] - 0s 263us/step - loss: 0.1597 - val_loss: 0.3377\n",
      "Epoch 24/200\n",
      "170/170 [==============================] - 0s 337us/step - loss: 0.1404 - val_loss: 0.2835\n",
      "Epoch 25/200\n",
      "170/170 [==============================] - 0s 318us/step - loss: 0.1229 - val_loss: 0.2294\n",
      "Epoch 26/200\n",
      "170/170 [==============================] - 0s 287us/step - loss: 0.1096 - val_loss: 0.2089\n",
      "Epoch 27/200\n",
      "170/170 [==============================] - 0s 331us/step - loss: 0.0958 - val_loss: 0.1536\n",
      "Epoch 28/200\n",
      "170/170 [==============================] - 0s 297us/step - loss: 0.0863 - val_loss: 0.1503\n",
      "Epoch 29/200\n",
      "170/170 [==============================] - 0s 277us/step - loss: 0.0752 - val_loss: 0.1060\n",
      "Epoch 30/200\n",
      "170/170 [==============================] - 0s 289us/step - loss: 0.0676 - val_loss: 0.0967\n",
      "Epoch 31/200\n",
      "170/170 [==============================] - 0s 341us/step - loss: 0.0608 - val_loss: 0.0832\n",
      "Epoch 32/200\n",
      "170/170 [==============================] - 0s 283us/step - loss: 0.0558 - val_loss: 0.0661\n",
      "Epoch 33/200\n",
      "170/170 [==============================] - 0s 379us/step - loss: 0.0513 - val_loss: 0.0564\n",
      "Epoch 34/200\n",
      "170/170 [==============================] - 0s 298us/step - loss: 0.0480 - val_loss: 0.0475\n",
      "Epoch 35/200\n",
      "170/170 [==============================] - 0s 310us/step - loss: 0.0447 - val_loss: 0.0458\n",
      "Epoch 36/200\n",
      "170/170 [==============================] - 0s 313us/step - loss: 0.0429 - val_loss: 0.0376\n",
      "Epoch 37/200\n",
      "170/170 [==============================] - 0s 331us/step - loss: 0.0408 - val_loss: 0.0338\n",
      "Epoch 38/200\n",
      "170/170 [==============================] - 0s 330us/step - loss: 0.0400 - val_loss: 0.0310\n",
      "Epoch 39/200\n",
      "170/170 [==============================] - 0s 327us/step - loss: 0.0385 - val_loss: 0.0264\n",
      "Epoch 40/200\n",
      "170/170 [==============================] - 0s 327us/step - loss: 0.0378 - val_loss: 0.0253\n",
      "Epoch 41/200\n",
      "170/170 [==============================] - 0s 349us/step - loss: 0.0380 - val_loss: 0.0288\n",
      "Epoch 42/200\n",
      "170/170 [==============================] - 0s 328us/step - loss: 0.0364 - val_loss: 0.0226\n",
      "Epoch 43/200\n",
      "170/170 [==============================] - 0s 303us/step - loss: 0.0355 - val_loss: 0.0260\n",
      "Epoch 44/200\n",
      "170/170 [==============================] - 0s 303us/step - loss: 0.0355 - val_loss: 0.0233\n",
      "Epoch 45/200\n",
      "170/170 [==============================] - 0s 323us/step - loss: 0.0341 - val_loss: 0.0248\n",
      "Epoch 46/200\n",
      "170/170 [==============================] - 0s 323us/step - loss: 0.0336 - val_loss: 0.0232\n",
      "Epoch 47/200\n",
      "170/170 [==============================] - 0s 285us/step - loss: 0.0331 - val_loss: 0.0219\n",
      "Epoch 48/200\n",
      "170/170 [==============================] - 0s 300us/step - loss: 0.0328 - val_loss: 0.0233\n",
      "Epoch 49/200\n",
      "170/170 [==============================] - 0s 278us/step - loss: 0.0323 - val_loss: 0.0225\n",
      "Epoch 50/200\n",
      "170/170 [==============================] - 0s 300us/step - loss: 0.0321 - val_loss: 0.0217\n",
      "Epoch 51/200\n",
      "170/170 [==============================] - 0s 294us/step - loss: 0.0323 - val_loss: 0.0238\n",
      "Epoch 52/200\n",
      "170/170 [==============================] - 0s 292us/step - loss: 0.0309 - val_loss: 0.0209\n",
      "Epoch 53/200\n",
      "170/170 [==============================] - 0s 259us/step - loss: 0.0317 - val_loss: 0.0216\n",
      "Epoch 54/200\n",
      "170/170 [==============================] - 0s 318us/step - loss: 0.0314 - val_loss: 0.0231\n",
      "Epoch 55/200\n",
      "170/170 [==============================] - 0s 295us/step - loss: 0.0314 - val_loss: 0.0215\n",
      "Epoch 56/200\n",
      "170/170 [==============================] - 0s 320us/step - loss: 0.0307 - val_loss: 0.0219\n",
      "Epoch 57/200\n",
      "170/170 [==============================] - 0s 288us/step - loss: 0.0306 - val_loss: 0.0217\n",
      "Epoch 58/200\n",
      "170/170 [==============================] - 0s 336us/step - loss: 0.0306 - val_loss: 0.0211\n",
      "Epoch 59/200\n",
      "170/170 [==============================] - 0s 280us/step - loss: 0.0299 - val_loss: 0.0229\n",
      "Epoch 60/200\n",
      "170/170 [==============================] - 0s 296us/step - loss: 0.0302 - val_loss: 0.0205\n",
      "Epoch 61/200\n",
      "170/170 [==============================] - 0s 254us/step - loss: 0.0288 - val_loss: 0.0227\n",
      "Epoch 62/200\n",
      "170/170 [==============================] - 0s 275us/step - loss: 0.0290 - val_loss: 0.0210\n",
      "Epoch 63/200\n",
      "170/170 [==============================] - 0s 289us/step - loss: 0.0288 - val_loss: 0.0222\n",
      "Epoch 64/200\n",
      "170/170 [==============================] - 0s 291us/step - loss: 0.0284 - val_loss: 0.0207\n",
      "Epoch 65/200\n",
      "170/170 [==============================] - 0s 247us/step - loss: 0.0294 - val_loss: 0.0233\n",
      "Epoch 66/200\n",
      "170/170 [==============================] - 0s 274us/step - loss: 0.0284 - val_loss: 0.0202\n",
      "Epoch 67/200\n",
      "170/170 [==============================] - 0s 282us/step - loss: 0.0274 - val_loss: 0.0238\n",
      "Epoch 68/200\n",
      "170/170 [==============================] - 0s 320us/step - loss: 0.0276 - val_loss: 0.0202\n",
      "Epoch 69/200\n",
      "170/170 [==============================] - 0s 264us/step - loss: 0.0271 - val_loss: 0.0220\n",
      "Epoch 70/200\n",
      "170/170 [==============================] - ETA: 0s - loss: 0.038 - 0s 282us/step - loss: 0.0281 - val_loss: 0.0203\n",
      "Epoch 71/200\n",
      "170/170 [==============================] - 0s 235us/step - loss: 0.0272 - val_loss: 0.0211\n",
      "Epoch 72/200\n",
      "170/170 [==============================] - 0s 273us/step - loss: 0.0271 - val_loss: 0.0211\n",
      "Epoch 73/200\n",
      "170/170 [==============================] - 0s 239us/step - loss: 0.0268 - val_loss: 0.0208\n",
      "Epoch 74/200\n",
      "170/170 [==============================] - 0s 246us/step - loss: 0.0264 - val_loss: 0.0220\n",
      "Epoch 75/200\n",
      "170/170 [==============================] - 0s 225us/step - loss: 0.0268 - val_loss: 0.0209\n",
      "Epoch 76/200\n",
      "170/170 [==============================] - 0s 212us/step - loss: 0.0266 - val_loss: 0.0212\n",
      "Epoch 77/200\n",
      "170/170 [==============================] - 0s 237us/step - loss: 0.0259 - val_loss: 0.0202\n",
      "Epoch 78/200\n",
      "170/170 [==============================] - 0s 206us/step - loss: 0.0265 - val_loss: 0.0209\n",
      "Epoch 79/200\n"
     ]
    },
    {
     "name": "stdout",
     "output_type": "stream",
     "text": [
      "170/170 [==============================] - 0s 224us/step - loss: 0.0261 - val_loss: 0.0205\n",
      "Epoch 80/200\n",
      "170/170 [==============================] - 0s 231us/step - loss: 0.0260 - val_loss: 0.0204\n",
      "Epoch 81/200\n",
      "170/170 [==============================] - 0s 206us/step - loss: 0.0261 - val_loss: 0.0203\n",
      "Epoch 82/200\n",
      "170/170 [==============================] - 0s 246us/step - loss: 0.0262 - val_loss: 0.0207\n",
      "Epoch 83/200\n",
      "170/170 [==============================] - 0s 237us/step - loss: 0.0261 - val_loss: 0.0206\n",
      "Epoch 84/200\n",
      "170/170 [==============================] - 0s 279us/step - loss: 0.0262 - val_loss: 0.0199\n",
      "Epoch 85/200\n",
      "170/170 [==============================] - 0s 305us/step - loss: 0.0265 - val_loss: 0.0212\n",
      "Epoch 86/200\n",
      "170/170 [==============================] - 0s 265us/step - loss: 0.0263 - val_loss: 0.0196\n",
      "Epoch 87/200\n",
      "170/170 [==============================] - 0s 294us/step - loss: 0.0268 - val_loss: 0.0213\n",
      "Epoch 88/200\n",
      "170/170 [==============================] - 0s 322us/step - loss: 0.0253 - val_loss: 0.0192\n",
      "Epoch 89/200\n",
      "170/170 [==============================] - 0s 277us/step - loss: 0.0256 - val_loss: 0.0210\n",
      "Epoch 90/200\n",
      "170/170 [==============================] - 0s 310us/step - loss: 0.0255 - val_loss: 0.0205\n",
      "Epoch 91/200\n",
      "170/170 [==============================] - 0s 262us/step - loss: 0.0255 - val_loss: 0.0201\n",
      "Epoch 92/200\n",
      "170/170 [==============================] - 0s 256us/step - loss: 0.0256 - val_loss: 0.0206\n",
      "Epoch 93/200\n",
      "170/170 [==============================] - 0s 256us/step - loss: 0.0265 - val_loss: 0.0205\n",
      "Epoch 94/200\n",
      "170/170 [==============================] - 0s 260us/step - loss: 0.0253 - val_loss: 0.0206\n",
      "Epoch 95/200\n",
      "170/170 [==============================] - 0s 250us/step - loss: 0.0253 - val_loss: 0.0199\n",
      "Epoch 96/200\n",
      "170/170 [==============================] - 0s 280us/step - loss: 0.0251 - val_loss: 0.0198\n",
      "Epoch 97/200\n",
      "170/170 [==============================] - 0s 286us/step - loss: 0.0253 - val_loss: 0.0198\n",
      "Epoch 98/200\n",
      "170/170 [==============================] - 0s 302us/step - loss: 0.0255 - val_loss: 0.0196\n",
      "Epoch 99/200\n",
      "170/170 [==============================] - 0s 269us/step - loss: 0.0253 - val_loss: 0.0215\n",
      "Epoch 100/200\n",
      "170/170 [==============================] - 0s 292us/step - loss: 0.0256 - val_loss: 0.0197\n",
      "Epoch 101/200\n",
      "170/170 [==============================] - 0s 265us/step - loss: 0.0250 - val_loss: 0.0201\n",
      "Epoch 102/200\n",
      "170/170 [==============================] - 0s 298us/step - loss: 0.0251 - val_loss: 0.0197\n",
      "Epoch 103/200\n",
      "170/170 [==============================] - 0s 260us/step - loss: 0.0253 - val_loss: 0.0196\n",
      "Epoch 104/200\n",
      "170/170 [==============================] - 0s 289us/step - loss: 0.0252 - val_loss: 0.0200\n",
      "Epoch 105/200\n",
      "170/170 [==============================] - 0s 296us/step - loss: 0.0250 - val_loss: 0.0200\n",
      "Epoch 106/200\n",
      "170/170 [==============================] - 0s 278us/step - loss: 0.0253 - val_loss: 0.0192\n",
      "Epoch 107/200\n",
      "170/170 [==============================] - 0s 278us/step - loss: 0.0250 - val_loss: 0.0199\n",
      "Epoch 108/200\n",
      "170/170 [==============================] - 0s 276us/step - loss: 0.0251 - val_loss: 0.0196\n",
      "Epoch 109/200\n",
      "170/170 [==============================] - 0s 256us/step - loss: 0.0253 - val_loss: 0.0198\n",
      "Epoch 110/200\n",
      "170/170 [==============================] - 0s 332us/step - loss: 0.0257 - val_loss: 0.0204\n",
      "Epoch 111/200\n",
      "170/170 [==============================] - 0s 287us/step - loss: 0.0257 - val_loss: 0.0193\n",
      "Epoch 112/200\n",
      "170/170 [==============================] - 0s 301us/step - loss: 0.0258 - val_loss: 0.0193\n",
      "Epoch 113/200\n",
      "170/170 [==============================] - 0s 287us/step - loss: 0.0255 - val_loss: 0.0195\n",
      "Epoch 114/200\n",
      "170/170 [==============================] - 0s 295us/step - loss: 0.0257 - val_loss: 0.0198\n",
      "Epoch 115/200\n",
      "170/170 [==============================] - 0s 297us/step - loss: 0.0255 - val_loss: 0.0193\n",
      "Epoch 116/200\n",
      "170/170 [==============================] - 0s 302us/step - loss: 0.0250 - val_loss: 0.0201\n",
      "Epoch 117/200\n",
      "170/170 [==============================] - 0s 292us/step - loss: 0.0254 - val_loss: 0.0204\n",
      "Epoch 118/200\n",
      "170/170 [==============================] - 0s 306us/step - loss: 0.0249 - val_loss: 0.0201\n",
      "Epoch 119/200\n",
      "170/170 [==============================] - 0s 274us/step - loss: 0.0249 - val_loss: 0.0200\n",
      "Epoch 120/200\n",
      "170/170 [==============================] - 0s 272us/step - loss: 0.0248 - val_loss: 0.0191\n",
      "Epoch 121/200\n",
      "170/170 [==============================] - 0s 257us/step - loss: 0.0248 - val_loss: 0.0197\n",
      "Epoch 122/200\n",
      "170/170 [==============================] - 0s 241us/step - loss: 0.0249 - val_loss: 0.0191\n",
      "Epoch 123/200\n",
      "170/170 [==============================] - 0s 235us/step - loss: 0.0247 - val_loss: 0.0199\n",
      "Epoch 124/200\n",
      "170/170 [==============================] - 0s 261us/step - loss: 0.0253 - val_loss: 0.0188\n",
      "Epoch 125/200\n",
      "170/170 [==============================] - 0s 236us/step - loss: 0.0253 - val_loss: 0.0198\n",
      "Epoch 126/200\n",
      "170/170 [==============================] - 0s 262us/step - loss: 0.0253 - val_loss: 0.0193\n",
      "Epoch 127/200\n",
      "170/170 [==============================] - 0s 235us/step - loss: 0.0258 - val_loss: 0.0206\n",
      "Epoch 128/200\n",
      "170/170 [==============================] - 0s 255us/step - loss: 0.0252 - val_loss: 0.0195\n",
      "Epoch 129/200\n",
      "170/170 [==============================] - 0s 259us/step - loss: 0.0250 - val_loss: 0.0196\n",
      "Epoch 130/200\n",
      "170/170 [==============================] - 0s 312us/step - loss: 0.0249 - val_loss: 0.0200\n",
      "Epoch 131/200\n",
      "170/170 [==============================] - 0s 330us/step - loss: 0.0252 - val_loss: 0.0198\n",
      "Epoch 132/200\n",
      "170/170 [==============================] - 0s 312us/step - loss: 0.0250 - val_loss: 0.0195\n",
      "Epoch 133/200\n",
      "170/170 [==============================] - 0s 293us/step - loss: 0.0248 - val_loss: 0.0190\n",
      "Epoch 134/200\n",
      "170/170 [==============================] - 0s 292us/step - loss: 0.0248 - val_loss: 0.0197\n",
      "Epoch 135/200\n",
      "170/170 [==============================] - 0s 314us/step - loss: 0.0249 - val_loss: 0.0198\n",
      "Epoch 136/200\n",
      "170/170 [==============================] - 0s 308us/step - loss: 0.0253 - val_loss: 0.0199\n",
      "Epoch 137/200\n",
      "170/170 [==============================] - 0s 279us/step - loss: 0.0263 - val_loss: 0.0190\n",
      "Epoch 138/200\n",
      "170/170 [==============================] - 0s 289us/step - loss: 0.0248 - val_loss: 0.0194\n",
      "Epoch 139/200\n",
      "170/170 [==============================] - 0s 286us/step - loss: 0.0252 - val_loss: 0.0212\n",
      "Epoch 140/200\n",
      "170/170 [==============================] - 0s 310us/step - loss: 0.0245 - val_loss: 0.0187\n",
      "Epoch 141/200\n",
      "170/170 [==============================] - 0s 280us/step - loss: 0.0268 - val_loss: 0.0198\n",
      "Epoch 142/200\n",
      "170/170 [==============================] - 0s 299us/step - loss: 0.0259 - val_loss: 0.0192\n",
      "Epoch 143/200\n",
      "170/170 [==============================] - 0s 271us/step - loss: 0.0250 - val_loss: 0.0194\n",
      "Epoch 144/200\n",
      "170/170 [==============================] - 0s 309us/step - loss: 0.0250 - val_loss: 0.0196\n",
      "Epoch 145/200\n",
      "170/170 [==============================] - 0s 276us/step - loss: 0.0251 - val_loss: 0.0190\n",
      "Epoch 146/200\n",
      "170/170 [==============================] - 0s 277us/step - loss: 0.0248 - val_loss: 0.0188\n",
      "Epoch 147/200\n",
      "170/170 [==============================] - 0s 284us/step - loss: 0.0248 - val_loss: 0.0199\n",
      "Epoch 148/200\n",
      "170/170 [==============================] - 0s 285us/step - loss: 0.0246 - val_loss: 0.0189\n",
      "Epoch 149/200\n",
      "170/170 [==============================] - 0s 271us/step - loss: 0.0249 - val_loss: 0.0205\n",
      "Epoch 150/200\n",
      "170/170 [==============================] - 0s 267us/step - loss: 0.0247 - val_loss: 0.0187\n",
      "Epoch 151/200\n",
      "170/170 [==============================] - 0s 261us/step - loss: 0.0255 - val_loss: 0.0201\n",
      "Epoch 152/200\n",
      "170/170 [==============================] - 0s 275us/step - loss: 0.0247 - val_loss: 0.0194\n",
      "Epoch 153/200\n",
      "170/170 [==============================] - 0s 296us/step - loss: 0.0256 - val_loss: 0.0204\n",
      "Epoch 154/200\n",
      "170/170 [==============================] - 0s 273us/step - loss: 0.0250 - val_loss: 0.0220\n",
      "Epoch 155/200\n",
      "170/170 [==============================] - 0s 278us/step - loss: 0.0248 - val_loss: 0.0187\n",
      "Epoch 156/200\n",
      "170/170 [==============================] - 0s 291us/step - loss: 0.0256 - val_loss: 0.0196\n",
      "Epoch 157/200\n"
     ]
    },
    {
     "name": "stdout",
     "output_type": "stream",
     "text": [
      "170/170 [==============================] - 0s 286us/step - loss: 0.0247 - val_loss: 0.0203\n",
      "Epoch 158/200\n",
      "170/170 [==============================] - 0s 291us/step - loss: 0.0248 - val_loss: 0.0189\n",
      "Epoch 159/200\n",
      "170/170 [==============================] - 0s 286us/step - loss: 0.0250 - val_loss: 0.0196\n",
      "Epoch 160/200\n",
      "170/170 [==============================] - 0s 313us/step - loss: 0.0254 - val_loss: 0.0200\n",
      "Epoch 161/200\n",
      "170/170 [==============================] - 0s 290us/step - loss: 0.0251 - val_loss: 0.0195\n",
      "Epoch 162/200\n",
      "170/170 [==============================] - 0s 317us/step - loss: 0.0246 - val_loss: 0.0203\n",
      "Epoch 163/200\n",
      "170/170 [==============================] - 0s 305us/step - loss: 0.0251 - val_loss: 0.0189\n",
      "Epoch 164/200\n",
      "170/170 [==============================] - 0s 277us/step - loss: 0.0255 - val_loss: 0.0204\n",
      "Epoch 165/200\n",
      "170/170 [==============================] - 0s 301us/step - loss: 0.0248 - val_loss: 0.0192\n",
      "Epoch 166/200\n",
      "170/170 [==============================] - 0s 313us/step - loss: 0.0247 - val_loss: 0.0200\n",
      "Epoch 167/200\n",
      "170/170 [==============================] - 0s 288us/step - loss: 0.0246 - val_loss: 0.0196\n",
      "Epoch 168/200\n",
      "170/170 [==============================] - 0s 293us/step - loss: 0.0247 - val_loss: 0.0200\n",
      "Epoch 169/200\n",
      "170/170 [==============================] - 0s 316us/step - loss: 0.0257 - val_loss: 0.0187\n",
      "Epoch 170/200\n",
      "170/170 [==============================] - 0s 281us/step - loss: 0.0251 - val_loss: 0.0196\n",
      "Epoch 171/200\n",
      "170/170 [==============================] - 0s 289us/step - loss: 0.0252 - val_loss: 0.0216\n",
      "Epoch 172/200\n",
      "170/170 [==============================] - 0s 294us/step - loss: 0.0259 - val_loss: 0.0187\n",
      "Epoch 173/200\n",
      "170/170 [==============================] - 0s 286us/step - loss: 0.0255 - val_loss: 0.0197\n",
      "Epoch 174/200\n",
      "170/170 [==============================] - 0s 281us/step - loss: 0.0247 - val_loss: 0.0192\n",
      "Epoch 175/200\n",
      "170/170 [==============================] - 0s 285us/step - loss: 0.0251 - val_loss: 0.0195\n",
      "Epoch 176/200\n",
      "170/170 [==============================] - 0s 288us/step - loss: 0.0259 - val_loss: 0.0188\n",
      "Epoch 177/200\n",
      "170/170 [==============================] - 0s 279us/step - loss: 0.0252 - val_loss: 0.0198\n",
      "Epoch 178/200\n",
      "170/170 [==============================] - 0s 295us/step - loss: 0.0251 - val_loss: 0.0211\n",
      "Epoch 179/200\n",
      "170/170 [==============================] - 0s 277us/step - loss: 0.0252 - val_loss: 0.0196\n",
      "Epoch 180/200\n",
      "170/170 [==============================] - 0s 288us/step - loss: 0.0247 - val_loss: 0.0188\n",
      "Epoch 181/200\n",
      "170/170 [==============================] - 0s 280us/step - loss: 0.0249 - val_loss: 0.0208\n",
      "Epoch 182/200\n",
      "170/170 [==============================] - 0s 302us/step - loss: 0.0265 - val_loss: 0.0187\n",
      "Epoch 183/200\n",
      "170/170 [==============================] - 0s 290us/step - loss: 0.0260 - val_loss: 0.0208\n",
      "Epoch 184/200\n",
      "170/170 [==============================] - 0s 272us/step - loss: 0.0266 - val_loss: 0.0197\n",
      "Epoch 185/200\n",
      "170/170 [==============================] - 0s 256us/step - loss: 0.0250 - val_loss: 0.0193\n",
      "Epoch 186/200\n",
      "170/170 [==============================] - 0s 284us/step - loss: 0.0246 - val_loss: 0.0200\n",
      "Epoch 187/200\n",
      "170/170 [==============================] - 0s 314us/step - loss: 0.0253 - val_loss: 0.0194\n",
      "Epoch 188/200\n",
      "170/170 [==============================] - 0s 254us/step - loss: 0.0264 - val_loss: 0.0203\n",
      "Epoch 189/200\n",
      "170/170 [==============================] - 0s 249us/step - loss: 0.0249 - val_loss: 0.0191\n",
      "Epoch 190/200\n",
      "170/170 [==============================] - 0s 260us/step - loss: 0.0248 - val_loss: 0.0197\n",
      "Epoch 191/200\n",
      "170/170 [==============================] - 0s 263us/step - loss: 0.0246 - val_loss: 0.0191\n",
      "Epoch 192/200\n",
      "170/170 [==============================] - 0s 270us/step - loss: 0.0249 - val_loss: 0.0204\n",
      "Epoch 193/200\n",
      "170/170 [==============================] - 0s 307us/step - loss: 0.0246 - val_loss: 0.0187\n",
      "Epoch 194/200\n",
      "170/170 [==============================] - 0s 273us/step - loss: 0.0253 - val_loss: 0.0198\n",
      "Epoch 195/200\n",
      "170/170 [==============================] - 0s 261us/step - loss: 0.0245 - val_loss: 0.0190\n",
      "Epoch 196/200\n",
      "170/170 [==============================] - 0s 257us/step - loss: 0.0250 - val_loss: 0.0192\n",
      "Epoch 197/200\n",
      "170/170 [==============================] - 0s 273us/step - loss: 0.0260 - val_loss: 0.0207\n",
      "Epoch 198/200\n",
      "170/170 [==============================] - 0s 242us/step - loss: 0.0251 - val_loss: 0.0187\n",
      "Epoch 199/200\n",
      "170/170 [==============================] - 0s 225us/step - loss: 0.0251 - val_loss: 0.0194\n",
      "Epoch 200/200\n",
      "170/170 [==============================] - 0s 235us/step - loss: 0.0246 - val_loss: 0.0189\n"
     ]
    }
   ],
   "source": [
    "model = Sequential()\n",
    "model.add(Dense(10, input_shape=(X_test.shape[1],), activation='relu'))\n",
    "model.add(Dense(10, input_shape=(X_test.shape[1],)))\n",
    "model.add(Dense(1))\n",
    "model.compile(optimizer='adam', loss='mean_squared_error')\n",
    "history = model.fit(X_train, y_train, batch_size=16, validation_data = (X_test, y_test), epochs=200, verbose=1)"
   ]
  },
  {
   "cell_type": "code",
   "execution_count": 474,
   "metadata": {},
   "outputs": [
    {
     "data": {
      "image/png": "[encoded data removed]",
      "text/plain": [
       "<Figure size 432x288 with 1 Axes>"
      ]
     },
     "metadata": {},
     "output_type": "display_data"
    }
   ],
   "source": [
    "plt.plot(history.history['loss'], label='train')\n",
    "plt.plot(history.history['val_loss'], label='test')\n",
    "plt.legend()\n",
    "plt.show()"
   ]
  },
  {
   "cell_type": "code",
   "execution_count": 475,
   "metadata": {},
   "outputs": [],
   "source": [
    "#plt.plot(history)"
   ]
  },
  {
   "cell_type": "code",
   "execution_count": 476,
   "metadata": {
    "scrolled": false
   },
   "outputs": [
    {
     "data": {
      "text/plain": [
       "0.9646321557016261"
      ]
     },
     "execution_count": 476,
     "metadata": {},
     "output_type": "execute_result"
    },
    {
     "data": {
      "image/png": "[encoded data removed]",
      "text/plain": [
       "<Figure size 1440x720 with 1 Axes>"
      ]
     },
     "metadata": {},
     "output_type": "display_data"
    }
   ],
   "source": [
    "plt.figure(figsize=(20,10))\n",
    "y_pred = model.predict(X_test)\n",
    "plt.plot(y_test, label = 'Actual')\n",
    "plt.plot(y_pred, label = 'Predictions')\n",
    "plt.legend()\n",
    "r2_score(y_test, y_pred)"
   ]
  },
  {
   "cell_type": "code",
   "execution_count": 477,
   "metadata": {},
   "outputs": [],
   "source": [
    "import numpy as np"
   ]
  },
  {
   "cell_type": "code",
   "execution_count": 478,
   "metadata": {},
   "outputs": [
    {
     "data": {
      "text/html": [
       "<div>\n",
       "<style scoped>\n",
       "    .dataframe tbody tr th:only-of-type {\n",
       "        vertical-align: middle;\n",
       "    }\n",
       "\n",
       "    .dataframe tbody tr th {\n",
       "        vertical-align: top;\n",
       "    }\n",
       "\n",
       "    .dataframe thead th {\n",
       "        text-align: right;\n",
       "    }\n",
       "</style>\n",
       "<table border=\"1\" class=\"dataframe\">\n",
       "  <thead>\n",
       "    <tr style=\"text-align: right;\">\n",
       "      <th></th>\n",
       "      <th>Close</th>\n",
       "      <th>Rates</th>\n",
       "      <th>lag</th>\n",
       "      <th>lag_2</th>\n",
       "      <th>std</th>\n",
       "    </tr>\n",
       "    <tr>\n",
       "      <th>Date</th>\n",
       "      <th></th>\n",
       "      <th></th>\n",
       "      <th></th>\n",
       "      <th></th>\n",
       "      <th></th>\n",
       "    </tr>\n",
       "  </thead>\n",
       "  <tbody>\n",
       "    <tr>\n",
       "      <th>2018-10-10</th>\n",
       "      <td>1.34</td>\n",
       "      <td>2.03</td>\n",
       "      <td>1.38</td>\n",
       "      <td>3.58</td>\n",
       "      <td>0.082341</td>\n",
       "    </tr>\n",
       "    <tr>\n",
       "      <th>2018-10-11</th>\n",
       "      <td>1.30</td>\n",
       "      <td>2.03</td>\n",
       "      <td>1.34</td>\n",
       "      <td>3.55</td>\n",
       "      <td>0.091214</td>\n",
       "    </tr>\n",
       "    <tr>\n",
       "      <th>2018-10-12</th>\n",
       "      <td>1.34</td>\n",
       "      <td>2.03</td>\n",
       "      <td>1.30</td>\n",
       "      <td>3.40</td>\n",
       "      <td>0.064653</td>\n",
       "    </tr>\n",
       "    <tr>\n",
       "      <th>2018-10-15</th>\n",
       "      <td>1.35</td>\n",
       "      <td>2.03</td>\n",
       "      <td>1.34</td>\n",
       "      <td>3.11</td>\n",
       "      <td>0.028636</td>\n",
       "    </tr>\n",
       "    <tr>\n",
       "      <th>2018-10-16</th>\n",
       "      <td>1.35</td>\n",
       "      <td>2.03</td>\n",
       "      <td>1.35</td>\n",
       "      <td>3.18</td>\n",
       "      <td>0.020736</td>\n",
       "    </tr>\n",
       "  </tbody>\n",
       "</table>\n",
       "</div>"
      ],
      "text/plain": [
       "            Close  Rates   lag  lag_2       std\n",
       "Date                                           \n",
       "2018-10-10   1.34   2.03  1.38   3.58  0.082341\n",
       "2018-10-11   1.30   2.03  1.34   3.55  0.091214\n",
       "2018-10-12   1.34   2.03  1.30   3.40  0.064653\n",
       "2018-10-15   1.35   2.03  1.34   3.11  0.028636\n",
       "2018-10-16   1.35   2.03  1.35   3.18  0.020736"
      ]
     },
     "execution_count": 478,
     "metadata": {},
     "output_type": "execute_result"
    }
   ],
   "source": [
    "df.tail()"
   ]
  },
  {
   "cell_type": "code",
   "execution_count": 479,
   "metadata": {},
   "outputs": [],
   "source": [
    "rate = 1.3\n",
    "lag = 1.3\n",
    "std = 0.02"
   ]
  },
  {
   "cell_type": "code",
   "execution_count": 480,
   "metadata": {},
   "outputs": [],
   "source": [
    "pred_1 = np.array([[rate, lag, std]])"
   ]
  },
  {
   "cell_type": "code",
   "execution_count": 481,
   "metadata": {},
   "outputs": [],
   "source": [
    "pred_1 = np.array([[0.00324675, 0.194511396, 0.30064325]])"
   ]
  },
  {
   "cell_type": "code",
   "execution_count": 482,
   "metadata": {},
   "outputs": [
    {
     "data": {
      "text/plain": [
       "(1, 3)"
      ]
     },
     "execution_count": 482,
     "metadata": {},
     "output_type": "execute_result"
    }
   ],
   "source": [
    "pred_1.shape"
   ]
  },
  {
   "cell_type": "code",
   "execution_count": 483,
   "metadata": {},
   "outputs": [],
   "source": [
    "#model.predict(pred_1)"
   ]
  },
  {
   "cell_type": "code",
   "execution_count": null,
   "metadata": {},
   "outputs": [],
   "source": []
  }
 ],
 "metadata": {
  "kernelspec": {
   "display_name": "Python [conda env:anaconda3]",
   "language": "python",
   "name": "conda-env-anaconda3-py"
  },
  "language_info": {
   "codemirror_mode": {
    "name": "ipython",
    "version": 3
   },
   "file_extension": ".py",
   "mimetype": "text/x-python",
   "name": "python",
   "nbconvert_exporter": "python",
   "pygments_lexer": "ipython3",
   "version": "3.6.5"
  }
 },
 "nbformat": 4,
 "nbformat_minor": 2
}
