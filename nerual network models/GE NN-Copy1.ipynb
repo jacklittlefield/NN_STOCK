{
 "cells": [
  {
   "cell_type": "code",
   "execution_count": 139,
   "metadata": {},
   "outputs": [],
   "source": [
    "import pandas as pd"
   ]
  },
  {
   "cell_type": "code",
   "execution_count": 140,
   "metadata": {},
   "outputs": [],
   "source": [
    "df = pd.read_csv('./assets/ge_rates_nonadj_21.csv') #importing Compbined Data"
   ]
  },
  {
   "cell_type": "code",
   "execution_count": 141,
   "metadata": {},
   "outputs": [
    {
     "data": {
      "text/plain": [
       "Index(['Date', 'Close', 'Volume', 'std', 'upper', 'lower', 'Rates'], dtype='object')"
      ]
     },
     "execution_count": 141,
     "metadata": {},
     "output_type": "execute_result"
    }
   ],
   "source": [
    "df.columns"
   ]
  },
  {
   "cell_type": "code",
   "execution_count": 142,
   "metadata": {},
   "outputs": [],
   "source": [
    "#df = df.drop(['Volume', 'std', 'upper', 'lower'], axis = 1)"
   ]
  },
  {
   "cell_type": "code",
   "execution_count": 143,
   "metadata": {},
   "outputs": [],
   "source": [
    "df['lag'] = df['Close'].shift() #making the lags based on PACF\n",
    "#df['std'] = df['std'].shift()"
   ]
  },
  {
   "cell_type": "code",
   "execution_count": 144,
   "metadata": {},
   "outputs": [],
   "source": [
    "df.dropna(inplace=True)"
   ]
  },
  {
   "cell_type": "code",
   "execution_count": 145,
   "metadata": {},
   "outputs": [
    {
     "data": {
      "text/html": [
       "<div>\n",
       "<style scoped>\n",
       "    .dataframe tbody tr th:only-of-type {\n",
       "        vertical-align: middle;\n",
       "    }\n",
       "\n",
       "    .dataframe tbody tr th {\n",
       "        vertical-align: top;\n",
       "    }\n",
       "\n",
       "    .dataframe thead th {\n",
       "        text-align: right;\n",
       "    }\n",
       "</style>\n",
       "<table border=\"1\" class=\"dataframe\">\n",
       "  <thead>\n",
       "    <tr style=\"text-align: right;\">\n",
       "      <th></th>\n",
       "      <th>Date</th>\n",
       "      <th>Close</th>\n",
       "      <th>Volume</th>\n",
       "      <th>std</th>\n",
       "      <th>upper</th>\n",
       "      <th>lower</th>\n",
       "      <th>Rates</th>\n",
       "      <th>lag</th>\n",
       "    </tr>\n",
       "  </thead>\n",
       "  <tbody>\n",
       "    <tr>\n",
       "      <th>1</th>\n",
       "      <td>1990-11-19</td>\n",
       "      <td>4.614583</td>\n",
       "      <td>18886800.0</td>\n",
       "      <td>0.011662</td>\n",
       "      <td>4.637906</td>\n",
       "      <td>4.591260</td>\n",
       "      <td>7.06</td>\n",
       "      <td>4.614583</td>\n",
       "    </tr>\n",
       "    <tr>\n",
       "      <th>2</th>\n",
       "      <td>1990-11-20</td>\n",
       "      <td>4.437500</td>\n",
       "      <td>22634400.0</td>\n",
       "      <td>0.011617</td>\n",
       "      <td>4.460733</td>\n",
       "      <td>4.414267</td>\n",
       "      <td>7.06</td>\n",
       "      <td>4.614583</td>\n",
       "    </tr>\n",
       "    <tr>\n",
       "      <th>3</th>\n",
       "      <td>1990-11-21</td>\n",
       "      <td>4.479167</td>\n",
       "      <td>15367200.0</td>\n",
       "      <td>0.011422</td>\n",
       "      <td>4.502011</td>\n",
       "      <td>4.456323</td>\n",
       "      <td>7.06</td>\n",
       "      <td>4.437500</td>\n",
       "    </tr>\n",
       "    <tr>\n",
       "      <th>4</th>\n",
       "      <td>1990-11-23</td>\n",
       "      <td>4.468750</td>\n",
       "      <td>4462800.0</td>\n",
       "      <td>0.010901</td>\n",
       "      <td>4.490552</td>\n",
       "      <td>4.446948</td>\n",
       "      <td>7.06</td>\n",
       "      <td>4.479167</td>\n",
       "    </tr>\n",
       "    <tr>\n",
       "      <th>5</th>\n",
       "      <td>1990-11-26</td>\n",
       "      <td>4.447917</td>\n",
       "      <td>13736400.0</td>\n",
       "      <td>0.009763</td>\n",
       "      <td>4.467443</td>\n",
       "      <td>4.428391</td>\n",
       "      <td>7.06</td>\n",
       "      <td>4.468750</td>\n",
       "    </tr>\n",
       "  </tbody>\n",
       "</table>\n",
       "</div>"
      ],
      "text/plain": [
       "         Date     Close      Volume       std     upper     lower  Rates  \\\n",
       "1  1990-11-19  4.614583  18886800.0  0.011662  4.637906  4.591260   7.06   \n",
       "2  1990-11-20  4.437500  22634400.0  0.011617  4.460733  4.414267   7.06   \n",
       "3  1990-11-21  4.479167  15367200.0  0.011422  4.502011  4.456323   7.06   \n",
       "4  1990-11-23  4.468750   4462800.0  0.010901  4.490552  4.446948   7.06   \n",
       "5  1990-11-26  4.447917  13736400.0  0.009763  4.467443  4.428391   7.06   \n",
       "\n",
       "        lag  \n",
       "1  4.614583  \n",
       "2  4.614583  \n",
       "3  4.437500  \n",
       "4  4.479167  \n",
       "5  4.468750  "
      ]
     },
     "execution_count": 145,
     "metadata": {},
     "output_type": "execute_result"
    }
   ],
   "source": [
    "df.head()"
   ]
  },
  {
   "cell_type": "code",
   "execution_count": 146,
   "metadata": {},
   "outputs": [],
   "source": [
    "df['std_1'] = df['Close'].rolling(5).std().dropna().shift()\n",
    "df['lag_2'] = df['Close'].shift(60) #making the standard deviation and 60 day lag"
   ]
  },
  {
   "cell_type": "code",
   "execution_count": 147,
   "metadata": {},
   "outputs": [],
   "source": [
    "df.dropna(inplace=True)"
   ]
  },
  {
   "cell_type": "code",
   "execution_count": 148,
   "metadata": {},
   "outputs": [],
   "source": [
    "df['Date'] = pd.to_datetime(df['Date'])"
   ]
  },
  {
   "cell_type": "code",
   "execution_count": 149,
   "metadata": {},
   "outputs": [],
   "source": [
    "df.set_index('Date', inplace=True)"
   ]
  },
  {
   "cell_type": "markdown",
   "metadata": {},
   "source": [
    "For GE I am going to make my train test split on the year 2014"
   ]
  },
  {
   "cell_type": "code",
   "execution_count": 150,
   "metadata": {},
   "outputs": [],
   "source": [
    "train_df = df[:'2014']\n",
    "test_df = df['2015':] #training and testing data"
   ]
  },
  {
   "cell_type": "code",
   "execution_count": 151,
   "metadata": {},
   "outputs": [
    {
     "data": {
      "text/html": [
       "<div>\n",
       "<style scoped>\n",
       "    .dataframe tbody tr th:only-of-type {\n",
       "        vertical-align: middle;\n",
       "    }\n",
       "\n",
       "    .dataframe tbody tr th {\n",
       "        vertical-align: top;\n",
       "    }\n",
       "\n",
       "    .dataframe thead th {\n",
       "        text-align: right;\n",
       "    }\n",
       "</style>\n",
       "<table border=\"1\" class=\"dataframe\">\n",
       "  <thead>\n",
       "    <tr style=\"text-align: right;\">\n",
       "      <th></th>\n",
       "      <th>Close</th>\n",
       "      <th>Volume</th>\n",
       "      <th>std</th>\n",
       "      <th>upper</th>\n",
       "      <th>lower</th>\n",
       "      <th>Rates</th>\n",
       "      <th>lag</th>\n",
       "      <th>std_1</th>\n",
       "      <th>lag_2</th>\n",
       "    </tr>\n",
       "    <tr>\n",
       "      <th>Date</th>\n",
       "      <th></th>\n",
       "      <th></th>\n",
       "      <th></th>\n",
       "      <th></th>\n",
       "      <th></th>\n",
       "      <th></th>\n",
       "      <th></th>\n",
       "      <th></th>\n",
       "      <th></th>\n",
       "    </tr>\n",
       "  </thead>\n",
       "  <tbody>\n",
       "    <tr>\n",
       "      <th>2014-12-24</th>\n",
       "      <td>25.830000</td>\n",
       "      <td>17865100.0</td>\n",
       "      <td>0.564560</td>\n",
       "      <td>26.959120</td>\n",
       "      <td>24.700880</td>\n",
       "      <td>0.03</td>\n",
       "      <td>25.879999</td>\n",
       "      <td>0.497514</td>\n",
       "      <td>25.620001</td>\n",
       "    </tr>\n",
       "    <tr>\n",
       "      <th>2014-12-26</th>\n",
       "      <td>25.780001</td>\n",
       "      <td>14978500.0</td>\n",
       "      <td>0.517207</td>\n",
       "      <td>26.814415</td>\n",
       "      <td>24.745587</td>\n",
       "      <td>0.03</td>\n",
       "      <td>25.830000</td>\n",
       "      <td>0.295347</td>\n",
       "      <td>25.160000</td>\n",
       "    </tr>\n",
       "    <tr>\n",
       "      <th>2014-12-29</th>\n",
       "      <td>25.700001</td>\n",
       "      <td>20858200.0</td>\n",
       "      <td>0.492689</td>\n",
       "      <td>26.685378</td>\n",
       "      <td>24.714624</td>\n",
       "      <td>0.03</td>\n",
       "      <td>25.780001</td>\n",
       "      <td>0.102127</td>\n",
       "      <td>25.120001</td>\n",
       "    </tr>\n",
       "    <tr>\n",
       "      <th>2014-12-30</th>\n",
       "      <td>25.570000</td>\n",
       "      <td>22184500.0</td>\n",
       "      <td>0.487743</td>\n",
       "      <td>26.545487</td>\n",
       "      <td>24.594513</td>\n",
       "      <td>0.03</td>\n",
       "      <td>25.700001</td>\n",
       "      <td>0.077136</td>\n",
       "      <td>25.400000</td>\n",
       "    </tr>\n",
       "    <tr>\n",
       "      <th>2014-12-31</th>\n",
       "      <td>25.270000</td>\n",
       "      <td>28206500.0</td>\n",
       "      <td>0.479912</td>\n",
       "      <td>26.229824</td>\n",
       "      <td>24.310176</td>\n",
       "      <td>0.03</td>\n",
       "      <td>25.570000</td>\n",
       "      <td>0.121532</td>\n",
       "      <td>25.219999</td>\n",
       "    </tr>\n",
       "  </tbody>\n",
       "</table>\n",
       "</div>"
      ],
      "text/plain": [
       "                Close      Volume       std      upper      lower  Rates  \\\n",
       "Date                                                                       \n",
       "2014-12-24  25.830000  17865100.0  0.564560  26.959120  24.700880   0.03   \n",
       "2014-12-26  25.780001  14978500.0  0.517207  26.814415  24.745587   0.03   \n",
       "2014-12-29  25.700001  20858200.0  0.492689  26.685378  24.714624   0.03   \n",
       "2014-12-30  25.570000  22184500.0  0.487743  26.545487  24.594513   0.03   \n",
       "2014-12-31  25.270000  28206500.0  0.479912  26.229824  24.310176   0.03   \n",
       "\n",
       "                  lag     std_1      lag_2  \n",
       "Date                                        \n",
       "2014-12-24  25.879999  0.497514  25.620001  \n",
       "2014-12-26  25.830000  0.295347  25.160000  \n",
       "2014-12-29  25.780001  0.102127  25.120001  \n",
       "2014-12-30  25.700001  0.077136  25.400000  \n",
       "2014-12-31  25.570000  0.121532  25.219999  "
      ]
     },
     "execution_count": 151,
     "metadata": {},
     "output_type": "execute_result"
    }
   ],
   "source": [
    "train_df.tail()"
   ]
  },
  {
   "cell_type": "code",
   "execution_count": 152,
   "metadata": {},
   "outputs": [
    {
     "data": {
      "text/html": [
       "<div>\n",
       "<style scoped>\n",
       "    .dataframe tbody tr th:only-of-type {\n",
       "        vertical-align: middle;\n",
       "    }\n",
       "\n",
       "    .dataframe tbody tr th {\n",
       "        vertical-align: top;\n",
       "    }\n",
       "\n",
       "    .dataframe thead th {\n",
       "        text-align: right;\n",
       "    }\n",
       "</style>\n",
       "<table border=\"1\" class=\"dataframe\">\n",
       "  <thead>\n",
       "    <tr style=\"text-align: right;\">\n",
       "      <th></th>\n",
       "      <th>Close</th>\n",
       "      <th>Volume</th>\n",
       "      <th>std</th>\n",
       "      <th>upper</th>\n",
       "      <th>lower</th>\n",
       "      <th>Rates</th>\n",
       "      <th>lag</th>\n",
       "      <th>std_1</th>\n",
       "      <th>lag_2</th>\n",
       "    </tr>\n",
       "    <tr>\n",
       "      <th>Date</th>\n",
       "      <th></th>\n",
       "      <th></th>\n",
       "      <th></th>\n",
       "      <th></th>\n",
       "      <th></th>\n",
       "      <th></th>\n",
       "      <th></th>\n",
       "      <th></th>\n",
       "      <th></th>\n",
       "    </tr>\n",
       "  </thead>\n",
       "  <tbody>\n",
       "    <tr>\n",
       "      <th>2018-10-15</th>\n",
       "      <td>12.15</td>\n",
       "      <td>62640200.0</td>\n",
       "      <td>0.709739</td>\n",
       "      <td>13.569478</td>\n",
       "      <td>10.730522</td>\n",
       "      <td>2.03</td>\n",
       "      <td>12.32</td>\n",
       "      <td>0.558507</td>\n",
       "      <td>13.12</td>\n",
       "    </tr>\n",
       "    <tr>\n",
       "      <th>2018-10-16</th>\n",
       "      <td>12.10</td>\n",
       "      <td>86485800.0</td>\n",
       "      <td>0.709427</td>\n",
       "      <td>13.518855</td>\n",
       "      <td>10.681145</td>\n",
       "      <td>2.03</td>\n",
       "      <td>12.15</td>\n",
       "      <td>0.602520</td>\n",
       "      <td>12.99</td>\n",
       "    </tr>\n",
       "    <tr>\n",
       "      <th>2018-10-17</th>\n",
       "      <td>12.19</td>\n",
       "      <td>83433100.0</td>\n",
       "      <td>0.700259</td>\n",
       "      <td>13.590519</td>\n",
       "      <td>10.789481</td>\n",
       "      <td>2.03</td>\n",
       "      <td>12.10</td>\n",
       "      <td>0.492626</td>\n",
       "      <td>13.12</td>\n",
       "    </tr>\n",
       "    <tr>\n",
       "      <th>2018-10-18</th>\n",
       "      <td>12.38</td>\n",
       "      <td>81520200.0</td>\n",
       "      <td>0.699676</td>\n",
       "      <td>13.779352</td>\n",
       "      <td>10.980648</td>\n",
       "      <td>2.03</td>\n",
       "      <td>12.19</td>\n",
       "      <td>0.250659</td>\n",
       "      <td>13.11</td>\n",
       "    </tr>\n",
       "    <tr>\n",
       "      <th>2018-10-19</th>\n",
       "      <td>12.56</td>\n",
       "      <td>86762800.0</td>\n",
       "      <td>0.700680</td>\n",
       "      <td>13.961360</td>\n",
       "      <td>11.158640</td>\n",
       "      <td>2.03</td>\n",
       "      <td>12.38</td>\n",
       "      <td>0.117771</td>\n",
       "      <td>13.15</td>\n",
       "    </tr>\n",
       "  </tbody>\n",
       "</table>\n",
       "</div>"
      ],
      "text/plain": [
       "            Close      Volume       std      upper      lower  Rates    lag  \\\n",
       "Date                                                                          \n",
       "2018-10-15  12.15  62640200.0  0.709739  13.569478  10.730522   2.03  12.32   \n",
       "2018-10-16  12.10  86485800.0  0.709427  13.518855  10.681145   2.03  12.15   \n",
       "2018-10-17  12.19  83433100.0  0.700259  13.590519  10.789481   2.03  12.10   \n",
       "2018-10-18  12.38  81520200.0  0.699676  13.779352  10.980648   2.03  12.19   \n",
       "2018-10-19  12.56  86762800.0  0.700680  13.961360  11.158640   2.03  12.38   \n",
       "\n",
       "               std_1  lag_2  \n",
       "Date                         \n",
       "2018-10-15  0.558507  13.12  \n",
       "2018-10-16  0.602520  12.99  \n",
       "2018-10-17  0.492626  13.12  \n",
       "2018-10-18  0.250659  13.11  \n",
       "2018-10-19  0.117771  13.15  "
      ]
     },
     "execution_count": 152,
     "metadata": {},
     "output_type": "execute_result"
    }
   ],
   "source": [
    "test_df.tail()"
   ]
  },
  {
   "cell_type": "markdown",
   "metadata": {},
   "source": [
    "To see this visually, we can make a line plot of the train and test data"
   ]
  },
  {
   "cell_type": "code",
   "execution_count": 153,
   "metadata": {},
   "outputs": [],
   "source": [
    "import matplotlib.pyplot as plt # the following graphs train test split"
   ]
  },
  {
   "cell_type": "code",
   "execution_count": 154,
   "metadata": {},
   "outputs": [
    {
     "name": "stderr",
     "output_type": "stream",
     "text": [
      "/anaconda3/lib/python3.6/site-packages/pandas/core/frame.py:3778: SettingWithCopyWarning: \n",
      "A value is trying to be set on a copy of a slice from a DataFrame\n",
      "\n",
      "See the caveats in the documentation: http://pandas.pydata.org/pandas-docs/stable/indexing.html#indexing-view-versus-copy\n",
      "  return super(DataFrame, self).rename(**kwargs)\n"
     ]
    }
   ],
   "source": [
    "graph_df_train = train_df\n",
    "maper = {'Close':'Train'}\n",
    "graph_df_train.rename(maper, axis = 1, inplace=True)"
   ]
  },
  {
   "cell_type": "code",
   "execution_count": 155,
   "metadata": {},
   "outputs": [
    {
     "name": "stderr",
     "output_type": "stream",
     "text": [
      "/anaconda3/lib/python3.6/site-packages/pandas/core/frame.py:3778: SettingWithCopyWarning: \n",
      "A value is trying to be set on a copy of a slice from a DataFrame\n",
      "\n",
      "See the caveats in the documentation: http://pandas.pydata.org/pandas-docs/stable/indexing.html#indexing-view-versus-copy\n",
      "  return super(DataFrame, self).rename(**kwargs)\n"
     ]
    }
   ],
   "source": [
    "graph_df_test = test_df\n",
    "maper = {'Close':'Test'}\n",
    "graph_df_test.rename(maper, axis = 1, inplace=True)"
   ]
  },
  {
   "cell_type": "code",
   "execution_count": 156,
   "metadata": {
    "scrolled": true
   },
   "outputs": [
    {
     "data": {
      "image/png": "[encoded data removed]",
      "text/plain": [
       "<Figure size 432x288 with 1 Axes>"
      ]
     },
     "metadata": {},
     "output_type": "display_data"
    }
   ],
   "source": [
    "plt.plot(graph_df_train['Train'])\n",
    "plt.plot(graph_df_test['Test'])\n",
    "plt.legend();"
   ]
  },
  {
   "cell_type": "markdown",
   "metadata": {},
   "source": [
    "As you can see, 2014 is a year where the pattern of a downward trend may begin again. Lets build a model to find out. "
   ]
  },
  {
   "cell_type": "code",
   "execution_count": 157,
   "metadata": {},
   "outputs": [
    {
     "data": {
      "text/html": [
       "<div>\n",
       "<style scoped>\n",
       "    .dataframe tbody tr th:only-of-type {\n",
       "        vertical-align: middle;\n",
       "    }\n",
       "\n",
       "    .dataframe tbody tr th {\n",
       "        vertical-align: top;\n",
       "    }\n",
       "\n",
       "    .dataframe thead th {\n",
       "        text-align: right;\n",
       "    }\n",
       "</style>\n",
       "<table border=\"1\" class=\"dataframe\">\n",
       "  <thead>\n",
       "    <tr style=\"text-align: right;\">\n",
       "      <th></th>\n",
       "      <th>Close</th>\n",
       "      <th>Volume</th>\n",
       "      <th>std</th>\n",
       "      <th>upper</th>\n",
       "      <th>lower</th>\n",
       "      <th>Rates</th>\n",
       "      <th>lag</th>\n",
       "      <th>std_1</th>\n",
       "      <th>lag_2</th>\n",
       "    </tr>\n",
       "    <tr>\n",
       "      <th>Date</th>\n",
       "      <th></th>\n",
       "      <th></th>\n",
       "      <th></th>\n",
       "      <th></th>\n",
       "      <th></th>\n",
       "      <th></th>\n",
       "      <th></th>\n",
       "      <th></th>\n",
       "      <th></th>\n",
       "    </tr>\n",
       "  </thead>\n",
       "  <tbody>\n",
       "    <tr>\n",
       "      <th>1991-02-14</th>\n",
       "      <td>5.614583</td>\n",
       "      <td>33702000.0</td>\n",
       "      <td>0.030586</td>\n",
       "      <td>5.675755</td>\n",
       "      <td>5.553411</td>\n",
       "      <td>5.94</td>\n",
       "      <td>5.656250</td>\n",
       "      <td>0.102221</td>\n",
       "      <td>4.614583</td>\n",
       "    </tr>\n",
       "    <tr>\n",
       "      <th>1991-02-15</th>\n",
       "      <td>5.802083</td>\n",
       "      <td>38295600.0</td>\n",
       "      <td>0.031422</td>\n",
       "      <td>5.864927</td>\n",
       "      <td>5.739239</td>\n",
       "      <td>5.94</td>\n",
       "      <td>5.614583</td>\n",
       "      <td>0.082219</td>\n",
       "      <td>4.437500</td>\n",
       "    </tr>\n",
       "    <tr>\n",
       "      <th>1991-02-19</th>\n",
       "      <td>5.802083</td>\n",
       "      <td>24819600.0</td>\n",
       "      <td>0.031188</td>\n",
       "      <td>5.864459</td>\n",
       "      <td>5.739707</td>\n",
       "      <td>5.94</td>\n",
       "      <td>5.802083</td>\n",
       "      <td>0.098986</td>\n",
       "      <td>4.479167</td>\n",
       "    </tr>\n",
       "    <tr>\n",
       "      <th>1991-02-20</th>\n",
       "      <td>5.697917</td>\n",
       "      <td>19006800.0</td>\n",
       "      <td>0.028890</td>\n",
       "      <td>5.755697</td>\n",
       "      <td>5.640137</td>\n",
       "      <td>5.94</td>\n",
       "      <td>5.802083</td>\n",
       "      <td>0.109746</td>\n",
       "      <td>4.468750</td>\n",
       "    </tr>\n",
       "    <tr>\n",
       "      <th>1991-02-21</th>\n",
       "      <td>5.677083</td>\n",
       "      <td>14624400.0</td>\n",
       "      <td>0.026072</td>\n",
       "      <td>5.729227</td>\n",
       "      <td>5.624939</td>\n",
       "      <td>5.94</td>\n",
       "      <td>5.697917</td>\n",
       "      <td>0.085137</td>\n",
       "      <td>4.447917</td>\n",
       "    </tr>\n",
       "  </tbody>\n",
       "</table>\n",
       "</div>"
      ],
      "text/plain": [
       "               Close      Volume       std     upper     lower  Rates  \\\n",
       "Date                                                                    \n",
       "1991-02-14  5.614583  33702000.0  0.030586  5.675755  5.553411   5.94   \n",
       "1991-02-15  5.802083  38295600.0  0.031422  5.864927  5.739239   5.94   \n",
       "1991-02-19  5.802083  24819600.0  0.031188  5.864459  5.739707   5.94   \n",
       "1991-02-20  5.697917  19006800.0  0.028890  5.755697  5.640137   5.94   \n",
       "1991-02-21  5.677083  14624400.0  0.026072  5.729227  5.624939   5.94   \n",
       "\n",
       "                 lag     std_1     lag_2  \n",
       "Date                                      \n",
       "1991-02-14  5.656250  0.102221  4.614583  \n",
       "1991-02-15  5.614583  0.082219  4.437500  \n",
       "1991-02-19  5.802083  0.098986  4.479167  \n",
       "1991-02-20  5.802083  0.109746  4.468750  \n",
       "1991-02-21  5.697917  0.085137  4.447917  "
      ]
     },
     "execution_count": 157,
     "metadata": {},
     "output_type": "execute_result"
    }
   ],
   "source": [
    "df.head()"
   ]
  },
  {
   "cell_type": "code",
   "execution_count": 158,
   "metadata": {},
   "outputs": [],
   "source": [
    "train_df = df[:'2014']\n",
    "test_df = df['2015':] "
   ]
  },
  {
   "cell_type": "code",
   "execution_count": 159,
   "metadata": {},
   "outputs": [
    {
     "data": {
      "text/html": [
       "<div>\n",
       "<style scoped>\n",
       "    .dataframe tbody tr th:only-of-type {\n",
       "        vertical-align: middle;\n",
       "    }\n",
       "\n",
       "    .dataframe tbody tr th {\n",
       "        vertical-align: top;\n",
       "    }\n",
       "\n",
       "    .dataframe thead th {\n",
       "        text-align: right;\n",
       "    }\n",
       "</style>\n",
       "<table border=\"1\" class=\"dataframe\">\n",
       "  <thead>\n",
       "    <tr style=\"text-align: right;\">\n",
       "      <th></th>\n",
       "      <th>Close</th>\n",
       "      <th>Volume</th>\n",
       "      <th>std</th>\n",
       "      <th>upper</th>\n",
       "      <th>lower</th>\n",
       "      <th>Rates</th>\n",
       "      <th>lag</th>\n",
       "      <th>std_1</th>\n",
       "      <th>lag_2</th>\n",
       "    </tr>\n",
       "    <tr>\n",
       "      <th>Date</th>\n",
       "      <th></th>\n",
       "      <th></th>\n",
       "      <th></th>\n",
       "      <th></th>\n",
       "      <th></th>\n",
       "      <th></th>\n",
       "      <th></th>\n",
       "      <th></th>\n",
       "      <th></th>\n",
       "    </tr>\n",
       "  </thead>\n",
       "  <tbody>\n",
       "    <tr>\n",
       "      <th>2014-12-24</th>\n",
       "      <td>25.830000</td>\n",
       "      <td>17865100.0</td>\n",
       "      <td>0.564560</td>\n",
       "      <td>26.959120</td>\n",
       "      <td>24.700880</td>\n",
       "      <td>0.03</td>\n",
       "      <td>25.879999</td>\n",
       "      <td>0.497514</td>\n",
       "      <td>25.620001</td>\n",
       "    </tr>\n",
       "    <tr>\n",
       "      <th>2014-12-26</th>\n",
       "      <td>25.780001</td>\n",
       "      <td>14978500.0</td>\n",
       "      <td>0.517207</td>\n",
       "      <td>26.814415</td>\n",
       "      <td>24.745587</td>\n",
       "      <td>0.03</td>\n",
       "      <td>25.830000</td>\n",
       "      <td>0.295347</td>\n",
       "      <td>25.160000</td>\n",
       "    </tr>\n",
       "    <tr>\n",
       "      <th>2014-12-29</th>\n",
       "      <td>25.700001</td>\n",
       "      <td>20858200.0</td>\n",
       "      <td>0.492689</td>\n",
       "      <td>26.685378</td>\n",
       "      <td>24.714624</td>\n",
       "      <td>0.03</td>\n",
       "      <td>25.780001</td>\n",
       "      <td>0.102127</td>\n",
       "      <td>25.120001</td>\n",
       "    </tr>\n",
       "    <tr>\n",
       "      <th>2014-12-30</th>\n",
       "      <td>25.570000</td>\n",
       "      <td>22184500.0</td>\n",
       "      <td>0.487743</td>\n",
       "      <td>26.545487</td>\n",
       "      <td>24.594513</td>\n",
       "      <td>0.03</td>\n",
       "      <td>25.700001</td>\n",
       "      <td>0.077136</td>\n",
       "      <td>25.400000</td>\n",
       "    </tr>\n",
       "    <tr>\n",
       "      <th>2014-12-31</th>\n",
       "      <td>25.270000</td>\n",
       "      <td>28206500.0</td>\n",
       "      <td>0.479912</td>\n",
       "      <td>26.229824</td>\n",
       "      <td>24.310176</td>\n",
       "      <td>0.03</td>\n",
       "      <td>25.570000</td>\n",
       "      <td>0.121532</td>\n",
       "      <td>25.219999</td>\n",
       "    </tr>\n",
       "  </tbody>\n",
       "</table>\n",
       "</div>"
      ],
      "text/plain": [
       "                Close      Volume       std      upper      lower  Rates  \\\n",
       "Date                                                                       \n",
       "2014-12-24  25.830000  17865100.0  0.564560  26.959120  24.700880   0.03   \n",
       "2014-12-26  25.780001  14978500.0  0.517207  26.814415  24.745587   0.03   \n",
       "2014-12-29  25.700001  20858200.0  0.492689  26.685378  24.714624   0.03   \n",
       "2014-12-30  25.570000  22184500.0  0.487743  26.545487  24.594513   0.03   \n",
       "2014-12-31  25.270000  28206500.0  0.479912  26.229824  24.310176   0.03   \n",
       "\n",
       "                  lag     std_1      lag_2  \n",
       "Date                                        \n",
       "2014-12-24  25.879999  0.497514  25.620001  \n",
       "2014-12-26  25.830000  0.295347  25.160000  \n",
       "2014-12-29  25.780001  0.102127  25.120001  \n",
       "2014-12-30  25.700001  0.077136  25.400000  \n",
       "2014-12-31  25.570000  0.121532  25.219999  "
      ]
     },
     "execution_count": 159,
     "metadata": {},
     "output_type": "execute_result"
    }
   ],
   "source": [
    "train_df.tail()"
   ]
  },
  {
   "cell_type": "code",
   "execution_count": 160,
   "metadata": {},
   "outputs": [
    {
     "data": {
      "text/html": [
       "<div>\n",
       "<style scoped>\n",
       "    .dataframe tbody tr th:only-of-type {\n",
       "        vertical-align: middle;\n",
       "    }\n",
       "\n",
       "    .dataframe tbody tr th {\n",
       "        vertical-align: top;\n",
       "    }\n",
       "\n",
       "    .dataframe thead th {\n",
       "        text-align: right;\n",
       "    }\n",
       "</style>\n",
       "<table border=\"1\" class=\"dataframe\">\n",
       "  <thead>\n",
       "    <tr style=\"text-align: right;\">\n",
       "      <th></th>\n",
       "      <th>Close</th>\n",
       "      <th>Volume</th>\n",
       "      <th>std</th>\n",
       "      <th>upper</th>\n",
       "      <th>lower</th>\n",
       "      <th>Rates</th>\n",
       "      <th>lag</th>\n",
       "      <th>std_1</th>\n",
       "      <th>lag_2</th>\n",
       "    </tr>\n",
       "    <tr>\n",
       "      <th>Date</th>\n",
       "      <th></th>\n",
       "      <th></th>\n",
       "      <th></th>\n",
       "      <th></th>\n",
       "      <th></th>\n",
       "      <th></th>\n",
       "      <th></th>\n",
       "      <th></th>\n",
       "      <th></th>\n",
       "    </tr>\n",
       "  </thead>\n",
       "  <tbody>\n",
       "    <tr>\n",
       "      <th>2015-01-02</th>\n",
       "      <td>25.059999</td>\n",
       "      <td>40920800.0</td>\n",
       "      <td>0.454663</td>\n",
       "      <td>25.969326</td>\n",
       "      <td>24.150672</td>\n",
       "      <td>0.03</td>\n",
       "      <td>25.270000</td>\n",
       "      <td>0.223942</td>\n",
       "      <td>24.809999</td>\n",
       "    </tr>\n",
       "    <tr>\n",
       "      <th>2015-01-05</th>\n",
       "      <td>24.600000</td>\n",
       "      <td>42033200.0</td>\n",
       "      <td>0.458973</td>\n",
       "      <td>25.517946</td>\n",
       "      <td>23.682054</td>\n",
       "      <td>0.03</td>\n",
       "      <td>25.059999</td>\n",
       "      <td>0.302870</td>\n",
       "      <td>25.250000</td>\n",
       "    </tr>\n",
       "    <tr>\n",
       "      <th>2015-01-06</th>\n",
       "      <td>24.070000</td>\n",
       "      <td>63760000.0</td>\n",
       "      <td>0.497231</td>\n",
       "      <td>25.064461</td>\n",
       "      <td>23.075539</td>\n",
       "      <td>0.03</td>\n",
       "      <td>24.600000</td>\n",
       "      <td>0.436864</td>\n",
       "      <td>24.780001</td>\n",
       "    </tr>\n",
       "    <tr>\n",
       "      <th>2015-01-07</th>\n",
       "      <td>24.080000</td>\n",
       "      <td>43642500.0</td>\n",
       "      <td>0.533998</td>\n",
       "      <td>25.147996</td>\n",
       "      <td>23.012004</td>\n",
       "      <td>0.03</td>\n",
       "      <td>24.070000</td>\n",
       "      <td>0.589347</td>\n",
       "      <td>24.270000</td>\n",
       "    </tr>\n",
       "    <tr>\n",
       "      <th>2015-01-08</th>\n",
       "      <td>24.370001</td>\n",
       "      <td>43224400.0</td>\n",
       "      <td>0.548181</td>\n",
       "      <td>25.466362</td>\n",
       "      <td>23.273640</td>\n",
       "      <td>0.03</td>\n",
       "      <td>24.080000</td>\n",
       "      <td>0.550118</td>\n",
       "      <td>23.950001</td>\n",
       "    </tr>\n",
       "  </tbody>\n",
       "</table>\n",
       "</div>"
      ],
      "text/plain": [
       "                Close      Volume       std      upper      lower  Rates  \\\n",
       "Date                                                                       \n",
       "2015-01-02  25.059999  40920800.0  0.454663  25.969326  24.150672   0.03   \n",
       "2015-01-05  24.600000  42033200.0  0.458973  25.517946  23.682054   0.03   \n",
       "2015-01-06  24.070000  63760000.0  0.497231  25.064461  23.075539   0.03   \n",
       "2015-01-07  24.080000  43642500.0  0.533998  25.147996  23.012004   0.03   \n",
       "2015-01-08  24.370001  43224400.0  0.548181  25.466362  23.273640   0.03   \n",
       "\n",
       "                  lag     std_1      lag_2  \n",
       "Date                                        \n",
       "2015-01-02  25.270000  0.223942  24.809999  \n",
       "2015-01-05  25.059999  0.302870  25.250000  \n",
       "2015-01-06  24.600000  0.436864  24.780001  \n",
       "2015-01-07  24.070000  0.589347  24.270000  \n",
       "2015-01-08  24.080000  0.550118  23.950001  "
      ]
     },
     "execution_count": 160,
     "metadata": {},
     "output_type": "execute_result"
    }
   ],
   "source": [
    "test_df.head()"
   ]
  },
  {
   "cell_type": "markdown",
   "metadata": {},
   "source": [
    "Scale Data"
   ]
  },
  {
   "cell_type": "code",
   "execution_count": 161,
   "metadata": {},
   "outputs": [],
   "source": [
    "from sklearn.preprocessing import MinMaxScaler"
   ]
  },
  {
   "cell_type": "code",
   "execution_count": 162,
   "metadata": {},
   "outputs": [],
   "source": [
    "scaler = MinMaxScaler()"
   ]
  },
  {
   "cell_type": "code",
   "execution_count": 163,
   "metadata": {},
   "outputs": [],
   "source": [
    "X_train = train_df[['Rates', 'lag', 'std_1', 'lag_2']].values\n",
    "X_test = test_df[['Rates', 'lag', 'std_1', 'lag_2']].values"
   ]
  },
  {
   "cell_type": "code",
   "execution_count": 164,
   "metadata": {},
   "outputs": [
    {
     "data": {
      "text/plain": [
       "array([[ 5.94      ,  5.65625   ,  0.10222142,  4.614583  ],\n",
       "       [ 5.94      ,  5.614583  ,  0.08221907,  4.4375    ],\n",
       "       [ 5.94      ,  5.802083  ,  0.09898563,  4.479167  ],\n",
       "       ...,\n",
       "       [ 0.03      , 25.780001  ,  0.10212691, 25.120001  ],\n",
       "       [ 0.03      , 25.700001  ,  0.07713589, 25.4       ],\n",
       "       [ 0.03      , 25.57      ,  0.12153158, 25.219999  ]])"
      ]
     },
     "execution_count": 164,
     "metadata": {},
     "output_type": "execute_result"
    }
   ],
   "source": [
    "X_train"
   ]
  },
  {
   "cell_type": "code",
   "execution_count": 165,
   "metadata": {},
   "outputs": [],
   "source": [
    "train_df_sc = scaler.fit_transform(X_train) #scaling the data to put through my nerual network\n",
    "test_df_sc = scaler.transform(X_test)"
   ]
  },
  {
   "cell_type": "code",
   "execution_count": 166,
   "metadata": {},
   "outputs": [
    {
     "name": "stdout",
     "output_type": "stream",
     "text": [
      "(6017, 4)\n",
      "(958, 4)\n"
     ]
    }
   ],
   "source": [
    "print(train_df_sc.shape)\n",
    "print(test_df_sc.shape)"
   ]
  },
  {
   "cell_type": "code",
   "execution_count": 167,
   "metadata": {},
   "outputs": [
    {
     "data": {
      "text/plain": [
       "array([[9.62662338e-01, 8.36342297e-03, 3.04438476e-02, 4.12060988e-03],\n",
       "       [9.62662338e-01, 7.60310516e-03, 2.44866945e-02, 9.36498975e-04],\n",
       "       [9.62662338e-01, 1.10245080e-02, 2.94801550e-02, 1.68570894e-03],\n",
       "       ...,\n",
       "       [3.24675325e-03, 3.75571199e-01, 3.04156992e-02, 3.72826386e-01],\n",
       "       [3.24675325e-03, 3.74111400e-01, 2.29728091e-02, 3.77861019e-01],\n",
       "       [3.24675325e-03, 3.71739209e-01, 3.61948481e-02, 3.74624440e-01]])"
      ]
     },
     "execution_count": 167,
     "metadata": {},
     "output_type": "execute_result"
    }
   ],
   "source": [
    "train_df_sc"
   ]
  },
  {
   "cell_type": "code",
   "execution_count": 168,
   "metadata": {},
   "outputs": [],
   "source": [
    "from sklearn.svm import SVR"
   ]
  },
  {
   "cell_type": "code",
   "execution_count": 169,
   "metadata": {},
   "outputs": [],
   "source": [
    "svr = SVR()"
   ]
  },
  {
   "cell_type": "code",
   "execution_count": 170,
   "metadata": {},
   "outputs": [],
   "source": [
    "y_train = train_df['Close'].values.reshape(-1,1)"
   ]
  },
  {
   "cell_type": "code",
   "execution_count": 171,
   "metadata": {},
   "outputs": [
    {
     "data": {
      "text/plain": [
       "6017"
      ]
     },
     "execution_count": 171,
     "metadata": {},
     "output_type": "execute_result"
    }
   ],
   "source": [
    "len(X_train)"
   ]
  },
  {
   "cell_type": "code",
   "execution_count": 172,
   "metadata": {},
   "outputs": [
    {
     "data": {
      "text/plain": [
       "6017"
      ]
     },
     "execution_count": 172,
     "metadata": {},
     "output_type": "execute_result"
    }
   ],
   "source": [
    "len(y_train)"
   ]
  },
  {
   "cell_type": "code",
   "execution_count": 173,
   "metadata": {},
   "outputs": [
    {
     "name": "stderr",
     "output_type": "stream",
     "text": [
      "/anaconda3/lib/python3.6/site-packages/sklearn/utils/validation.py:578: DataConversionWarning: A column-vector y was passed when a 1d array was expected. Please change the shape of y to (n_samples, ), for example using ravel().\n",
      "  y = column_or_1d(y, warn=True)\n"
     ]
    },
    {
     "data": {
      "text/plain": [
       "SVR(C=1.0, cache_size=200, coef0=0.0, degree=3, epsilon=0.1, gamma='auto',\n",
       "  kernel='rbf', max_iter=-1, shrinking=True, tol=0.001, verbose=False)"
      ]
     },
     "execution_count": 173,
     "metadata": {},
     "output_type": "execute_result"
    }
   ],
   "source": [
    "svr.fit(X_train, y_train)"
   ]
  },
  {
   "cell_type": "code",
   "execution_count": 174,
   "metadata": {},
   "outputs": [],
   "source": [
    "y_pred = svr.predict(X_test) #testing the svr function to see what happens"
   ]
  },
  {
   "cell_type": "code",
   "execution_count": 175,
   "metadata": {},
   "outputs": [
    {
     "data": {
      "text/plain": [
       "958"
      ]
     },
     "execution_count": 175,
     "metadata": {},
     "output_type": "execute_result"
    }
   ],
   "source": [
    "len(y_pred)"
   ]
  },
  {
   "cell_type": "code",
   "execution_count": 176,
   "metadata": {},
   "outputs": [
    {
     "data": {
      "text/plain": [
       "[<matplotlib.lines.Line2D at 0x1a345fdb00>]"
      ]
     },
     "execution_count": 176,
     "metadata": {},
     "output_type": "execute_result"
    },
    {
     "data": {
      "image/png": "[encoded data removed]",
      "text/plain": [
       "<Figure size 432x288 with 1 Axes>"
      ]
     },
     "metadata": {},
     "output_type": "display_data"
    }
   ],
   "source": [
    "\n",
    "plt.plot(y_pred)"
   ]
  },
  {
   "cell_type": "code",
   "execution_count": 177,
   "metadata": {},
   "outputs": [],
   "source": [
    "y_test = test_df['Close'].values"
   ]
  },
  {
   "cell_type": "code",
   "execution_count": 178,
   "metadata": {},
   "outputs": [
    {
     "data": {
      "text/plain": [
       "[<matplotlib.lines.Line2D at 0x1124cb748>]"
      ]
     },
     "execution_count": 178,
     "metadata": {},
     "output_type": "execute_result"
    },
    {
     "data": {
      "image/png": "[encoded data removed]",
      "text/plain": [
       "<Figure size 432x288 with 1 Axes>"
      ]
     },
     "metadata": {},
     "output_type": "display_data"
    }
   ],
   "source": [
    "plt.plot(test_df['Close'])"
   ]
  },
  {
   "cell_type": "code",
   "execution_count": 179,
   "metadata": {},
   "outputs": [],
   "source": [
    "from sklearn.metrics import r2_score"
   ]
  },
  {
   "cell_type": "code",
   "execution_count": 180,
   "metadata": {},
   "outputs": [
    {
     "data": {
      "text/plain": [
       "-0.7023400369104786"
      ]
     },
     "execution_count": 180,
     "metadata": {},
     "output_type": "execute_result"
    }
   ],
   "source": [
    "r2_score(y_pred, test_df['Close'])"
   ]
  },
  {
   "cell_type": "code",
   "execution_count": 181,
   "metadata": {},
   "outputs": [],
   "source": [
    "from keras.models import Sequential #imports for NN\n",
    "from keras.layers import Dense, LSTM\n",
    "from keras.optimizers import Adam"
   ]
  },
  {
   "cell_type": "code",
   "execution_count": 182,
   "metadata": {},
   "outputs": [],
   "source": [
    "from keras import backend as K\n",
    "K.reset_uids()\n",
    "K.clear_session()"
   ]
  },
  {
   "cell_type": "code",
   "execution_count": 183,
   "metadata": {},
   "outputs": [
    {
     "data": {
      "text/plain": [
       "(6017, 4)"
      ]
     },
     "execution_count": 183,
     "metadata": {},
     "output_type": "execute_result"
    }
   ],
   "source": [
    "X_train.shape"
   ]
  },
  {
   "cell_type": "code",
   "execution_count": 184,
   "metadata": {},
   "outputs": [],
   "source": [
    "X_train = X_train.reshape((X_train.shape[0],X_train.shape[1],1)) #reshaping my data for LSTM\n",
    "X_test = X_test.reshape((X_test.shape[0],X_test.shape[1],1))"
   ]
  },
  {
   "cell_type": "code",
   "execution_count": 185,
   "metadata": {},
   "outputs": [
    {
     "name": "stdout",
     "output_type": "stream",
     "text": [
      "Train on 6017 samples, validate on 958 samples\n",
      "Epoch 1/10\n",
      "6017/6017 [==============================] - 57s 9ms/step - loss: 263.7894 - val_loss: 40.1971\n",
      "Epoch 2/10\n",
      "6017/6017 [==============================] - 54s 9ms/step - loss: 165.8160 - val_loss: 38.3663\n",
      "Epoch 3/10\n",
      "6017/6017 [==============================] - 54s 9ms/step - loss: 159.2768 - val_loss: 33.5143\n",
      "Epoch 4/10\n",
      "6017/6017 [==============================] - 59s 10ms/step - loss: 134.0304 - val_loss: 9.3763\n",
      "Epoch 5/10\n",
      "6017/6017 [==============================] - 63s 10ms/step - loss: 54.7970 - val_loss: 3.5770\n",
      "Epoch 6/10\n",
      "6017/6017 [==============================] - 58s 10ms/step - loss: 40.6498 - val_loss: 7.8867\n",
      "Epoch 7/10\n",
      "6017/6017 [==============================] - 65s 11ms/step - loss: 38.0759 - val_loss: 14.6954\n",
      "Epoch 8/10\n",
      "6017/6017 [==============================] - 55s 9ms/step - loss: 36.8035 - val_loss: 4.9582\n",
      "Epoch 9/10\n",
      "6017/6017 [==============================] - 60s 10ms/step - loss: 40.9556 - val_loss: 11.7597\n",
      "Epoch 10/10\n",
      "6017/6017 [==============================] - 57s 9ms/step - loss: 30.8005 - val_loss: 1.2742\n"
     ]
    }
   ],
   "source": [
    "model = Sequential()\n",
    "model.add(LSTM(365,input_shape=(4,1))) #amount of days in the year\n",
    "model.add(Dense(1))\n",
    "model.compile(optimizer='adam',loss='mse')\n",
    "#Reshape data for (Sample,Timestep,Features) \n",
    "X_train = X_train.reshape((X_train.shape[0],X_train.shape[1],1))\n",
    "X_test = X_test.reshape((X_test.shape[0],X_test.shape[1],1))\n",
    "history = model.fit(X_train,y_train,epochs=10, batch_size=200, validation_data=(X_test,y_test),shuffle=False)\n",
    "\n",
    "\n",
    "\n",
    "\n",
    "\n"
   ]
  },
  {
   "cell_type": "code",
   "execution_count": 186,
   "metadata": {},
   "outputs": [
    {
     "data": {
      "text/plain": [
       "\"model = Sequential() \\nmodel.add(Dense(10, input_shape=(X_train.shape[1],), activation='relu', kernel_initializer='lecun_uniform'))\\nmodel.add(Dense(10, input_shape=(X_train.shape[1],)))\\nmodel.add(Dense(10, input_shape=(X_train.shape[1],)))\\nmodel.add(Dense(10, input_shape=(X_train.shape[1],)))\\nmodel.add(Dense(1))\\nmodel.compile(optimizer='adam', loss='mean_squared_error')\\nhistory = model.fit(X_train, y_train, batch_size=16, validation_data=(X_test, y_test), epochs=100, verbose=1)\\n#EarlyStopping(monitor='mean_squared_error', min_delta=0.01, patience=.01, verbose=0, mode='auto')\""
      ]
     },
     "execution_count": 186,
     "metadata": {},
     "output_type": "execute_result"
    }
   ],
   "source": [
    "'''model = Sequential() \n",
    "model.add(Dense(10, input_shape=(X_train.shape[1],), activation='relu', kernel_initializer='lecun_uniform'))\n",
    "model.add(Dense(10, input_shape=(X_train.shape[1],)))\n",
    "model.add(Dense(10, input_shape=(X_train.shape[1],)))\n",
    "model.add(Dense(10, input_shape=(X_train.shape[1],)))\n",
    "model.add(Dense(1))\n",
    "model.compile(optimizer='adam', loss='mean_squared_error')\n",
    "history = model.fit(X_train, y_train, batch_size=16, validation_data=(X_test, y_test), epochs=100, verbose=1)\n",
    "#EarlyStopping(monitor='mean_squared_error', min_delta=0.01, patience=.01, verbose=0, mode='auto')'''"
   ]
  },
  {
   "cell_type": "code",
   "execution_count": 187,
   "metadata": {
    "scrolled": true
   },
   "outputs": [
    {
     "data": {
      "image/png": "[encoded data removed]",
      "text/plain": [
       "<Figure size 432x288 with 1 Axes>"
      ]
     },
     "metadata": {},
     "output_type": "display_data"
    }
   ],
   "source": [
    "plt.plot(history.history['loss'], label='train')\n",
    "plt.plot(history.history['val_loss'], label='test')\n",
    "plt.legend()\n",
    "plt.show()"
   ]
  },
  {
   "cell_type": "code",
   "execution_count": 188,
   "metadata": {
    "scrolled": false
   },
   "outputs": [
    {
     "data": {
      "text/plain": [
       "0.9688836654454934"
      ]
     },
     "execution_count": 188,
     "metadata": {},
     "output_type": "execute_result"
    },
    {
     "data": {
      "image/png": "[encoded data removed]",
      "text/plain": [
       "<Figure size 1440x720 with 1 Axes>"
      ]
     },
     "metadata": {},
     "output_type": "display_data"
    }
   ],
   "source": [
    "plt.figure(figsize=(20,10))\n",
    "y_pred = model.predict(X_test)\n",
    "plt.plot(y_test, label = 'Actual')\n",
    "plt.plot(y_pred, label = 'Predictions')\n",
    "plt.legend()\n",
    "r2_score(y_test, y_pred)"
   ]
  },
  {
   "cell_type": "code",
   "execution_count": 189,
   "metadata": {},
   "outputs": [
    {
     "data": {
      "text/plain": [
       "958"
      ]
     },
     "execution_count": 189,
     "metadata": {},
     "output_type": "execute_result"
    }
   ],
   "source": [
    "len(y_test)"
   ]
  },
  {
   "cell_type": "code",
   "execution_count": 190,
   "metadata": {},
   "outputs": [],
   "source": [
    "df_pred = pd.DataFrame([y_test, y_pred]).T"
   ]
  },
  {
   "cell_type": "code",
   "execution_count": 191,
   "metadata": {},
   "outputs": [
    {
     "data": {
      "text/html": [
       "<div>\n",
       "<style scoped>\n",
       "    .dataframe tbody tr th:only-of-type {\n",
       "        vertical-align: middle;\n",
       "    }\n",
       "\n",
       "    .dataframe tbody tr th {\n",
       "        vertical-align: top;\n",
       "    }\n",
       "\n",
       "    .dataframe thead th {\n",
       "        text-align: right;\n",
       "    }\n",
       "</style>\n",
       "<table border=\"1\" class=\"dataframe\">\n",
       "  <thead>\n",
       "    <tr style=\"text-align: right;\">\n",
       "      <th></th>\n",
       "      <th>0</th>\n",
       "      <th>1</th>\n",
       "    </tr>\n",
       "  </thead>\n",
       "  <tbody>\n",
       "    <tr>\n",
       "      <th>0</th>\n",
       "      <td>25.06</td>\n",
       "      <td>[24.462475]</td>\n",
       "    </tr>\n",
       "    <tr>\n",
       "      <th>1</th>\n",
       "      <td>24.6</td>\n",
       "      <td>[24.38079]</td>\n",
       "    </tr>\n",
       "    <tr>\n",
       "      <th>2</th>\n",
       "      <td>24.07</td>\n",
       "      <td>[23.926136]</td>\n",
       "    </tr>\n",
       "    <tr>\n",
       "      <th>3</th>\n",
       "      <td>24.08</td>\n",
       "      <td>[23.405952]</td>\n",
       "    </tr>\n",
       "    <tr>\n",
       "      <th>4</th>\n",
       "      <td>24.37</td>\n",
       "      <td>[23.339962]</td>\n",
       "    </tr>\n",
       "  </tbody>\n",
       "</table>\n",
       "</div>"
      ],
      "text/plain": [
       "       0            1\n",
       "0  25.06  [24.462475]\n",
       "1   24.6   [24.38079]\n",
       "2  24.07  [23.926136]\n",
       "3  24.08  [23.405952]\n",
       "4  24.37  [23.339962]"
      ]
     },
     "execution_count": 191,
     "metadata": {},
     "output_type": "execute_result"
    }
   ],
   "source": [
    "df_pred.head()"
   ]
  },
  {
   "cell_type": "code",
   "execution_count": 192,
   "metadata": {},
   "outputs": [
    {
     "data": {
      "text/html": [
       "<div>\n",
       "<style scoped>\n",
       "    .dataframe tbody tr th:only-of-type {\n",
       "        vertical-align: middle;\n",
       "    }\n",
       "\n",
       "    .dataframe tbody tr th {\n",
       "        vertical-align: top;\n",
       "    }\n",
       "\n",
       "    .dataframe thead th {\n",
       "        text-align: right;\n",
       "    }\n",
       "</style>\n",
       "<table border=\"1\" class=\"dataframe\">\n",
       "  <thead>\n",
       "    <tr style=\"text-align: right;\">\n",
       "      <th></th>\n",
       "      <th>0</th>\n",
       "      <th>1</th>\n",
       "    </tr>\n",
       "  </thead>\n",
       "  <tbody>\n",
       "    <tr>\n",
       "      <th>953</th>\n",
       "      <td>12.15</td>\n",
       "      <td>[13.88584]</td>\n",
       "    </tr>\n",
       "    <tr>\n",
       "      <th>954</th>\n",
       "      <td>12.1</td>\n",
       "      <td>[13.738597]</td>\n",
       "    </tr>\n",
       "    <tr>\n",
       "      <th>955</th>\n",
       "      <td>12.19</td>\n",
       "      <td>[13.679129]</td>\n",
       "    </tr>\n",
       "    <tr>\n",
       "      <th>956</th>\n",
       "      <td>12.38</td>\n",
       "      <td>[13.64408]</td>\n",
       "    </tr>\n",
       "    <tr>\n",
       "      <th>957</th>\n",
       "      <td>12.56</td>\n",
       "      <td>[13.749561]</td>\n",
       "    </tr>\n",
       "  </tbody>\n",
       "</table>\n",
       "</div>"
      ],
      "text/plain": [
       "         0            1\n",
       "953  12.15   [13.88584]\n",
       "954   12.1  [13.738597]\n",
       "955  12.19  [13.679129]\n",
       "956  12.38   [13.64408]\n",
       "957  12.56  [13.749561]"
      ]
     },
     "execution_count": 192,
     "metadata": {},
     "output_type": "execute_result"
    }
   ],
   "source": [
    "df_pred.tail()"
   ]
  },
  {
   "cell_type": "code",
   "execution_count": 193,
   "metadata": {},
   "outputs": [],
   "source": [
    "df_pred[0] = df_pred[0].astype(float)"
   ]
  },
  {
   "cell_type": "code",
   "execution_count": 194,
   "metadata": {},
   "outputs": [],
   "source": [
    "df_pred[1] = df_pred[1].astype(float)"
   ]
  },
  {
   "cell_type": "code",
   "execution_count": 195,
   "metadata": {},
   "outputs": [],
   "source": [
    "maper = {0:'Act', 1:'Preds'}\n",
    "df_pred.rename(maper, axis=1, inplace=True)"
   ]
  },
  {
   "cell_type": "code",
   "execution_count": 196,
   "metadata": {},
   "outputs": [],
   "source": [
    "df_pred.set_index(keys=test_df.index, inplace=True)"
   ]
  },
  {
   "cell_type": "code",
   "execution_count": 204,
   "metadata": {},
   "outputs": [
    {
     "name": "stderr",
     "output_type": "stream",
     "text": [
      "No handles with labels found to put in legend.\n"
     ]
    },
    {
     "data": {
      "image/png": "[encoded data removed]",
      "text/plain": [
       "<Figure size 1440x720 with 1 Axes>"
      ]
     },
     "metadata": {},
     "output_type": "display_data"
    }
   ],
   "source": [
    "plt.figure(figsize=(20,10))\n",
    "plt.plot(df_pred)\n",
    "plt.legend();"
   ]
  },
  {
   "cell_type": "code",
   "execution_count": 198,
   "metadata": {},
   "outputs": [],
   "source": [
    "import numpy as np"
   ]
  },
  {
   "cell_type": "code",
   "execution_count": 199,
   "metadata": {},
   "outputs": [
    {
     "data": {
      "text/html": [
       "<div>\n",
       "<style scoped>\n",
       "    .dataframe tbody tr th:only-of-type {\n",
       "        vertical-align: middle;\n",
       "    }\n",
       "\n",
       "    .dataframe tbody tr th {\n",
       "        vertical-align: top;\n",
       "    }\n",
       "\n",
       "    .dataframe thead th {\n",
       "        text-align: right;\n",
       "    }\n",
       "</style>\n",
       "<table border=\"1\" class=\"dataframe\">\n",
       "  <thead>\n",
       "    <tr style=\"text-align: right;\">\n",
       "      <th></th>\n",
       "      <th>Close</th>\n",
       "      <th>Volume</th>\n",
       "      <th>std</th>\n",
       "      <th>upper</th>\n",
       "      <th>lower</th>\n",
       "      <th>Rates</th>\n",
       "      <th>lag</th>\n",
       "      <th>std_1</th>\n",
       "      <th>lag_2</th>\n",
       "    </tr>\n",
       "    <tr>\n",
       "      <th>Date</th>\n",
       "      <th></th>\n",
       "      <th></th>\n",
       "      <th></th>\n",
       "      <th></th>\n",
       "      <th></th>\n",
       "      <th></th>\n",
       "      <th></th>\n",
       "      <th></th>\n",
       "      <th></th>\n",
       "    </tr>\n",
       "  </thead>\n",
       "  <tbody>\n",
       "    <tr>\n",
       "      <th>2018-10-15</th>\n",
       "      <td>12.15</td>\n",
       "      <td>62640200.0</td>\n",
       "      <td>0.709739</td>\n",
       "      <td>13.569478</td>\n",
       "      <td>10.730522</td>\n",
       "      <td>2.03</td>\n",
       "      <td>12.32</td>\n",
       "      <td>0.558507</td>\n",
       "      <td>13.12</td>\n",
       "    </tr>\n",
       "    <tr>\n",
       "      <th>2018-10-16</th>\n",
       "      <td>12.10</td>\n",
       "      <td>86485800.0</td>\n",
       "      <td>0.709427</td>\n",
       "      <td>13.518855</td>\n",
       "      <td>10.681145</td>\n",
       "      <td>2.03</td>\n",
       "      <td>12.15</td>\n",
       "      <td>0.602520</td>\n",
       "      <td>12.99</td>\n",
       "    </tr>\n",
       "    <tr>\n",
       "      <th>2018-10-17</th>\n",
       "      <td>12.19</td>\n",
       "      <td>83433100.0</td>\n",
       "      <td>0.700259</td>\n",
       "      <td>13.590519</td>\n",
       "      <td>10.789481</td>\n",
       "      <td>2.03</td>\n",
       "      <td>12.10</td>\n",
       "      <td>0.492626</td>\n",
       "      <td>13.12</td>\n",
       "    </tr>\n",
       "    <tr>\n",
       "      <th>2018-10-18</th>\n",
       "      <td>12.38</td>\n",
       "      <td>81520200.0</td>\n",
       "      <td>0.699676</td>\n",
       "      <td>13.779352</td>\n",
       "      <td>10.980648</td>\n",
       "      <td>2.03</td>\n",
       "      <td>12.19</td>\n",
       "      <td>0.250659</td>\n",
       "      <td>13.11</td>\n",
       "    </tr>\n",
       "    <tr>\n",
       "      <th>2018-10-19</th>\n",
       "      <td>12.56</td>\n",
       "      <td>86762800.0</td>\n",
       "      <td>0.700680</td>\n",
       "      <td>13.961360</td>\n",
       "      <td>11.158640</td>\n",
       "      <td>2.03</td>\n",
       "      <td>12.38</td>\n",
       "      <td>0.117771</td>\n",
       "      <td>13.15</td>\n",
       "    </tr>\n",
       "  </tbody>\n",
       "</table>\n",
       "</div>"
      ],
      "text/plain": [
       "            Close      Volume       std      upper      lower  Rates    lag  \\\n",
       "Date                                                                          \n",
       "2018-10-15  12.15  62640200.0  0.709739  13.569478  10.730522   2.03  12.32   \n",
       "2018-10-16  12.10  86485800.0  0.709427  13.518855  10.681145   2.03  12.15   \n",
       "2018-10-17  12.19  83433100.0  0.700259  13.590519  10.789481   2.03  12.10   \n",
       "2018-10-18  12.38  81520200.0  0.699676  13.779352  10.980648   2.03  12.19   \n",
       "2018-10-19  12.56  86762800.0  0.700680  13.961360  11.158640   2.03  12.38   \n",
       "\n",
       "               std_1  lag_2  \n",
       "Date                         \n",
       "2018-10-15  0.558507  13.12  \n",
       "2018-10-16  0.602520  12.99  \n",
       "2018-10-17  0.492626  13.12  \n",
       "2018-10-18  0.250659  13.11  \n",
       "2018-10-19  0.117771  13.15  "
      ]
     },
     "execution_count": 199,
     "metadata": {},
     "output_type": "execute_result"
    }
   ],
   "source": [
    "df.tail()"
   ]
  },
  {
   "cell_type": "code",
   "execution_count": 200,
   "metadata": {},
   "outputs": [],
   "source": [
    "rate = 2\n",
    "lag = 11\n",
    "std = 12.482"
   ]
  },
  {
   "cell_type": "code",
   "execution_count": 201,
   "metadata": {},
   "outputs": [],
   "source": [
    "pred_1 = np.array([[rate, lag, std]])"
   ]
  },
  {
   "cell_type": "code",
   "execution_count": 202,
   "metadata": {},
   "outputs": [
    {
     "data": {
      "text/plain": [
       "(1, 3)"
      ]
     },
     "execution_count": 202,
     "metadata": {},
     "output_type": "execute_result"
    }
   ],
   "source": [
    "pred_1.shape"
   ]
  },
  {
   "cell_type": "code",
   "execution_count": 203,
   "metadata": {},
   "outputs": [],
   "source": [
    "#model.predict(pred_1)"
   ]
  },
  {
   "cell_type": "code",
   "execution_count": null,
   "metadata": {},
   "outputs": [],
   "source": []
  }
 ],
 "metadata": {
  "kernelspec": {
   "display_name": "Python [conda env:anaconda3]",
   "language": "python",
   "name": "conda-env-anaconda3-py"
  },
  "language_info": {
   "codemirror_mode": {
    "name": "ipython",
    "version": 3
   },
   "file_extension": ".py",
   "mimetype": "text/x-python",
   "name": "python",
   "nbconvert_exporter": "python",
   "pygments_lexer": "ipython3",
   "version": "3.6.5"
  }
 },
 "nbformat": 4,
 "nbformat_minor": 2
}
