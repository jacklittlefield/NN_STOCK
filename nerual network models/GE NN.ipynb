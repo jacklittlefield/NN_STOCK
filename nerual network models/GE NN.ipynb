{
 "cells": [
  {
   "cell_type": "code",
   "execution_count": 239,
   "metadata": {},
   "outputs": [],
   "source": [
    "import pandas as pd"
   ]
  },
  {
   "cell_type": "code",
   "execution_count": 240,
   "metadata": {},
   "outputs": [],
   "source": [
    "df = pd.read_csv('./assets/ge_rates_nonadj_21.csv') #importing Compbined Data"
   ]
  },
  {
   "cell_type": "code",
   "execution_count": 241,
   "metadata": {},
   "outputs": [
    {
     "data": {
      "text/plain": [
       "Index(['Date', 'Close', 'Volume', 'std', 'upper', 'lower', 'Rates'], dtype='object')"
      ]
     },
     "execution_count": 241,
     "metadata": {},
     "output_type": "execute_result"
    }
   ],
   "source": [
    "df.columns"
   ]
  },
  {
   "cell_type": "code",
   "execution_count": 242,
   "metadata": {},
   "outputs": [],
   "source": [
    "#df = df.drop(['Volume', 'std', 'upper', 'lower'], axis = 1)"
   ]
  },
  {
   "cell_type": "code",
   "execution_count": 243,
   "metadata": {},
   "outputs": [],
   "source": [
    "df['lag'] = df['Close'].shift() #making the lags based on PACF\n",
    "#df['std'] = df['std'].shift()"
   ]
  },
  {
   "cell_type": "code",
   "execution_count": 244,
   "metadata": {},
   "outputs": [],
   "source": [
    "df.dropna(inplace=True)"
   ]
  },
  {
   "cell_type": "code",
   "execution_count": 245,
   "metadata": {},
   "outputs": [
    {
     "data": {
      "text/html": [
       "<div>\n",
       "<style scoped>\n",
       "    .dataframe tbody tr th:only-of-type {\n",
       "        vertical-align: middle;\n",
       "    }\n",
       "\n",
       "    .dataframe tbody tr th {\n",
       "        vertical-align: top;\n",
       "    }\n",
       "\n",
       "    .dataframe thead th {\n",
       "        text-align: right;\n",
       "    }\n",
       "</style>\n",
       "<table border=\"1\" class=\"dataframe\">\n",
       "  <thead>\n",
       "    <tr style=\"text-align: right;\">\n",
       "      <th></th>\n",
       "      <th>Date</th>\n",
       "      <th>Close</th>\n",
       "      <th>Volume</th>\n",
       "      <th>std</th>\n",
       "      <th>upper</th>\n",
       "      <th>lower</th>\n",
       "      <th>Rates</th>\n",
       "      <th>lag</th>\n",
       "    </tr>\n",
       "  </thead>\n",
       "  <tbody>\n",
       "    <tr>\n",
       "      <th>1</th>\n",
       "      <td>1990-11-19</td>\n",
       "      <td>4.614583</td>\n",
       "      <td>18886800.0</td>\n",
       "      <td>0.011662</td>\n",
       "      <td>4.637906</td>\n",
       "      <td>4.591260</td>\n",
       "      <td>7.06</td>\n",
       "      <td>4.614583</td>\n",
       "    </tr>\n",
       "    <tr>\n",
       "      <th>2</th>\n",
       "      <td>1990-11-20</td>\n",
       "      <td>4.437500</td>\n",
       "      <td>22634400.0</td>\n",
       "      <td>0.011617</td>\n",
       "      <td>4.460733</td>\n",
       "      <td>4.414267</td>\n",
       "      <td>7.06</td>\n",
       "      <td>4.614583</td>\n",
       "    </tr>\n",
       "    <tr>\n",
       "      <th>3</th>\n",
       "      <td>1990-11-21</td>\n",
       "      <td>4.479167</td>\n",
       "      <td>15367200.0</td>\n",
       "      <td>0.011422</td>\n",
       "      <td>4.502011</td>\n",
       "      <td>4.456323</td>\n",
       "      <td>7.06</td>\n",
       "      <td>4.437500</td>\n",
       "    </tr>\n",
       "    <tr>\n",
       "      <th>4</th>\n",
       "      <td>1990-11-23</td>\n",
       "      <td>4.468750</td>\n",
       "      <td>4462800.0</td>\n",
       "      <td>0.010901</td>\n",
       "      <td>4.490552</td>\n",
       "      <td>4.446948</td>\n",
       "      <td>7.06</td>\n",
       "      <td>4.479167</td>\n",
       "    </tr>\n",
       "    <tr>\n",
       "      <th>5</th>\n",
       "      <td>1990-11-26</td>\n",
       "      <td>4.447917</td>\n",
       "      <td>13736400.0</td>\n",
       "      <td>0.009763</td>\n",
       "      <td>4.467443</td>\n",
       "      <td>4.428391</td>\n",
       "      <td>7.06</td>\n",
       "      <td>4.468750</td>\n",
       "    </tr>\n",
       "  </tbody>\n",
       "</table>\n",
       "</div>"
      ],
      "text/plain": [
       "         Date     Close      Volume       std     upper     lower  Rates  \\\n",
       "1  1990-11-19  4.614583  18886800.0  0.011662  4.637906  4.591260   7.06   \n",
       "2  1990-11-20  4.437500  22634400.0  0.011617  4.460733  4.414267   7.06   \n",
       "3  1990-11-21  4.479167  15367200.0  0.011422  4.502011  4.456323   7.06   \n",
       "4  1990-11-23  4.468750   4462800.0  0.010901  4.490552  4.446948   7.06   \n",
       "5  1990-11-26  4.447917  13736400.0  0.009763  4.467443  4.428391   7.06   \n",
       "\n",
       "        lag  \n",
       "1  4.614583  \n",
       "2  4.614583  \n",
       "3  4.437500  \n",
       "4  4.479167  \n",
       "5  4.468750  "
      ]
     },
     "execution_count": 245,
     "metadata": {},
     "output_type": "execute_result"
    }
   ],
   "source": [
    "df.head()"
   ]
  },
  {
   "cell_type": "code",
   "execution_count": 246,
   "metadata": {},
   "outputs": [],
   "source": [
    "df['std_1'] = df['Close'].rolling(5).std().dropna().shift()\n",
    "df['lag_2'] = df['Close'].shift(60) #making the standard deviation and 60 day lag"
   ]
  },
  {
   "cell_type": "code",
   "execution_count": 247,
   "metadata": {},
   "outputs": [],
   "source": [
    "df.dropna(inplace=True)"
   ]
  },
  {
   "cell_type": "code",
   "execution_count": 248,
   "metadata": {},
   "outputs": [],
   "source": [
    "df['Date'] = pd.to_datetime(df['Date'])"
   ]
  },
  {
   "cell_type": "code",
   "execution_count": 249,
   "metadata": {},
   "outputs": [],
   "source": [
    "df.set_index('Date', inplace=True)"
   ]
  },
  {
   "cell_type": "markdown",
   "metadata": {},
   "source": [
    "For GE I am going to make my train test split on the year 2014"
   ]
  },
  {
   "cell_type": "code",
   "execution_count": 250,
   "metadata": {},
   "outputs": [],
   "source": [
    "train_df = df[:'2014']\n",
    "test_df = df['2015':] #training and testing data"
   ]
  },
  {
   "cell_type": "code",
   "execution_count": 251,
   "metadata": {},
   "outputs": [
    {
     "data": {
      "text/html": [
       "<div>\n",
       "<style scoped>\n",
       "    .dataframe tbody tr th:only-of-type {\n",
       "        vertical-align: middle;\n",
       "    }\n",
       "\n",
       "    .dataframe tbody tr th {\n",
       "        vertical-align: top;\n",
       "    }\n",
       "\n",
       "    .dataframe thead th {\n",
       "        text-align: right;\n",
       "    }\n",
       "</style>\n",
       "<table border=\"1\" class=\"dataframe\">\n",
       "  <thead>\n",
       "    <tr style=\"text-align: right;\">\n",
       "      <th></th>\n",
       "      <th>Close</th>\n",
       "      <th>Volume</th>\n",
       "      <th>std</th>\n",
       "      <th>upper</th>\n",
       "      <th>lower</th>\n",
       "      <th>Rates</th>\n",
       "      <th>lag</th>\n",
       "      <th>std_1</th>\n",
       "      <th>lag_2</th>\n",
       "    </tr>\n",
       "    <tr>\n",
       "      <th>Date</th>\n",
       "      <th></th>\n",
       "      <th></th>\n",
       "      <th></th>\n",
       "      <th></th>\n",
       "      <th></th>\n",
       "      <th></th>\n",
       "      <th></th>\n",
       "      <th></th>\n",
       "      <th></th>\n",
       "    </tr>\n",
       "  </thead>\n",
       "  <tbody>\n",
       "    <tr>\n",
       "      <th>2014-12-24</th>\n",
       "      <td>25.830000</td>\n",
       "      <td>17865100.0</td>\n",
       "      <td>0.564560</td>\n",
       "      <td>26.959120</td>\n",
       "      <td>24.700880</td>\n",
       "      <td>0.03</td>\n",
       "      <td>25.879999</td>\n",
       "      <td>0.497514</td>\n",
       "      <td>25.620001</td>\n",
       "    </tr>\n",
       "    <tr>\n",
       "      <th>2014-12-26</th>\n",
       "      <td>25.780001</td>\n",
       "      <td>14978500.0</td>\n",
       "      <td>0.517207</td>\n",
       "      <td>26.814415</td>\n",
       "      <td>24.745587</td>\n",
       "      <td>0.03</td>\n",
       "      <td>25.830000</td>\n",
       "      <td>0.295347</td>\n",
       "      <td>25.160000</td>\n",
       "    </tr>\n",
       "    <tr>\n",
       "      <th>2014-12-29</th>\n",
       "      <td>25.700001</td>\n",
       "      <td>20858200.0</td>\n",
       "      <td>0.492689</td>\n",
       "      <td>26.685378</td>\n",
       "      <td>24.714624</td>\n",
       "      <td>0.03</td>\n",
       "      <td>25.780001</td>\n",
       "      <td>0.102127</td>\n",
       "      <td>25.120001</td>\n",
       "    </tr>\n",
       "    <tr>\n",
       "      <th>2014-12-30</th>\n",
       "      <td>25.570000</td>\n",
       "      <td>22184500.0</td>\n",
       "      <td>0.487743</td>\n",
       "      <td>26.545487</td>\n",
       "      <td>24.594513</td>\n",
       "      <td>0.03</td>\n",
       "      <td>25.700001</td>\n",
       "      <td>0.077136</td>\n",
       "      <td>25.400000</td>\n",
       "    </tr>\n",
       "    <tr>\n",
       "      <th>2014-12-31</th>\n",
       "      <td>25.270000</td>\n",
       "      <td>28206500.0</td>\n",
       "      <td>0.479912</td>\n",
       "      <td>26.229824</td>\n",
       "      <td>24.310176</td>\n",
       "      <td>0.03</td>\n",
       "      <td>25.570000</td>\n",
       "      <td>0.121532</td>\n",
       "      <td>25.219999</td>\n",
       "    </tr>\n",
       "  </tbody>\n",
       "</table>\n",
       "</div>"
      ],
      "text/plain": [
       "                Close      Volume       std      upper      lower  Rates  \\\n",
       "Date                                                                       \n",
       "2014-12-24  25.830000  17865100.0  0.564560  26.959120  24.700880   0.03   \n",
       "2014-12-26  25.780001  14978500.0  0.517207  26.814415  24.745587   0.03   \n",
       "2014-12-29  25.700001  20858200.0  0.492689  26.685378  24.714624   0.03   \n",
       "2014-12-30  25.570000  22184500.0  0.487743  26.545487  24.594513   0.03   \n",
       "2014-12-31  25.270000  28206500.0  0.479912  26.229824  24.310176   0.03   \n",
       "\n",
       "                  lag     std_1      lag_2  \n",
       "Date                                        \n",
       "2014-12-24  25.879999  0.497514  25.620001  \n",
       "2014-12-26  25.830000  0.295347  25.160000  \n",
       "2014-12-29  25.780001  0.102127  25.120001  \n",
       "2014-12-30  25.700001  0.077136  25.400000  \n",
       "2014-12-31  25.570000  0.121532  25.219999  "
      ]
     },
     "execution_count": 251,
     "metadata": {},
     "output_type": "execute_result"
    }
   ],
   "source": [
    "train_df.tail()"
   ]
  },
  {
   "cell_type": "code",
   "execution_count": 252,
   "metadata": {},
   "outputs": [
    {
     "data": {
      "text/html": [
       "<div>\n",
       "<style scoped>\n",
       "    .dataframe tbody tr th:only-of-type {\n",
       "        vertical-align: middle;\n",
       "    }\n",
       "\n",
       "    .dataframe tbody tr th {\n",
       "        vertical-align: top;\n",
       "    }\n",
       "\n",
       "    .dataframe thead th {\n",
       "        text-align: right;\n",
       "    }\n",
       "</style>\n",
       "<table border=\"1\" class=\"dataframe\">\n",
       "  <thead>\n",
       "    <tr style=\"text-align: right;\">\n",
       "      <th></th>\n",
       "      <th>Close</th>\n",
       "      <th>Volume</th>\n",
       "      <th>std</th>\n",
       "      <th>upper</th>\n",
       "      <th>lower</th>\n",
       "      <th>Rates</th>\n",
       "      <th>lag</th>\n",
       "      <th>std_1</th>\n",
       "      <th>lag_2</th>\n",
       "    </tr>\n",
       "    <tr>\n",
       "      <th>Date</th>\n",
       "      <th></th>\n",
       "      <th></th>\n",
       "      <th></th>\n",
       "      <th></th>\n",
       "      <th></th>\n",
       "      <th></th>\n",
       "      <th></th>\n",
       "      <th></th>\n",
       "      <th></th>\n",
       "    </tr>\n",
       "  </thead>\n",
       "  <tbody>\n",
       "    <tr>\n",
       "      <th>2018-10-15</th>\n",
       "      <td>12.15</td>\n",
       "      <td>62640200.0</td>\n",
       "      <td>0.709739</td>\n",
       "      <td>13.569478</td>\n",
       "      <td>10.730522</td>\n",
       "      <td>2.03</td>\n",
       "      <td>12.32</td>\n",
       "      <td>0.558507</td>\n",
       "      <td>13.12</td>\n",
       "    </tr>\n",
       "    <tr>\n",
       "      <th>2018-10-16</th>\n",
       "      <td>12.10</td>\n",
       "      <td>86485800.0</td>\n",
       "      <td>0.709427</td>\n",
       "      <td>13.518855</td>\n",
       "      <td>10.681145</td>\n",
       "      <td>2.03</td>\n",
       "      <td>12.15</td>\n",
       "      <td>0.602520</td>\n",
       "      <td>12.99</td>\n",
       "    </tr>\n",
       "    <tr>\n",
       "      <th>2018-10-17</th>\n",
       "      <td>12.19</td>\n",
       "      <td>83433100.0</td>\n",
       "      <td>0.700259</td>\n",
       "      <td>13.590519</td>\n",
       "      <td>10.789481</td>\n",
       "      <td>2.03</td>\n",
       "      <td>12.10</td>\n",
       "      <td>0.492626</td>\n",
       "      <td>13.12</td>\n",
       "    </tr>\n",
       "    <tr>\n",
       "      <th>2018-10-18</th>\n",
       "      <td>12.38</td>\n",
       "      <td>81520200.0</td>\n",
       "      <td>0.699676</td>\n",
       "      <td>13.779352</td>\n",
       "      <td>10.980648</td>\n",
       "      <td>2.03</td>\n",
       "      <td>12.19</td>\n",
       "      <td>0.250659</td>\n",
       "      <td>13.11</td>\n",
       "    </tr>\n",
       "    <tr>\n",
       "      <th>2018-10-19</th>\n",
       "      <td>12.56</td>\n",
       "      <td>86762800.0</td>\n",
       "      <td>0.700680</td>\n",
       "      <td>13.961360</td>\n",
       "      <td>11.158640</td>\n",
       "      <td>2.03</td>\n",
       "      <td>12.38</td>\n",
       "      <td>0.117771</td>\n",
       "      <td>13.15</td>\n",
       "    </tr>\n",
       "  </tbody>\n",
       "</table>\n",
       "</div>"
      ],
      "text/plain": [
       "            Close      Volume       std      upper      lower  Rates    lag  \\\n",
       "Date                                                                          \n",
       "2018-10-15  12.15  62640200.0  0.709739  13.569478  10.730522   2.03  12.32   \n",
       "2018-10-16  12.10  86485800.0  0.709427  13.518855  10.681145   2.03  12.15   \n",
       "2018-10-17  12.19  83433100.0  0.700259  13.590519  10.789481   2.03  12.10   \n",
       "2018-10-18  12.38  81520200.0  0.699676  13.779352  10.980648   2.03  12.19   \n",
       "2018-10-19  12.56  86762800.0  0.700680  13.961360  11.158640   2.03  12.38   \n",
       "\n",
       "               std_1  lag_2  \n",
       "Date                         \n",
       "2018-10-15  0.558507  13.12  \n",
       "2018-10-16  0.602520  12.99  \n",
       "2018-10-17  0.492626  13.12  \n",
       "2018-10-18  0.250659  13.11  \n",
       "2018-10-19  0.117771  13.15  "
      ]
     },
     "execution_count": 252,
     "metadata": {},
     "output_type": "execute_result"
    }
   ],
   "source": [
    "test_df.tail()"
   ]
  },
  {
   "cell_type": "markdown",
   "metadata": {},
   "source": [
    "To see this visually, we can make a line plot of the train and test data"
   ]
  },
  {
   "cell_type": "code",
   "execution_count": 253,
   "metadata": {},
   "outputs": [],
   "source": [
    "import matplotlib.pyplot as plt # the following graphs train test split"
   ]
  },
  {
   "cell_type": "code",
   "execution_count": 254,
   "metadata": {},
   "outputs": [
    {
     "name": "stderr",
     "output_type": "stream",
     "text": [
      "/anaconda3/lib/python3.6/site-packages/pandas/core/frame.py:3778: SettingWithCopyWarning: \n",
      "A value is trying to be set on a copy of a slice from a DataFrame\n",
      "\n",
      "See the caveats in the documentation: http://pandas.pydata.org/pandas-docs/stable/indexing.html#indexing-view-versus-copy\n",
      "  return super(DataFrame, self).rename(**kwargs)\n"
     ]
    }
   ],
   "source": [
    "graph_df_train = train_df\n",
    "maper = {'Close':'Train'}\n",
    "graph_df_train.rename(maper, axis = 1, inplace=True)"
   ]
  },
  {
   "cell_type": "code",
   "execution_count": 255,
   "metadata": {},
   "outputs": [
    {
     "name": "stderr",
     "output_type": "stream",
     "text": [
      "/anaconda3/lib/python3.6/site-packages/pandas/core/frame.py:3778: SettingWithCopyWarning: \n",
      "A value is trying to be set on a copy of a slice from a DataFrame\n",
      "\n",
      "See the caveats in the documentation: http://pandas.pydata.org/pandas-docs/stable/indexing.html#indexing-view-versus-copy\n",
      "  return super(DataFrame, self).rename(**kwargs)\n"
     ]
    }
   ],
   "source": [
    "graph_df_test = test_df\n",
    "maper = {'Close':'Test'}\n",
    "graph_df_test.rename(maper, axis = 1, inplace=True)"
   ]
  },
  {
   "cell_type": "code",
   "execution_count": 256,
   "metadata": {
    "scrolled": true
   },
   "outputs": [
    {
     "data": {
      "image/png": "[encoded data removed]",
      "text/plain": [
       "<Figure size 432x288 with 1 Axes>"
      ]
     },
     "metadata": {},
     "output_type": "display_data"
    }
   ],
   "source": [
    "plt.plot(graph_df_train['Train'])\n",
    "plt.plot(graph_df_test['Test'])\n",
    "plt.legend();"
   ]
  },
  {
   "cell_type": "markdown",
   "metadata": {},
   "source": [
    "As you can see, 2014 is a year where the pattern of a downward trend may begin again. Lets build a model to find out. "
   ]
  },
  {
   "cell_type": "code",
   "execution_count": 257,
   "metadata": {},
   "outputs": [
    {
     "data": {
      "text/html": [
       "<div>\n",
       "<style scoped>\n",
       "    .dataframe tbody tr th:only-of-type {\n",
       "        vertical-align: middle;\n",
       "    }\n",
       "\n",
       "    .dataframe tbody tr th {\n",
       "        vertical-align: top;\n",
       "    }\n",
       "\n",
       "    .dataframe thead th {\n",
       "        text-align: right;\n",
       "    }\n",
       "</style>\n",
       "<table border=\"1\" class=\"dataframe\">\n",
       "  <thead>\n",
       "    <tr style=\"text-align: right;\">\n",
       "      <th></th>\n",
       "      <th>Close</th>\n",
       "      <th>Volume</th>\n",
       "      <th>std</th>\n",
       "      <th>upper</th>\n",
       "      <th>lower</th>\n",
       "      <th>Rates</th>\n",
       "      <th>lag</th>\n",
       "      <th>std_1</th>\n",
       "      <th>lag_2</th>\n",
       "    </tr>\n",
       "    <tr>\n",
       "      <th>Date</th>\n",
       "      <th></th>\n",
       "      <th></th>\n",
       "      <th></th>\n",
       "      <th></th>\n",
       "      <th></th>\n",
       "      <th></th>\n",
       "      <th></th>\n",
       "      <th></th>\n",
       "      <th></th>\n",
       "    </tr>\n",
       "  </thead>\n",
       "  <tbody>\n",
       "    <tr>\n",
       "      <th>1991-02-14</th>\n",
       "      <td>5.614583</td>\n",
       "      <td>33702000.0</td>\n",
       "      <td>0.030586</td>\n",
       "      <td>5.675755</td>\n",
       "      <td>5.553411</td>\n",
       "      <td>5.94</td>\n",
       "      <td>5.656250</td>\n",
       "      <td>0.102221</td>\n",
       "      <td>4.614583</td>\n",
       "    </tr>\n",
       "    <tr>\n",
       "      <th>1991-02-15</th>\n",
       "      <td>5.802083</td>\n",
       "      <td>38295600.0</td>\n",
       "      <td>0.031422</td>\n",
       "      <td>5.864927</td>\n",
       "      <td>5.739239</td>\n",
       "      <td>5.94</td>\n",
       "      <td>5.614583</td>\n",
       "      <td>0.082219</td>\n",
       "      <td>4.437500</td>\n",
       "    </tr>\n",
       "    <tr>\n",
       "      <th>1991-02-19</th>\n",
       "      <td>5.802083</td>\n",
       "      <td>24819600.0</td>\n",
       "      <td>0.031188</td>\n",
       "      <td>5.864459</td>\n",
       "      <td>5.739707</td>\n",
       "      <td>5.94</td>\n",
       "      <td>5.802083</td>\n",
       "      <td>0.098986</td>\n",
       "      <td>4.479167</td>\n",
       "    </tr>\n",
       "    <tr>\n",
       "      <th>1991-02-20</th>\n",
       "      <td>5.697917</td>\n",
       "      <td>19006800.0</td>\n",
       "      <td>0.028890</td>\n",
       "      <td>5.755697</td>\n",
       "      <td>5.640137</td>\n",
       "      <td>5.94</td>\n",
       "      <td>5.802083</td>\n",
       "      <td>0.109746</td>\n",
       "      <td>4.468750</td>\n",
       "    </tr>\n",
       "    <tr>\n",
       "      <th>1991-02-21</th>\n",
       "      <td>5.677083</td>\n",
       "      <td>14624400.0</td>\n",
       "      <td>0.026072</td>\n",
       "      <td>5.729227</td>\n",
       "      <td>5.624939</td>\n",
       "      <td>5.94</td>\n",
       "      <td>5.697917</td>\n",
       "      <td>0.085137</td>\n",
       "      <td>4.447917</td>\n",
       "    </tr>\n",
       "  </tbody>\n",
       "</table>\n",
       "</div>"
      ],
      "text/plain": [
       "               Close      Volume       std     upper     lower  Rates  \\\n",
       "Date                                                                    \n",
       "1991-02-14  5.614583  33702000.0  0.030586  5.675755  5.553411   5.94   \n",
       "1991-02-15  5.802083  38295600.0  0.031422  5.864927  5.739239   5.94   \n",
       "1991-02-19  5.802083  24819600.0  0.031188  5.864459  5.739707   5.94   \n",
       "1991-02-20  5.697917  19006800.0  0.028890  5.755697  5.640137   5.94   \n",
       "1991-02-21  5.677083  14624400.0  0.026072  5.729227  5.624939   5.94   \n",
       "\n",
       "                 lag     std_1     lag_2  \n",
       "Date                                      \n",
       "1991-02-14  5.656250  0.102221  4.614583  \n",
       "1991-02-15  5.614583  0.082219  4.437500  \n",
       "1991-02-19  5.802083  0.098986  4.479167  \n",
       "1991-02-20  5.802083  0.109746  4.468750  \n",
       "1991-02-21  5.697917  0.085137  4.447917  "
      ]
     },
     "execution_count": 257,
     "metadata": {},
     "output_type": "execute_result"
    }
   ],
   "source": [
    "df.head()"
   ]
  },
  {
   "cell_type": "code",
   "execution_count": 258,
   "metadata": {},
   "outputs": [],
   "source": [
    "train_df = df[:'2014']\n",
    "test_df = df['2015':]"
   ]
  },
  {
   "cell_type": "code",
   "execution_count": 259,
   "metadata": {},
   "outputs": [
    {
     "data": {
      "text/html": [
       "<div>\n",
       "<style scoped>\n",
       "    .dataframe tbody tr th:only-of-type {\n",
       "        vertical-align: middle;\n",
       "    }\n",
       "\n",
       "    .dataframe tbody tr th {\n",
       "        vertical-align: top;\n",
       "    }\n",
       "\n",
       "    .dataframe thead th {\n",
       "        text-align: right;\n",
       "    }\n",
       "</style>\n",
       "<table border=\"1\" class=\"dataframe\">\n",
       "  <thead>\n",
       "    <tr style=\"text-align: right;\">\n",
       "      <th></th>\n",
       "      <th>Close</th>\n",
       "      <th>Volume</th>\n",
       "      <th>std</th>\n",
       "      <th>upper</th>\n",
       "      <th>lower</th>\n",
       "      <th>Rates</th>\n",
       "      <th>lag</th>\n",
       "      <th>std_1</th>\n",
       "      <th>lag_2</th>\n",
       "    </tr>\n",
       "    <tr>\n",
       "      <th>Date</th>\n",
       "      <th></th>\n",
       "      <th></th>\n",
       "      <th></th>\n",
       "      <th></th>\n",
       "      <th></th>\n",
       "      <th></th>\n",
       "      <th></th>\n",
       "      <th></th>\n",
       "      <th></th>\n",
       "    </tr>\n",
       "  </thead>\n",
       "  <tbody>\n",
       "    <tr>\n",
       "      <th>2014-12-24</th>\n",
       "      <td>25.830000</td>\n",
       "      <td>17865100.0</td>\n",
       "      <td>0.564560</td>\n",
       "      <td>26.959120</td>\n",
       "      <td>24.700880</td>\n",
       "      <td>0.03</td>\n",
       "      <td>25.879999</td>\n",
       "      <td>0.497514</td>\n",
       "      <td>25.620001</td>\n",
       "    </tr>\n",
       "    <tr>\n",
       "      <th>2014-12-26</th>\n",
       "      <td>25.780001</td>\n",
       "      <td>14978500.0</td>\n",
       "      <td>0.517207</td>\n",
       "      <td>26.814415</td>\n",
       "      <td>24.745587</td>\n",
       "      <td>0.03</td>\n",
       "      <td>25.830000</td>\n",
       "      <td>0.295347</td>\n",
       "      <td>25.160000</td>\n",
       "    </tr>\n",
       "    <tr>\n",
       "      <th>2014-12-29</th>\n",
       "      <td>25.700001</td>\n",
       "      <td>20858200.0</td>\n",
       "      <td>0.492689</td>\n",
       "      <td>26.685378</td>\n",
       "      <td>24.714624</td>\n",
       "      <td>0.03</td>\n",
       "      <td>25.780001</td>\n",
       "      <td>0.102127</td>\n",
       "      <td>25.120001</td>\n",
       "    </tr>\n",
       "    <tr>\n",
       "      <th>2014-12-30</th>\n",
       "      <td>25.570000</td>\n",
       "      <td>22184500.0</td>\n",
       "      <td>0.487743</td>\n",
       "      <td>26.545487</td>\n",
       "      <td>24.594513</td>\n",
       "      <td>0.03</td>\n",
       "      <td>25.700001</td>\n",
       "      <td>0.077136</td>\n",
       "      <td>25.400000</td>\n",
       "    </tr>\n",
       "    <tr>\n",
       "      <th>2014-12-31</th>\n",
       "      <td>25.270000</td>\n",
       "      <td>28206500.0</td>\n",
       "      <td>0.479912</td>\n",
       "      <td>26.229824</td>\n",
       "      <td>24.310176</td>\n",
       "      <td>0.03</td>\n",
       "      <td>25.570000</td>\n",
       "      <td>0.121532</td>\n",
       "      <td>25.219999</td>\n",
       "    </tr>\n",
       "  </tbody>\n",
       "</table>\n",
       "</div>"
      ],
      "text/plain": [
       "                Close      Volume       std      upper      lower  Rates  \\\n",
       "Date                                                                       \n",
       "2014-12-24  25.830000  17865100.0  0.564560  26.959120  24.700880   0.03   \n",
       "2014-12-26  25.780001  14978500.0  0.517207  26.814415  24.745587   0.03   \n",
       "2014-12-29  25.700001  20858200.0  0.492689  26.685378  24.714624   0.03   \n",
       "2014-12-30  25.570000  22184500.0  0.487743  26.545487  24.594513   0.03   \n",
       "2014-12-31  25.270000  28206500.0  0.479912  26.229824  24.310176   0.03   \n",
       "\n",
       "                  lag     std_1      lag_2  \n",
       "Date                                        \n",
       "2014-12-24  25.879999  0.497514  25.620001  \n",
       "2014-12-26  25.830000  0.295347  25.160000  \n",
       "2014-12-29  25.780001  0.102127  25.120001  \n",
       "2014-12-30  25.700001  0.077136  25.400000  \n",
       "2014-12-31  25.570000  0.121532  25.219999  "
      ]
     },
     "execution_count": 259,
     "metadata": {},
     "output_type": "execute_result"
    }
   ],
   "source": [
    "train_df.tail()"
   ]
  },
  {
   "cell_type": "code",
   "execution_count": 260,
   "metadata": {},
   "outputs": [
    {
     "data": {
      "text/html": [
       "<div>\n",
       "<style scoped>\n",
       "    .dataframe tbody tr th:only-of-type {\n",
       "        vertical-align: middle;\n",
       "    }\n",
       "\n",
       "    .dataframe tbody tr th {\n",
       "        vertical-align: top;\n",
       "    }\n",
       "\n",
       "    .dataframe thead th {\n",
       "        text-align: right;\n",
       "    }\n",
       "</style>\n",
       "<table border=\"1\" class=\"dataframe\">\n",
       "  <thead>\n",
       "    <tr style=\"text-align: right;\">\n",
       "      <th></th>\n",
       "      <th>Close</th>\n",
       "      <th>Volume</th>\n",
       "      <th>std</th>\n",
       "      <th>upper</th>\n",
       "      <th>lower</th>\n",
       "      <th>Rates</th>\n",
       "      <th>lag</th>\n",
       "      <th>std_1</th>\n",
       "      <th>lag_2</th>\n",
       "    </tr>\n",
       "    <tr>\n",
       "      <th>Date</th>\n",
       "      <th></th>\n",
       "      <th></th>\n",
       "      <th></th>\n",
       "      <th></th>\n",
       "      <th></th>\n",
       "      <th></th>\n",
       "      <th></th>\n",
       "      <th></th>\n",
       "      <th></th>\n",
       "    </tr>\n",
       "  </thead>\n",
       "  <tbody>\n",
       "    <tr>\n",
       "      <th>2015-01-02</th>\n",
       "      <td>25.059999</td>\n",
       "      <td>40920800.0</td>\n",
       "      <td>0.454663</td>\n",
       "      <td>25.969326</td>\n",
       "      <td>24.150672</td>\n",
       "      <td>0.03</td>\n",
       "      <td>25.270000</td>\n",
       "      <td>0.223942</td>\n",
       "      <td>24.809999</td>\n",
       "    </tr>\n",
       "    <tr>\n",
       "      <th>2015-01-05</th>\n",
       "      <td>24.600000</td>\n",
       "      <td>42033200.0</td>\n",
       "      <td>0.458973</td>\n",
       "      <td>25.517946</td>\n",
       "      <td>23.682054</td>\n",
       "      <td>0.03</td>\n",
       "      <td>25.059999</td>\n",
       "      <td>0.302870</td>\n",
       "      <td>25.250000</td>\n",
       "    </tr>\n",
       "    <tr>\n",
       "      <th>2015-01-06</th>\n",
       "      <td>24.070000</td>\n",
       "      <td>63760000.0</td>\n",
       "      <td>0.497231</td>\n",
       "      <td>25.064461</td>\n",
       "      <td>23.075539</td>\n",
       "      <td>0.03</td>\n",
       "      <td>24.600000</td>\n",
       "      <td>0.436864</td>\n",
       "      <td>24.780001</td>\n",
       "    </tr>\n",
       "    <tr>\n",
       "      <th>2015-01-07</th>\n",
       "      <td>24.080000</td>\n",
       "      <td>43642500.0</td>\n",
       "      <td>0.533998</td>\n",
       "      <td>25.147996</td>\n",
       "      <td>23.012004</td>\n",
       "      <td>0.03</td>\n",
       "      <td>24.070000</td>\n",
       "      <td>0.589347</td>\n",
       "      <td>24.270000</td>\n",
       "    </tr>\n",
       "    <tr>\n",
       "      <th>2015-01-08</th>\n",
       "      <td>24.370001</td>\n",
       "      <td>43224400.0</td>\n",
       "      <td>0.548181</td>\n",
       "      <td>25.466362</td>\n",
       "      <td>23.273640</td>\n",
       "      <td>0.03</td>\n",
       "      <td>24.080000</td>\n",
       "      <td>0.550118</td>\n",
       "      <td>23.950001</td>\n",
       "    </tr>\n",
       "  </tbody>\n",
       "</table>\n",
       "</div>"
      ],
      "text/plain": [
       "                Close      Volume       std      upper      lower  Rates  \\\n",
       "Date                                                                       \n",
       "2015-01-02  25.059999  40920800.0  0.454663  25.969326  24.150672   0.03   \n",
       "2015-01-05  24.600000  42033200.0  0.458973  25.517946  23.682054   0.03   \n",
       "2015-01-06  24.070000  63760000.0  0.497231  25.064461  23.075539   0.03   \n",
       "2015-01-07  24.080000  43642500.0  0.533998  25.147996  23.012004   0.03   \n",
       "2015-01-08  24.370001  43224400.0  0.548181  25.466362  23.273640   0.03   \n",
       "\n",
       "                  lag     std_1      lag_2  \n",
       "Date                                        \n",
       "2015-01-02  25.270000  0.223942  24.809999  \n",
       "2015-01-05  25.059999  0.302870  25.250000  \n",
       "2015-01-06  24.600000  0.436864  24.780001  \n",
       "2015-01-07  24.070000  0.589347  24.270000  \n",
       "2015-01-08  24.080000  0.550118  23.950001  "
      ]
     },
     "execution_count": 260,
     "metadata": {},
     "output_type": "execute_result"
    }
   ],
   "source": [
    "test_df.head()"
   ]
  },
  {
   "cell_type": "markdown",
   "metadata": {},
   "source": [
    "Scale Data"
   ]
  },
  {
   "cell_type": "code",
   "execution_count": 261,
   "metadata": {},
   "outputs": [],
   "source": [
    "from sklearn.preprocessing import MinMaxScaler"
   ]
  },
  {
   "cell_type": "code",
   "execution_count": 262,
   "metadata": {},
   "outputs": [],
   "source": [
    "scaler = MinMaxScaler()"
   ]
  },
  {
   "cell_type": "code",
   "execution_count": 263,
   "metadata": {},
   "outputs": [],
   "source": [
    "X_train = train_df[['Rates', 'lag', 'std_1', 'lag_2']].values\n",
    "X_test = test_df[['Rates', 'lag', 'std_1', 'lag_2']].values"
   ]
  },
  {
   "cell_type": "code",
   "execution_count": 264,
   "metadata": {},
   "outputs": [
    {
     "data": {
      "text/plain": [
       "array([[ 5.94      ,  5.65625   ,  0.10222142,  4.614583  ],\n",
       "       [ 5.94      ,  5.614583  ,  0.08221907,  4.4375    ],\n",
       "       [ 5.94      ,  5.802083  ,  0.09898563,  4.479167  ],\n",
       "       ...,\n",
       "       [ 0.03      , 25.780001  ,  0.10212691, 25.120001  ],\n",
       "       [ 0.03      , 25.700001  ,  0.07713589, 25.4       ],\n",
       "       [ 0.03      , 25.57      ,  0.12153158, 25.219999  ]])"
      ]
     },
     "execution_count": 264,
     "metadata": {},
     "output_type": "execute_result"
    }
   ],
   "source": [
    "X_train"
   ]
  },
  {
   "cell_type": "code",
   "execution_count": 265,
   "metadata": {},
   "outputs": [],
   "source": [
    "train_df_sc = scaler.fit_transform(X_train) #scaling the data to put through my nerual network\n",
    "test_df_sc = scaler.transform(X_test)"
   ]
  },
  {
   "cell_type": "code",
   "execution_count": 266,
   "metadata": {},
   "outputs": [
    {
     "name": "stdout",
     "output_type": "stream",
     "text": [
      "(6017, 4)\n",
      "(958, 4)\n"
     ]
    }
   ],
   "source": [
    "print(train_df_sc.shape)\n",
    "print(test_df_sc.shape)"
   ]
  },
  {
   "cell_type": "code",
   "execution_count": 267,
   "metadata": {},
   "outputs": [
    {
     "data": {
      "text/plain": [
       "array([[9.62662338e-01, 8.36342297e-03, 3.04438476e-02, 4.12060988e-03],\n",
       "       [9.62662338e-01, 7.60310516e-03, 2.44866945e-02, 9.36498975e-04],\n",
       "       [9.62662338e-01, 1.10245080e-02, 2.94801550e-02, 1.68570894e-03],\n",
       "       ...,\n",
       "       [3.24675325e-03, 3.75571199e-01, 3.04156992e-02, 3.72826386e-01],\n",
       "       [3.24675325e-03, 3.74111400e-01, 2.29728091e-02, 3.77861019e-01],\n",
       "       [3.24675325e-03, 3.71739209e-01, 3.61948481e-02, 3.74624440e-01]])"
      ]
     },
     "execution_count": 267,
     "metadata": {},
     "output_type": "execute_result"
    }
   ],
   "source": [
    "train_df_sc"
   ]
  },
  {
   "cell_type": "code",
   "execution_count": 268,
   "metadata": {},
   "outputs": [],
   "source": [
    "from sklearn.svm import SVR"
   ]
  },
  {
   "cell_type": "code",
   "execution_count": 269,
   "metadata": {},
   "outputs": [],
   "source": [
    "svr = SVR()"
   ]
  },
  {
   "cell_type": "code",
   "execution_count": 270,
   "metadata": {},
   "outputs": [],
   "source": [
    "y_train = train_df['Close'].values.reshape(-1,1)"
   ]
  },
  {
   "cell_type": "code",
   "execution_count": 271,
   "metadata": {},
   "outputs": [
    {
     "data": {
      "text/plain": [
       "6017"
      ]
     },
     "execution_count": 271,
     "metadata": {},
     "output_type": "execute_result"
    }
   ],
   "source": [
    "len(X_train)"
   ]
  },
  {
   "cell_type": "code",
   "execution_count": 272,
   "metadata": {},
   "outputs": [
    {
     "data": {
      "text/plain": [
       "6017"
      ]
     },
     "execution_count": 272,
     "metadata": {},
     "output_type": "execute_result"
    }
   ],
   "source": [
    "len(y_train)"
   ]
  },
  {
   "cell_type": "code",
   "execution_count": 273,
   "metadata": {},
   "outputs": [
    {
     "name": "stderr",
     "output_type": "stream",
     "text": [
      "/anaconda3/lib/python3.6/site-packages/sklearn/utils/validation.py:578: DataConversionWarning: A column-vector y was passed when a 1d array was expected. Please change the shape of y to (n_samples, ), for example using ravel().\n",
      "  y = column_or_1d(y, warn=True)\n"
     ]
    },
    {
     "data": {
      "text/plain": [
       "SVR(C=1.0, cache_size=200, coef0=0.0, degree=3, epsilon=0.1, gamma='auto',\n",
       "  kernel='rbf', max_iter=-1, shrinking=True, tol=0.001, verbose=False)"
      ]
     },
     "execution_count": 273,
     "metadata": {},
     "output_type": "execute_result"
    }
   ],
   "source": [
    "svr.fit(X_train, y_train)"
   ]
  },
  {
   "cell_type": "code",
   "execution_count": 274,
   "metadata": {},
   "outputs": [],
   "source": [
    "y_pred = svr.predict(X_test) #testing the svr function to see what happens"
   ]
  },
  {
   "cell_type": "code",
   "execution_count": 275,
   "metadata": {},
   "outputs": [
    {
     "data": {
      "text/plain": [
       "958"
      ]
     },
     "execution_count": 275,
     "metadata": {},
     "output_type": "execute_result"
    }
   ],
   "source": [
    "len(y_pred)"
   ]
  },
  {
   "cell_type": "code",
   "execution_count": 276,
   "metadata": {},
   "outputs": [
    {
     "data": {
      "text/plain": [
       "[<matplotlib.lines.Line2D at 0x1a2cdc2198>]"
      ]
     },
     "execution_count": 276,
     "metadata": {},
     "output_type": "execute_result"
    },
    {
     "data": {
      "image/png": "[encoded data removed]",
      "text/plain": [
       "<Figure size 432x288 with 1 Axes>"
      ]
     },
     "metadata": {},
     "output_type": "display_data"
    }
   ],
   "source": [
    "\n",
    "plt.plot(y_pred)"
   ]
  },
  {
   "cell_type": "code",
   "execution_count": 277,
   "metadata": {},
   "outputs": [],
   "source": [
    "y_test = test_df['Close'].values"
   ]
  },
  {
   "cell_type": "code",
   "execution_count": 278,
   "metadata": {},
   "outputs": [
    {
     "data": {
      "text/plain": [
       "[<matplotlib.lines.Line2D at 0x1a2cc9fd30>]"
      ]
     },
     "execution_count": 278,
     "metadata": {},
     "output_type": "execute_result"
    },
    {
     "data": {
      "image/png": "[encoded data removed]",
      "text/plain": [
       "<Figure size 432x288 with 1 Axes>"
      ]
     },
     "metadata": {},
     "output_type": "display_data"
    }
   ],
   "source": [
    "plt.plot(test_df['Close'])"
   ]
  },
  {
   "cell_type": "code",
   "execution_count": 279,
   "metadata": {},
   "outputs": [],
   "source": [
    "from sklearn.metrics import r2_score"
   ]
  },
  {
   "cell_type": "code",
   "execution_count": 280,
   "metadata": {},
   "outputs": [
    {
     "data": {
      "text/plain": [
       "-0.7023400369104786"
      ]
     },
     "execution_count": 280,
     "metadata": {},
     "output_type": "execute_result"
    }
   ],
   "source": [
    "r2_score(y_pred, test_df['Close'])"
   ]
  },
  {
   "cell_type": "code",
   "execution_count": 281,
   "metadata": {},
   "outputs": [],
   "source": [
    "from keras.models import Sequential #imports for NN\n",
    "from keras.layers import Dense, LSTM\n",
    "from keras.optimizers import Adam"
   ]
  },
  {
   "cell_type": "code",
   "execution_count": 282,
   "metadata": {},
   "outputs": [],
   "source": [
    "from keras import backend as K\n",
    "K.reset_uids()\n",
    "K.clear_session()"
   ]
  },
  {
   "cell_type": "code",
   "execution_count": 283,
   "metadata": {},
   "outputs": [
    {
     "data": {
      "text/plain": [
       "(6017, 4)"
      ]
     },
     "execution_count": 283,
     "metadata": {},
     "output_type": "execute_result"
    }
   ],
   "source": [
    "X_train.shape"
   ]
  },
  {
   "cell_type": "code",
   "execution_count": 284,
   "metadata": {},
   "outputs": [
    {
     "name": "stdout",
     "output_type": "stream",
     "text": [
      "Train on 6017 samples, validate on 958 samples\n",
      "Epoch 1/100\n",
      "6017/6017 [==============================] - 3s 502us/step - loss: 116.4073 - val_loss: 0.2519\n",
      "Epoch 2/100\n",
      "6017/6017 [==============================] - 1s 248us/step - loss: 0.4341 - val_loss: 0.1314\n",
      "Epoch 3/100\n",
      "6017/6017 [==============================] - 2s 258us/step - loss: 0.3419 - val_loss: 0.1310\n",
      "Epoch 4/100\n",
      "6017/6017 [==============================] - 2s 294us/step - loss: 0.3145 - val_loss: 0.1254\n",
      "Epoch 5/100\n",
      "6017/6017 [==============================] - 2s 251us/step - loss: 0.2973 - val_loss: 0.1831\n",
      "Epoch 6/100\n",
      "6017/6017 [==============================] - 2s 249us/step - loss: 0.3048 - val_loss: 0.1091\n",
      "Epoch 7/100\n",
      "6017/6017 [==============================] - 1s 240us/step - loss: 0.2851 - val_loss: 0.1423\n",
      "Epoch 8/100\n",
      "6017/6017 [==============================] - 1s 249us/step - loss: 0.2926 - val_loss: 0.1163\n",
      "Epoch 9/100\n",
      "6017/6017 [==============================] - 1s 243us/step - loss: 0.2958 - val_loss: 0.1111\n",
      "Epoch 10/100\n",
      "6017/6017 [==============================] - 1s 242us/step - loss: 0.2913 - val_loss: 0.1542\n",
      "Epoch 11/100\n",
      "6017/6017 [==============================] - 1s 241us/step - loss: 0.3022 - val_loss: 0.1084\n",
      "Epoch 12/100\n",
      "6017/6017 [==============================] - 1s 244us/step - loss: 0.2916 - val_loss: 0.1675\n",
      "Epoch 13/100\n",
      "6017/6017 [==============================] - 1s 246us/step - loss: 0.3083 - val_loss: 0.1802\n",
      "Epoch 14/100\n",
      "6017/6017 [==============================] - 1s 246us/step - loss: 0.3370 - val_loss: 0.1210\n",
      "Epoch 15/100\n",
      "6017/6017 [==============================] - 1s 249us/step - loss: 0.3135 - val_loss: 0.1816\n",
      "Epoch 16/100\n",
      "6017/6017 [==============================] - 1s 246us/step - loss: 0.3514 - val_loss: 0.1090\n",
      "Epoch 17/100\n",
      "6017/6017 [==============================] - 2s 313us/step - loss: 0.3201 - val_loss: 0.1444\n",
      "Epoch 18/100\n",
      "6017/6017 [==============================] - 2s 275us/step - loss: 0.2943 - val_loss: 0.1099\n",
      "Epoch 19/100\n",
      "6017/6017 [==============================] - 1s 249us/step - loss: 0.2994 - val_loss: 0.2024\n",
      "Epoch 20/100\n",
      "6017/6017 [==============================] - 2s 250us/step - loss: 0.3377 - val_loss: 0.9477\n",
      "Epoch 21/100\n",
      "6017/6017 [==============================] - 1s 244us/step - loss: 0.3359 - val_loss: 0.1761\n",
      "Epoch 22/100\n",
      "6017/6017 [==============================] - 2s 252us/step - loss: 0.3067 - val_loss: 0.1177\n",
      "Epoch 23/100\n",
      "6017/6017 [==============================] - 2s 259us/step - loss: 0.3135 - val_loss: 0.1387\n",
      "Epoch 24/100\n",
      "6017/6017 [==============================] - 1s 239us/step - loss: 0.3263 - val_loss: 0.1134\n",
      "Epoch 25/100\n",
      "6017/6017 [==============================] - 2s 282us/step - loss: 0.2986 - val_loss: 0.1855\n",
      "Epoch 26/100\n",
      "6017/6017 [==============================] - 2s 284us/step - loss: 0.3081 - val_loss: 0.3395\n",
      "Epoch 27/100\n",
      "6017/6017 [==============================] - 1s 242us/step - loss: 0.2989 - val_loss: 0.1112\n",
      "Epoch 28/100\n",
      "6017/6017 [==============================] - 2s 251us/step - loss: 0.3032 - val_loss: 0.1141\n",
      "Epoch 29/100\n",
      "6017/6017 [==============================] - 2s 273us/step - loss: 0.3120 - val_loss: 0.8003\n",
      "Epoch 30/100\n",
      "6017/6017 [==============================] - 2s 251us/step - loss: 0.2990 - val_loss: 0.1378\n",
      "Epoch 31/100\n",
      "6017/6017 [==============================] - 1s 245us/step - loss: 0.3032 - val_loss: 0.1166\n",
      "Epoch 32/100\n",
      "6017/6017 [==============================] - 1s 245us/step - loss: 0.2965 - val_loss: 0.1075\n",
      "Epoch 33/100\n",
      "6017/6017 [==============================] - 1s 245us/step - loss: 0.3129 - val_loss: 0.1228\n",
      "Epoch 34/100\n",
      "6017/6017 [==============================] - 2s 266us/step - loss: 0.3144 - val_loss: 0.2595\n",
      "Epoch 35/100\n",
      "6017/6017 [==============================] - 2s 271us/step - loss: 0.3068 - val_loss: 0.1145\n",
      "Epoch 36/100\n",
      "6017/6017 [==============================] - 2s 251us/step - loss: 0.2985 - val_loss: 0.1063\n",
      "Epoch 37/100\n",
      "6017/6017 [==============================] - 1s 241us/step - loss: 0.3143 - val_loss: 0.1159\n",
      "Epoch 38/100\n",
      "6017/6017 [==============================] - 1s 245us/step - loss: 0.2913 - val_loss: 0.1140\n",
      "Epoch 39/100\n",
      "6017/6017 [==============================] - 1s 249us/step - loss: 0.2997 - val_loss: 0.1756\n",
      "Epoch 40/100\n",
      "6017/6017 [==============================] - 1s 244us/step - loss: 0.3105 - val_loss: 0.1195\n",
      "Epoch 41/100\n",
      "6017/6017 [==============================] - 1s 246us/step - loss: 0.3270 - val_loss: 0.1243\n",
      "Epoch 42/100\n",
      "6017/6017 [==============================] - 2s 253us/step - loss: 0.3078 - val_loss: 0.1100\n",
      "Epoch 43/100\n",
      "6017/6017 [==============================] - 1s 247us/step - loss: 0.3048 - val_loss: 0.1425\n",
      "Epoch 44/100\n",
      "6017/6017 [==============================] - 2s 252us/step - loss: 0.2861 - val_loss: 0.1144\n",
      "Epoch 45/100\n",
      "6017/6017 [==============================] - 1s 248us/step - loss: 0.2917 - val_loss: 0.1221\n",
      "Epoch 46/100\n",
      "6017/6017 [==============================] - 2s 251us/step - loss: 0.3254 - val_loss: 0.1292\n",
      "Epoch 47/100\n",
      "6017/6017 [==============================] - 1s 245us/step - loss: 0.2892 - val_loss: 0.7108\n",
      "Epoch 48/100\n",
      "6017/6017 [==============================] - 2s 261us/step - loss: 0.3034 - val_loss: 0.1147\n",
      "Epoch 49/100\n",
      "6017/6017 [==============================] - 2s 273us/step - loss: 0.2931 - val_loss: 0.3326\n",
      "Epoch 50/100\n",
      "6017/6017 [==============================] - 2s 257us/step - loss: 0.3113 - val_loss: 0.1877\n",
      "Epoch 51/100\n",
      "6017/6017 [==============================] - 1s 241us/step - loss: 0.2937 - val_loss: 0.1251\n",
      "Epoch 52/100\n",
      "6017/6017 [==============================] - 2s 261us/step - loss: 0.2999 - val_loss: 0.1132\n",
      "Epoch 53/100\n",
      "6017/6017 [==============================] - 2s 250us/step - loss: 0.2920 - val_loss: 0.3244\n",
      "Epoch 54/100\n",
      "6017/6017 [==============================] - 1s 245us/step - loss: 0.3136 - val_loss: 0.2398\n",
      "Epoch 55/100\n",
      "6017/6017 [==============================] - 2s 330us/step - loss: 0.2987 - val_loss: 0.1330\n",
      "Epoch 56/100\n",
      "6017/6017 [==============================] - 2s 286us/step - loss: 0.3061 - val_loss: 0.1152\n",
      "Epoch 57/100\n",
      "6017/6017 [==============================] - 2s 279us/step - loss: 0.3027 - val_loss: 0.1065\n",
      "Epoch 58/100\n",
      "6017/6017 [==============================] - 2s 264us/step - loss: 0.3088 - val_loss: 0.1097\n",
      "Epoch 59/100\n",
      "6017/6017 [==============================] - 2s 291us/step - loss: 0.3013 - val_loss: 0.1490\n",
      "Epoch 60/100\n",
      "6017/6017 [==============================] - 2s 290us/step - loss: 0.2904 - val_loss: 0.1421\n",
      "Epoch 61/100\n",
      "6017/6017 [==============================] - 2s 267us/step - loss: 0.3015 - val_loss: 0.1111\n",
      "Epoch 62/100\n",
      "6017/6017 [==============================] - 2s 265us/step - loss: 0.2958 - val_loss: 0.1093\n",
      "Epoch 63/100\n",
      "6017/6017 [==============================] - 2s 270us/step - loss: 0.3184 - val_loss: 0.2086\n",
      "Epoch 64/100\n",
      "6017/6017 [==============================] - 2s 273us/step - loss: 0.2960 - val_loss: 0.2763\n",
      "Epoch 65/100\n",
      "6017/6017 [==============================] - 2s 259us/step - loss: 0.3021 - val_loss: 0.2068\n",
      "Epoch 66/100\n",
      "6017/6017 [==============================] - 2s 258us/step - loss: 0.2947 - val_loss: 0.1329\n",
      "Epoch 67/100\n",
      "6017/6017 [==============================] - 2s 253us/step - loss: 0.2930 - val_loss: 0.1602\n",
      "Epoch 68/100\n",
      "6017/6017 [==============================] - 2s 280us/step - loss: 0.2881 - val_loss: 0.2466\n",
      "Epoch 69/100\n",
      "6017/6017 [==============================] - 2s 277us/step - loss: 0.2900 - val_loss: 0.1384\n",
      "Epoch 70/100\n",
      "6017/6017 [==============================] - 2s 276us/step - loss: 0.2925 - val_loss: 0.1291\n",
      "Epoch 71/100\n",
      "6017/6017 [==============================] - 2s 253us/step - loss: 0.2924 - val_loss: 0.1175\n",
      "Epoch 72/100\n",
      "6017/6017 [==============================] - 2s 254us/step - loss: 0.2855 - val_loss: 0.1091\n",
      "Epoch 73/100\n",
      "6017/6017 [==============================] - 2s 291us/step - loss: 0.3037 - val_loss: 0.1153\n",
      "Epoch 74/100\n",
      "6017/6017 [==============================] - 2s 310us/step - loss: 0.2852 - val_loss: 0.3507\n",
      "Epoch 75/100\n",
      "6017/6017 [==============================] - 2s 250us/step - loss: 0.2862 - val_loss: 0.1567\n",
      "Epoch 76/100\n",
      "6017/6017 [==============================] - 2s 253us/step - loss: 0.2955 - val_loss: 0.1391\n",
      "Epoch 77/100\n",
      "6017/6017 [==============================] - 2s 274us/step - loss: 0.3051 - val_loss: 0.1683\n"
     ]
    },
    {
     "name": "stdout",
     "output_type": "stream",
     "text": [
      "Epoch 78/100\n",
      "6017/6017 [==============================] - 2s 262us/step - loss: 0.2977 - val_loss: 0.1331\n",
      "Epoch 79/100\n",
      "6017/6017 [==============================] - 2s 262us/step - loss: 0.2985 - val_loss: 0.1103\n",
      "Epoch 80/100\n",
      "6017/6017 [==============================] - 2s 262us/step - loss: 0.2988 - val_loss: 0.1118\n",
      "Epoch 81/100\n",
      "6017/6017 [==============================] - 1s 249us/step - loss: 0.2806 - val_loss: 0.1078\n",
      "Epoch 82/100\n",
      "6017/6017 [==============================] - 1s 243us/step - loss: 0.2897 - val_loss: 0.1276\n",
      "Epoch 83/100\n",
      "6017/6017 [==============================] - 1s 241us/step - loss: 0.2921 - val_loss: 0.1305\n",
      "Epoch 84/100\n",
      "6017/6017 [==============================] - 1s 238us/step - loss: 0.2903 - val_loss: 0.1087\n",
      "Epoch 85/100\n",
      "6017/6017 [==============================] - 2s 262us/step - loss: 0.2889 - val_loss: 0.1100\n",
      "Epoch 86/100\n",
      "6017/6017 [==============================] - 2s 257us/step - loss: 0.2874 - val_loss: 0.1123\n",
      "Epoch 87/100\n",
      "6017/6017 [==============================] - 1s 246us/step - loss: 0.2915 - val_loss: 0.4777\n",
      "Epoch 88/100\n",
      "6017/6017 [==============================] - 2s 254us/step - loss: 0.3134 - val_loss: 0.1472\n",
      "Epoch 89/100\n",
      "6017/6017 [==============================] - 2s 257us/step - loss: 0.3034 - val_loss: 0.1079\n",
      "Epoch 90/100\n",
      "6017/6017 [==============================] - 2s 260us/step - loss: 0.2916 - val_loss: 0.2835\n",
      "Epoch 91/100\n",
      "6017/6017 [==============================] - 2s 274us/step - loss: 0.3058 - val_loss: 0.1186\n",
      "Epoch 92/100\n",
      "6017/6017 [==============================] - 2s 259us/step - loss: 0.2792 - val_loss: 0.1395\n",
      "Epoch 93/100\n",
      "6017/6017 [==============================] - 1s 246us/step - loss: 0.2948 - val_loss: 0.1258\n",
      "Epoch 94/100\n",
      "6017/6017 [==============================] - 2s 256us/step - loss: 0.2860 - val_loss: 0.1668\n",
      "Epoch 95/100\n",
      "6017/6017 [==============================] - 2s 253us/step - loss: 0.3007 - val_loss: 0.1531\n",
      "Epoch 96/100\n",
      "6017/6017 [==============================] - 1s 242us/step - loss: 0.3086 - val_loss: 0.1130\n",
      "Epoch 97/100\n",
      "6017/6017 [==============================] - 1s 249us/step - loss: 0.2954 - val_loss: 0.1563\n",
      "Epoch 98/100\n",
      "6017/6017 [==============================] - 2s 275us/step - loss: 0.3093 - val_loss: 0.1093\n",
      "Epoch 99/100\n",
      "6017/6017 [==============================] - 2s 270us/step - loss: 0.2833 - val_loss: 0.1561\n",
      "Epoch 100/100\n",
      "6017/6017 [==============================] - 2s 269us/step - loss: 0.2901 - val_loss: 0.1124\n"
     ]
    }
   ],
   "source": [
    "model = Sequential() \n",
    "model.add(Dense(10, input_shape=(X_train.shape[1],), activation='relu', kernel_initializer='lecun_uniform'))\n",
    "model.add(Dense(10, input_shape=(X_train.shape[1],)))\n",
    "model.add(Dense(10, input_shape=(X_train.shape[1],)))\n",
    "model.add(Dense(10, input_shape=(X_train.shape[1],)))\n",
    "model.add(Dense(1))\n",
    "model.compile(optimizer='adam', loss='mean_squared_error')\n",
    "history = model.fit(X_train, y_train, batch_size=16, validation_data=(X_test, y_test), epochs=100, verbose=1)\n",
    "#EarlyStopping(monitor='mean_squared_error', min_delta=0.01, patience=.01, verbose=0, mode='auto')"
   ]
  },
  {
   "cell_type": "code",
   "execution_count": 285,
   "metadata": {},
   "outputs": [
    {
     "data": {
      "image/png": "[encoded data removed]",
      "text/plain": [
       "<Figure size 432x288 with 1 Axes>"
      ]
     },
     "metadata": {},
     "output_type": "display_data"
    }
   ],
   "source": [
    "plt.plot(history.history['loss'], label='train')\n",
    "plt.plot(history.history['val_loss'], label='test')\n",
    "plt.legend()\n",
    "plt.show()"
   ]
  },
  {
   "cell_type": "code",
   "execution_count": 303,
   "metadata": {
    "scrolled": false
   },
   "outputs": [
    {
     "data": {
      "text/plain": [
       "0.9972544773797248"
      ]
     },
     "execution_count": 303,
     "metadata": {},
     "output_type": "execute_result"
    },
    {
     "data": {
      "image/png": "[encoded data removed]",
      "text/plain": [
       "<Figure size 1440x720 with 1 Axes>"
      ]
     },
     "metadata": {},
     "output_type": "display_data"
    }
   ],
   "source": [
    "plt.figure(figsize=(20,10))\n",
    "y_pred = model.predict(X_test)\n",
    "plt.plot(y_test, label = 'Actual')\n",
    "plt.plot(y_pred, label = 'Predictions')\n",
    "plt.legend()\n",
    "r2_score(y_test, y_pred)"
   ]
  },
  {
   "cell_type": "code",
   "execution_count": 287,
   "metadata": {},
   "outputs": [
    {
     "data": {
      "text/plain": [
       "958"
      ]
     },
     "execution_count": 287,
     "metadata": {},
     "output_type": "execute_result"
    }
   ],
   "source": [
    "len(y_test)"
   ]
  },
  {
   "cell_type": "code",
   "execution_count": 288,
   "metadata": {},
   "outputs": [],
   "source": [
    "df_pred = pd.DataFrame([y_test, y_pred]).T"
   ]
  },
  {
   "cell_type": "code",
   "execution_count": 289,
   "metadata": {},
   "outputs": [
    {
     "data": {
      "text/html": [
       "<div>\n",
       "<style scoped>\n",
       "    .dataframe tbody tr th:only-of-type {\n",
       "        vertical-align: middle;\n",
       "    }\n",
       "\n",
       "    .dataframe tbody tr th {\n",
       "        vertical-align: top;\n",
       "    }\n",
       "\n",
       "    .dataframe thead th {\n",
       "        text-align: right;\n",
       "    }\n",
       "</style>\n",
       "<table border=\"1\" class=\"dataframe\">\n",
       "  <thead>\n",
       "    <tr style=\"text-align: right;\">\n",
       "      <th></th>\n",
       "      <th>0</th>\n",
       "      <th>1</th>\n",
       "    </tr>\n",
       "  </thead>\n",
       "  <tbody>\n",
       "    <tr>\n",
       "      <th>0</th>\n",
       "      <td>25.06</td>\n",
       "      <td>[25.329357]</td>\n",
       "    </tr>\n",
       "    <tr>\n",
       "      <th>1</th>\n",
       "      <td>24.6</td>\n",
       "      <td>[25.121746]</td>\n",
       "    </tr>\n",
       "    <tr>\n",
       "      <th>2</th>\n",
       "      <td>24.07</td>\n",
       "      <td>[24.673471]</td>\n",
       "    </tr>\n",
       "    <tr>\n",
       "      <th>3</th>\n",
       "      <td>24.08</td>\n",
       "      <td>[24.15659]</td>\n",
       "    </tr>\n",
       "    <tr>\n",
       "      <th>4</th>\n",
       "      <td>24.37</td>\n",
       "      <td>[24.165363]</td>\n",
       "    </tr>\n",
       "  </tbody>\n",
       "</table>\n",
       "</div>"
      ],
      "text/plain": [
       "       0            1\n",
       "0  25.06  [25.329357]\n",
       "1   24.6  [25.121746]\n",
       "2  24.07  [24.673471]\n",
       "3  24.08   [24.15659]\n",
       "4  24.37  [24.165363]"
      ]
     },
     "execution_count": 289,
     "metadata": {},
     "output_type": "execute_result"
    }
   ],
   "source": [
    "df_pred.head()"
   ]
  },
  {
   "cell_type": "code",
   "execution_count": 301,
   "metadata": {},
   "outputs": [
    {
     "data": {
      "text/html": [
       "<div>\n",
       "<style scoped>\n",
       "    .dataframe tbody tr th:only-of-type {\n",
       "        vertical-align: middle;\n",
       "    }\n",
       "\n",
       "    .dataframe tbody tr th {\n",
       "        vertical-align: top;\n",
       "    }\n",
       "\n",
       "    .dataframe thead th {\n",
       "        text-align: right;\n",
       "    }\n",
       "</style>\n",
       "<table border=\"1\" class=\"dataframe\">\n",
       "  <thead>\n",
       "    <tr style=\"text-align: right;\">\n",
       "      <th></th>\n",
       "      <th>Act</th>\n",
       "      <th>Preds</th>\n",
       "    </tr>\n",
       "    <tr>\n",
       "      <th>Date</th>\n",
       "      <th></th>\n",
       "      <th></th>\n",
       "    </tr>\n",
       "  </thead>\n",
       "  <tbody>\n",
       "    <tr>\n",
       "      <th>2018-10-15</th>\n",
       "      <td>12.15</td>\n",
       "      <td>12.416664</td>\n",
       "    </tr>\n",
       "    <tr>\n",
       "      <th>2018-10-16</th>\n",
       "      <td>12.10</td>\n",
       "      <td>12.250196</td>\n",
       "    </tr>\n",
       "    <tr>\n",
       "      <th>2018-10-17</th>\n",
       "      <td>12.19</td>\n",
       "      <td>12.188991</td>\n",
       "    </tr>\n",
       "    <tr>\n",
       "      <th>2018-10-18</th>\n",
       "      <td>12.38</td>\n",
       "      <td>12.257962</td>\n",
       "    </tr>\n",
       "    <tr>\n",
       "      <th>2018-10-19</th>\n",
       "      <td>12.56</td>\n",
       "      <td>12.437205</td>\n",
       "    </tr>\n",
       "  </tbody>\n",
       "</table>\n",
       "</div>"
      ],
      "text/plain": [
       "              Act      Preds\n",
       "Date                        \n",
       "2018-10-15  12.15  12.416664\n",
       "2018-10-16  12.10  12.250196\n",
       "2018-10-17  12.19  12.188991\n",
       "2018-10-18  12.38  12.257962\n",
       "2018-10-19  12.56  12.437205"
      ]
     },
     "execution_count": 301,
     "metadata": {},
     "output_type": "execute_result"
    }
   ],
   "source": [
    "df_pred.tail()"
   ]
  },
  {
   "cell_type": "code",
   "execution_count": 290,
   "metadata": {},
   "outputs": [],
   "source": [
    "df_pred[0] = df_pred[0].astype(float)"
   ]
  },
  {
   "cell_type": "code",
   "execution_count": 291,
   "metadata": {},
   "outputs": [],
   "source": [
    "df_pred[1] = df_pred[1].astype(float)"
   ]
  },
  {
   "cell_type": "code",
   "execution_count": 292,
   "metadata": {},
   "outputs": [],
   "source": [
    "maper = {0:'Act', 1:'Preds'}\n",
    "df_pred.rename(maper, axis=1, inplace=True)"
   ]
  },
  {
   "cell_type": "code",
   "execution_count": 293,
   "metadata": {},
   "outputs": [],
   "source": [
    "df_pred.set_index(keys=test_df.index, inplace=True)"
   ]
  },
  {
   "cell_type": "code",
   "execution_count": 294,
   "metadata": {},
   "outputs": [
    {
     "data": {
      "image/png": "[encoded data removed]",
      "text/plain": [
       "<Figure size 1440x720 with 1 Axes>"
      ]
     },
     "metadata": {},
     "output_type": "display_data"
    }
   ],
   "source": [
    "plt.figure(figsize=(20,10))\n",
    "plt.plot(df_pred);"
   ]
  },
  {
   "cell_type": "code",
   "execution_count": 295,
   "metadata": {},
   "outputs": [],
   "source": [
    "import numpy as np"
   ]
  },
  {
   "cell_type": "code",
   "execution_count": 296,
   "metadata": {},
   "outputs": [
    {
     "data": {
      "text/html": [
       "<div>\n",
       "<style scoped>\n",
       "    .dataframe tbody tr th:only-of-type {\n",
       "        vertical-align: middle;\n",
       "    }\n",
       "\n",
       "    .dataframe tbody tr th {\n",
       "        vertical-align: top;\n",
       "    }\n",
       "\n",
       "    .dataframe thead th {\n",
       "        text-align: right;\n",
       "    }\n",
       "</style>\n",
       "<table border=\"1\" class=\"dataframe\">\n",
       "  <thead>\n",
       "    <tr style=\"text-align: right;\">\n",
       "      <th></th>\n",
       "      <th>Close</th>\n",
       "      <th>Volume</th>\n",
       "      <th>std</th>\n",
       "      <th>upper</th>\n",
       "      <th>lower</th>\n",
       "      <th>Rates</th>\n",
       "      <th>lag</th>\n",
       "      <th>std_1</th>\n",
       "      <th>lag_2</th>\n",
       "    </tr>\n",
       "    <tr>\n",
       "      <th>Date</th>\n",
       "      <th></th>\n",
       "      <th></th>\n",
       "      <th></th>\n",
       "      <th></th>\n",
       "      <th></th>\n",
       "      <th></th>\n",
       "      <th></th>\n",
       "      <th></th>\n",
       "      <th></th>\n",
       "    </tr>\n",
       "  </thead>\n",
       "  <tbody>\n",
       "    <tr>\n",
       "      <th>2018-10-15</th>\n",
       "      <td>12.15</td>\n",
       "      <td>62640200.0</td>\n",
       "      <td>0.709739</td>\n",
       "      <td>13.569478</td>\n",
       "      <td>10.730522</td>\n",
       "      <td>2.03</td>\n",
       "      <td>12.32</td>\n",
       "      <td>0.558507</td>\n",
       "      <td>13.12</td>\n",
       "    </tr>\n",
       "    <tr>\n",
       "      <th>2018-10-16</th>\n",
       "      <td>12.10</td>\n",
       "      <td>86485800.0</td>\n",
       "      <td>0.709427</td>\n",
       "      <td>13.518855</td>\n",
       "      <td>10.681145</td>\n",
       "      <td>2.03</td>\n",
       "      <td>12.15</td>\n",
       "      <td>0.602520</td>\n",
       "      <td>12.99</td>\n",
       "    </tr>\n",
       "    <tr>\n",
       "      <th>2018-10-17</th>\n",
       "      <td>12.19</td>\n",
       "      <td>83433100.0</td>\n",
       "      <td>0.700259</td>\n",
       "      <td>13.590519</td>\n",
       "      <td>10.789481</td>\n",
       "      <td>2.03</td>\n",
       "      <td>12.10</td>\n",
       "      <td>0.492626</td>\n",
       "      <td>13.12</td>\n",
       "    </tr>\n",
       "    <tr>\n",
       "      <th>2018-10-18</th>\n",
       "      <td>12.38</td>\n",
       "      <td>81520200.0</td>\n",
       "      <td>0.699676</td>\n",
       "      <td>13.779352</td>\n",
       "      <td>10.980648</td>\n",
       "      <td>2.03</td>\n",
       "      <td>12.19</td>\n",
       "      <td>0.250659</td>\n",
       "      <td>13.11</td>\n",
       "    </tr>\n",
       "    <tr>\n",
       "      <th>2018-10-19</th>\n",
       "      <td>12.56</td>\n",
       "      <td>86762800.0</td>\n",
       "      <td>0.700680</td>\n",
       "      <td>13.961360</td>\n",
       "      <td>11.158640</td>\n",
       "      <td>2.03</td>\n",
       "      <td>12.38</td>\n",
       "      <td>0.117771</td>\n",
       "      <td>13.15</td>\n",
       "    </tr>\n",
       "  </tbody>\n",
       "</table>\n",
       "</div>"
      ],
      "text/plain": [
       "            Close      Volume       std      upper      lower  Rates    lag  \\\n",
       "Date                                                                          \n",
       "2018-10-15  12.15  62640200.0  0.709739  13.569478  10.730522   2.03  12.32   \n",
       "2018-10-16  12.10  86485800.0  0.709427  13.518855  10.681145   2.03  12.15   \n",
       "2018-10-17  12.19  83433100.0  0.700259  13.590519  10.789481   2.03  12.10   \n",
       "2018-10-18  12.38  81520200.0  0.699676  13.779352  10.980648   2.03  12.19   \n",
       "2018-10-19  12.56  86762800.0  0.700680  13.961360  11.158640   2.03  12.38   \n",
       "\n",
       "               std_1  lag_2  \n",
       "Date                         \n",
       "2018-10-15  0.558507  13.12  \n",
       "2018-10-16  0.602520  12.99  \n",
       "2018-10-17  0.492626  13.12  \n",
       "2018-10-18  0.250659  13.11  \n",
       "2018-10-19  0.117771  13.15  "
      ]
     },
     "execution_count": 296,
     "metadata": {},
     "output_type": "execute_result"
    }
   ],
   "source": [
    "df.tail()"
   ]
  },
  {
   "cell_type": "code",
   "execution_count": 297,
   "metadata": {},
   "outputs": [],
   "source": [
    "rate = 2\n",
    "lag = 11\n",
    "std = 12.482"
   ]
  },
  {
   "cell_type": "code",
   "execution_count": 298,
   "metadata": {},
   "outputs": [],
   "source": [
    "pred_1 = np.array([[rate, lag, std]])"
   ]
  },
  {
   "cell_type": "code",
   "execution_count": 299,
   "metadata": {},
   "outputs": [
    {
     "data": {
      "text/plain": [
       "(1, 3)"
      ]
     },
     "execution_count": 299,
     "metadata": {},
     "output_type": "execute_result"
    }
   ],
   "source": [
    "pred_1.shape"
   ]
  },
  {
   "cell_type": "code",
   "execution_count": 300,
   "metadata": {},
   "outputs": [],
   "source": [
    "#model.predict(pred_1)"
   ]
  },
  {
   "cell_type": "code",
   "execution_count": null,
   "metadata": {},
   "outputs": [],
   "source": []
  }
 ],
 "metadata": {
  "kernelspec": {
   "display_name": "Python [conda env:anaconda3]",
   "language": "python",
   "name": "conda-env-anaconda3-py"
  },
  "language_info": {
   "codemirror_mode": {
    "name": "ipython",
    "version": 3
   },
   "file_extension": ".py",
   "mimetype": "text/x-python",
   "name": "python",
   "nbconvert_exporter": "python",
   "pygments_lexer": "ipython3",
   "version": "3.6.5"
  }
 },
 "nbformat": 4,
 "nbformat_minor": 2
}
