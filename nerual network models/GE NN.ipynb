{
 "cells": [
  {
   "cell_type": "code",
   "execution_count": 1,
   "metadata": {},
   "outputs": [],
   "source": [
    "import pandas as pd"
   ]
  },
  {
   "cell_type": "code",
   "execution_count": 2,
   "metadata": {},
   "outputs": [],
   "source": [
    "df = pd.read_csv('ge_rates_nonadj.csv')"
   ]
  },
  {
   "cell_type": "code",
   "execution_count": 3,
   "metadata": {},
   "outputs": [
    {
     "data": {
      "text/plain": [
       "Index(['Date', 'Close', 'Volume', 'std', 'upper', 'lower', 'Rates'], dtype='object')"
      ]
     },
     "execution_count": 3,
     "metadata": {},
     "output_type": "execute_result"
    }
   ],
   "source": [
    "df.columns"
   ]
  },
  {
   "cell_type": "code",
   "execution_count": 4,
   "metadata": {},
   "outputs": [],
   "source": [
    "#df = df.drop(['Volume', 'std', 'upper', 'lower'], axis = 1)"
   ]
  },
  {
   "cell_type": "code",
   "execution_count": 5,
   "metadata": {},
   "outputs": [],
   "source": [
    "df['lag'] = df['Close'].shift()\n",
    "#df['std'] = df['std'].shift()"
   ]
  },
  {
   "cell_type": "code",
   "execution_count": 6,
   "metadata": {},
   "outputs": [],
   "source": [
    "df.dropna(inplace=True)"
   ]
  },
  {
   "cell_type": "code",
   "execution_count": 7,
   "metadata": {},
   "outputs": [
    {
     "data": {
      "text/html": [
       "<div>\n",
       "<style scoped>\n",
       "    .dataframe tbody tr th:only-of-type {\n",
       "        vertical-align: middle;\n",
       "    }\n",
       "\n",
       "    .dataframe tbody tr th {\n",
       "        vertical-align: top;\n",
       "    }\n",
       "\n",
       "    .dataframe thead th {\n",
       "        text-align: right;\n",
       "    }\n",
       "</style>\n",
       "<table border=\"1\" class=\"dataframe\">\n",
       "  <thead>\n",
       "    <tr style=\"text-align: right;\">\n",
       "      <th></th>\n",
       "      <th>Date</th>\n",
       "      <th>Close</th>\n",
       "      <th>Volume</th>\n",
       "      <th>std</th>\n",
       "      <th>upper</th>\n",
       "      <th>lower</th>\n",
       "      <th>Rates</th>\n",
       "      <th>lag</th>\n",
       "    </tr>\n",
       "  </thead>\n",
       "  <tbody>\n",
       "    <tr>\n",
       "      <th>1</th>\n",
       "      <td>1990-10-29</td>\n",
       "      <td>4.239583</td>\n",
       "      <td>23887200.0</td>\n",
       "      <td>0.011211</td>\n",
       "      <td>4.262006</td>\n",
       "      <td>4.217160</td>\n",
       "      <td>7.17</td>\n",
       "      <td>4.208333</td>\n",
       "    </tr>\n",
       "    <tr>\n",
       "      <th>2</th>\n",
       "      <td>1990-10-30</td>\n",
       "      <td>4.395833</td>\n",
       "      <td>27138000.0</td>\n",
       "      <td>0.010366</td>\n",
       "      <td>4.416565</td>\n",
       "      <td>4.375101</td>\n",
       "      <td>7.17</td>\n",
       "      <td>4.239583</td>\n",
       "    </tr>\n",
       "    <tr>\n",
       "      <th>3</th>\n",
       "      <td>1990-10-31</td>\n",
       "      <td>4.333333</td>\n",
       "      <td>15692400.0</td>\n",
       "      <td>0.010172</td>\n",
       "      <td>4.353677</td>\n",
       "      <td>4.312989</td>\n",
       "      <td>7.17</td>\n",
       "      <td>4.395833</td>\n",
       "    </tr>\n",
       "    <tr>\n",
       "      <th>4</th>\n",
       "      <td>1990-11-01</td>\n",
       "      <td>4.364583</td>\n",
       "      <td>18014400.0</td>\n",
       "      <td>0.009890</td>\n",
       "      <td>4.384362</td>\n",
       "      <td>4.344804</td>\n",
       "      <td>7.06</td>\n",
       "      <td>4.333333</td>\n",
       "    </tr>\n",
       "    <tr>\n",
       "      <th>5</th>\n",
       "      <td>1990-11-02</td>\n",
       "      <td>4.416667</td>\n",
       "      <td>20180400.0</td>\n",
       "      <td>0.009598</td>\n",
       "      <td>4.435862</td>\n",
       "      <td>4.397472</td>\n",
       "      <td>7.06</td>\n",
       "      <td>4.364583</td>\n",
       "    </tr>\n",
       "  </tbody>\n",
       "</table>\n",
       "</div>"
      ],
      "text/plain": [
       "         Date     Close      Volume       std     upper     lower  Rates  \\\n",
       "1  1990-10-29  4.239583  23887200.0  0.011211  4.262006  4.217160   7.17   \n",
       "2  1990-10-30  4.395833  27138000.0  0.010366  4.416565  4.375101   7.17   \n",
       "3  1990-10-31  4.333333  15692400.0  0.010172  4.353677  4.312989   7.17   \n",
       "4  1990-11-01  4.364583  18014400.0  0.009890  4.384362  4.344804   7.06   \n",
       "5  1990-11-02  4.416667  20180400.0  0.009598  4.435862  4.397472   7.06   \n",
       "\n",
       "        lag  \n",
       "1  4.208333  \n",
       "2  4.239583  \n",
       "3  4.395833  \n",
       "4  4.333333  \n",
       "5  4.364583  "
      ]
     },
     "execution_count": 7,
     "metadata": {},
     "output_type": "execute_result"
    }
   ],
   "source": [
    "df.head()"
   ]
  },
  {
   "cell_type": "code",
   "execution_count": 8,
   "metadata": {},
   "outputs": [],
   "source": [
    "df['std_1'] = df['Close'].rolling(5).std().dropna().shift()\n",
    "df['lag_2'] = df['Close'].shift(60)"
   ]
  },
  {
   "cell_type": "code",
   "execution_count": 9,
   "metadata": {},
   "outputs": [],
   "source": [
    "df.dropna(inplace=True)"
   ]
  },
  {
   "cell_type": "code",
   "execution_count": 10,
   "metadata": {},
   "outputs": [],
   "source": [
    "df['Date'] = pd.to_datetime(df['Date'])"
   ]
  },
  {
   "cell_type": "code",
   "execution_count": 11,
   "metadata": {},
   "outputs": [],
   "source": [
    "df.set_index('Date', inplace=True)"
   ]
  },
  {
   "cell_type": "markdown",
   "metadata": {},
   "source": [
    "For GE I am going to make my train test split on the year 2014"
   ]
  },
  {
   "cell_type": "code",
   "execution_count": 12,
   "metadata": {},
   "outputs": [],
   "source": [
    "train_df = df[:'2014']\n",
    "test_df = df['2015':]"
   ]
  },
  {
   "cell_type": "code",
   "execution_count": 13,
   "metadata": {},
   "outputs": [
    {
     "data": {
      "text/html": [
       "<div>\n",
       "<style scoped>\n",
       "    .dataframe tbody tr th:only-of-type {\n",
       "        vertical-align: middle;\n",
       "    }\n",
       "\n",
       "    .dataframe tbody tr th {\n",
       "        vertical-align: top;\n",
       "    }\n",
       "\n",
       "    .dataframe thead th {\n",
       "        text-align: right;\n",
       "    }\n",
       "</style>\n",
       "<table border=\"1\" class=\"dataframe\">\n",
       "  <thead>\n",
       "    <tr style=\"text-align: right;\">\n",
       "      <th></th>\n",
       "      <th>Close</th>\n",
       "      <th>Volume</th>\n",
       "      <th>std</th>\n",
       "      <th>upper</th>\n",
       "      <th>lower</th>\n",
       "      <th>Rates</th>\n",
       "      <th>lag</th>\n",
       "      <th>std_1</th>\n",
       "      <th>lag_2</th>\n",
       "    </tr>\n",
       "    <tr>\n",
       "      <th>Date</th>\n",
       "      <th></th>\n",
       "      <th></th>\n",
       "      <th></th>\n",
       "      <th></th>\n",
       "      <th></th>\n",
       "      <th></th>\n",
       "      <th></th>\n",
       "      <th></th>\n",
       "      <th></th>\n",
       "    </tr>\n",
       "  </thead>\n",
       "  <tbody>\n",
       "    <tr>\n",
       "      <th>2014-12-24</th>\n",
       "      <td>25.830000</td>\n",
       "      <td>17865100.0</td>\n",
       "      <td>0.564560</td>\n",
       "      <td>26.959120</td>\n",
       "      <td>24.700880</td>\n",
       "      <td>0.03</td>\n",
       "      <td>25.879999</td>\n",
       "      <td>0.497514</td>\n",
       "      <td>25.620001</td>\n",
       "    </tr>\n",
       "    <tr>\n",
       "      <th>2014-12-26</th>\n",
       "      <td>25.780001</td>\n",
       "      <td>14978500.0</td>\n",
       "      <td>0.517207</td>\n",
       "      <td>26.814415</td>\n",
       "      <td>24.745587</td>\n",
       "      <td>0.03</td>\n",
       "      <td>25.830000</td>\n",
       "      <td>0.295347</td>\n",
       "      <td>25.160000</td>\n",
       "    </tr>\n",
       "    <tr>\n",
       "      <th>2014-12-29</th>\n",
       "      <td>25.700001</td>\n",
       "      <td>20858200.0</td>\n",
       "      <td>0.492689</td>\n",
       "      <td>26.685378</td>\n",
       "      <td>24.714624</td>\n",
       "      <td>0.03</td>\n",
       "      <td>25.780001</td>\n",
       "      <td>0.102127</td>\n",
       "      <td>25.120001</td>\n",
       "    </tr>\n",
       "    <tr>\n",
       "      <th>2014-12-30</th>\n",
       "      <td>25.570000</td>\n",
       "      <td>22184500.0</td>\n",
       "      <td>0.487743</td>\n",
       "      <td>26.545487</td>\n",
       "      <td>24.594513</td>\n",
       "      <td>0.03</td>\n",
       "      <td>25.700001</td>\n",
       "      <td>0.077136</td>\n",
       "      <td>25.400000</td>\n",
       "    </tr>\n",
       "    <tr>\n",
       "      <th>2014-12-31</th>\n",
       "      <td>25.270000</td>\n",
       "      <td>28206500.0</td>\n",
       "      <td>0.479912</td>\n",
       "      <td>26.229824</td>\n",
       "      <td>24.310176</td>\n",
       "      <td>0.03</td>\n",
       "      <td>25.570000</td>\n",
       "      <td>0.121532</td>\n",
       "      <td>25.219999</td>\n",
       "    </tr>\n",
       "  </tbody>\n",
       "</table>\n",
       "</div>"
      ],
      "text/plain": [
       "                Close      Volume       std      upper      lower  Rates  \\\n",
       "Date                                                                       \n",
       "2014-12-24  25.830000  17865100.0  0.564560  26.959120  24.700880   0.03   \n",
       "2014-12-26  25.780001  14978500.0  0.517207  26.814415  24.745587   0.03   \n",
       "2014-12-29  25.700001  20858200.0  0.492689  26.685378  24.714624   0.03   \n",
       "2014-12-30  25.570000  22184500.0  0.487743  26.545487  24.594513   0.03   \n",
       "2014-12-31  25.270000  28206500.0  0.479912  26.229824  24.310176   0.03   \n",
       "\n",
       "                  lag     std_1      lag_2  \n",
       "Date                                        \n",
       "2014-12-24  25.879999  0.497514  25.620001  \n",
       "2014-12-26  25.830000  0.295347  25.160000  \n",
       "2014-12-29  25.780001  0.102127  25.120001  \n",
       "2014-12-30  25.700001  0.077136  25.400000  \n",
       "2014-12-31  25.570000  0.121532  25.219999  "
      ]
     },
     "execution_count": 13,
     "metadata": {},
     "output_type": "execute_result"
    }
   ],
   "source": [
    "train_df.tail()"
   ]
  },
  {
   "cell_type": "code",
   "execution_count": 14,
   "metadata": {},
   "outputs": [
    {
     "data": {
      "text/html": [
       "<div>\n",
       "<style scoped>\n",
       "    .dataframe tbody tr th:only-of-type {\n",
       "        vertical-align: middle;\n",
       "    }\n",
       "\n",
       "    .dataframe tbody tr th {\n",
       "        vertical-align: top;\n",
       "    }\n",
       "\n",
       "    .dataframe thead th {\n",
       "        text-align: right;\n",
       "    }\n",
       "</style>\n",
       "<table border=\"1\" class=\"dataframe\">\n",
       "  <thead>\n",
       "    <tr style=\"text-align: right;\">\n",
       "      <th></th>\n",
       "      <th>Close</th>\n",
       "      <th>Volume</th>\n",
       "      <th>std</th>\n",
       "      <th>upper</th>\n",
       "      <th>lower</th>\n",
       "      <th>Rates</th>\n",
       "      <th>lag</th>\n",
       "      <th>std_1</th>\n",
       "      <th>lag_2</th>\n",
       "    </tr>\n",
       "    <tr>\n",
       "      <th>Date</th>\n",
       "      <th></th>\n",
       "      <th></th>\n",
       "      <th></th>\n",
       "      <th></th>\n",
       "      <th></th>\n",
       "      <th></th>\n",
       "      <th></th>\n",
       "      <th></th>\n",
       "      <th></th>\n",
       "    </tr>\n",
       "  </thead>\n",
       "  <tbody>\n",
       "    <tr>\n",
       "      <th>2018-09-24</th>\n",
       "      <td>11.74</td>\n",
       "      <td>148589900.0</td>\n",
       "      <td>0.268106</td>\n",
       "      <td>12.276213</td>\n",
       "      <td>11.203787</td>\n",
       "      <td>2.03</td>\n",
       "      <td>12.17</td>\n",
       "      <td>0.265141</td>\n",
       "      <td>13.83</td>\n",
       "    </tr>\n",
       "    <tr>\n",
       "      <th>2018-09-25</th>\n",
       "      <td>11.27</td>\n",
       "      <td>133694200.0</td>\n",
       "      <td>0.383368</td>\n",
       "      <td>12.036737</td>\n",
       "      <td>10.503263</td>\n",
       "      <td>2.03</td>\n",
       "      <td>11.74</td>\n",
       "      <td>0.438429</td>\n",
       "      <td>13.61</td>\n",
       "    </tr>\n",
       "    <tr>\n",
       "      <th>2018-09-26</th>\n",
       "      <td>11.39</td>\n",
       "      <td>93374600.0</td>\n",
       "      <td>0.446212</td>\n",
       "      <td>12.282424</td>\n",
       "      <td>10.497576</td>\n",
       "      <td>2.03</td>\n",
       "      <td>11.27</td>\n",
       "      <td>0.618587</td>\n",
       "      <td>13.37</td>\n",
       "    </tr>\n",
       "    <tr>\n",
       "      <th>2018-09-27</th>\n",
       "      <td>11.53</td>\n",
       "      <td>82196200.0</td>\n",
       "      <td>0.470152</td>\n",
       "      <td>12.470304</td>\n",
       "      <td>10.589696</td>\n",
       "      <td>2.03</td>\n",
       "      <td>11.39</td>\n",
       "      <td>0.506192</td>\n",
       "      <td>13.37</td>\n",
       "    </tr>\n",
       "    <tr>\n",
       "      <th>2018-09-28</th>\n",
       "      <td>11.29</td>\n",
       "      <td>76542900.0</td>\n",
       "      <td>0.515216</td>\n",
       "      <td>12.320433</td>\n",
       "      <td>10.259567</td>\n",
       "      <td>2.03</td>\n",
       "      <td>11.53</td>\n",
       "      <td>0.353695</td>\n",
       "      <td>13.43</td>\n",
       "    </tr>\n",
       "  </tbody>\n",
       "</table>\n",
       "</div>"
      ],
      "text/plain": [
       "            Close       Volume       std      upper      lower  Rates    lag  \\\n",
       "Date                                                                           \n",
       "2018-09-24  11.74  148589900.0  0.268106  12.276213  11.203787   2.03  12.17   \n",
       "2018-09-25  11.27  133694200.0  0.383368  12.036737  10.503263   2.03  11.74   \n",
       "2018-09-26  11.39   93374600.0  0.446212  12.282424  10.497576   2.03  11.27   \n",
       "2018-09-27  11.53   82196200.0  0.470152  12.470304  10.589696   2.03  11.39   \n",
       "2018-09-28  11.29   76542900.0  0.515216  12.320433  10.259567   2.03  11.53   \n",
       "\n",
       "               std_1  lag_2  \n",
       "Date                         \n",
       "2018-09-24  0.265141  13.83  \n",
       "2018-09-25  0.438429  13.61  \n",
       "2018-09-26  0.618587  13.37  \n",
       "2018-09-27  0.506192  13.37  \n",
       "2018-09-28  0.353695  13.43  "
      ]
     },
     "execution_count": 14,
     "metadata": {},
     "output_type": "execute_result"
    }
   ],
   "source": [
    "test_df.tail()"
   ]
  },
  {
   "cell_type": "markdown",
   "metadata": {},
   "source": [
    "To see this visually, we can make a line plot of the train and test data"
   ]
  },
  {
   "cell_type": "code",
   "execution_count": 15,
   "metadata": {},
   "outputs": [],
   "source": [
    "import matplotlib.pyplot as plt"
   ]
  },
  {
   "cell_type": "code",
   "execution_count": 16,
   "metadata": {},
   "outputs": [
    {
     "name": "stderr",
     "output_type": "stream",
     "text": [
      "/anaconda3/lib/python3.6/site-packages/pandas/core/frame.py:3778: SettingWithCopyWarning: \n",
      "A value is trying to be set on a copy of a slice from a DataFrame\n",
      "\n",
      "See the caveats in the documentation: http://pandas.pydata.org/pandas-docs/stable/indexing.html#indexing-view-versus-copy\n",
      "  return super(DataFrame, self).rename(**kwargs)\n"
     ]
    }
   ],
   "source": [
    "graph_df_train = train_df\n",
    "maper = {'Close':'Train'}\n",
    "graph_df_train.rename(maper, axis = 1, inplace=True)"
   ]
  },
  {
   "cell_type": "code",
   "execution_count": 17,
   "metadata": {},
   "outputs": [
    {
     "name": "stderr",
     "output_type": "stream",
     "text": [
      "/anaconda3/lib/python3.6/site-packages/pandas/core/frame.py:3778: SettingWithCopyWarning: \n",
      "A value is trying to be set on a copy of a slice from a DataFrame\n",
      "\n",
      "See the caveats in the documentation: http://pandas.pydata.org/pandas-docs/stable/indexing.html#indexing-view-versus-copy\n",
      "  return super(DataFrame, self).rename(**kwargs)\n"
     ]
    }
   ],
   "source": [
    "graph_df_test = test_df\n",
    "maper = {'Close':'Test'}\n",
    "graph_df_test.rename(maper, axis = 1, inplace=True)"
   ]
  },
  {
   "cell_type": "code",
   "execution_count": 18,
   "metadata": {},
   "outputs": [
    {
     "data": {
      "image/png": "[encoded data removed]",
      "text/plain": [
       "<Figure size 432x288 with 1 Axes>"
      ]
     },
     "metadata": {},
     "output_type": "display_data"
    }
   ],
   "source": [
    "plt.plot(graph_df_train['Train'])\n",
    "plt.plot(graph_df_test['Test'])\n",
    "plt.legend();"
   ]
  },
  {
   "cell_type": "markdown",
   "metadata": {},
   "source": [
    "As you can see, 2014 is a year where the pattern of a downward trend may begin again. Lets build a model to find out. "
   ]
  },
  {
   "cell_type": "code",
   "execution_count": 19,
   "metadata": {},
   "outputs": [
    {
     "data": {
      "text/html": [
       "<div>\n",
       "<style scoped>\n",
       "    .dataframe tbody tr th:only-of-type {\n",
       "        vertical-align: middle;\n",
       "    }\n",
       "\n",
       "    .dataframe tbody tr th {\n",
       "        vertical-align: top;\n",
       "    }\n",
       "\n",
       "    .dataframe thead th {\n",
       "        text-align: right;\n",
       "    }\n",
       "</style>\n",
       "<table border=\"1\" class=\"dataframe\">\n",
       "  <thead>\n",
       "    <tr style=\"text-align: right;\">\n",
       "      <th></th>\n",
       "      <th>Close</th>\n",
       "      <th>Volume</th>\n",
       "      <th>std</th>\n",
       "      <th>upper</th>\n",
       "      <th>lower</th>\n",
       "      <th>Rates</th>\n",
       "      <th>lag</th>\n",
       "      <th>std_1</th>\n",
       "      <th>lag_2</th>\n",
       "    </tr>\n",
       "    <tr>\n",
       "      <th>Date</th>\n",
       "      <th></th>\n",
       "      <th></th>\n",
       "      <th></th>\n",
       "      <th></th>\n",
       "      <th></th>\n",
       "      <th></th>\n",
       "      <th></th>\n",
       "      <th></th>\n",
       "      <th></th>\n",
       "    </tr>\n",
       "  </thead>\n",
       "  <tbody>\n",
       "    <tr>\n",
       "      <th>1991-01-24</th>\n",
       "      <td>4.875000</td>\n",
       "      <td>31964400.0</td>\n",
       "      <td>0.013160</td>\n",
       "      <td>4.901321</td>\n",
       "      <td>4.848679</td>\n",
       "      <td>6.22</td>\n",
       "      <td>4.770833</td>\n",
       "      <td>0.045762</td>\n",
       "      <td>4.239583</td>\n",
       "    </tr>\n",
       "    <tr>\n",
       "      <th>1991-01-25</th>\n",
       "      <td>4.989583</td>\n",
       "      <td>28312800.0</td>\n",
       "      <td>0.014789</td>\n",
       "      <td>5.019160</td>\n",
       "      <td>4.960006</td>\n",
       "      <td>6.22</td>\n",
       "      <td>4.875000</td>\n",
       "      <td>0.058649</td>\n",
       "      <td>4.395833</td>\n",
       "    </tr>\n",
       "    <tr>\n",
       "      <th>1991-01-28</th>\n",
       "      <td>5.052083</td>\n",
       "      <td>24478800.0</td>\n",
       "      <td>0.016771</td>\n",
       "      <td>5.085625</td>\n",
       "      <td>5.018541</td>\n",
       "      <td>6.22</td>\n",
       "      <td>4.989583</td>\n",
       "      <td>0.106891</td>\n",
       "      <td>4.333333</td>\n",
       "    </tr>\n",
       "    <tr>\n",
       "      <th>1991-01-29</th>\n",
       "      <td>5.052083</td>\n",
       "      <td>18824400.0</td>\n",
       "      <td>0.018449</td>\n",
       "      <td>5.088981</td>\n",
       "      <td>5.015185</td>\n",
       "      <td>6.22</td>\n",
       "      <td>5.052083</td>\n",
       "      <td>0.141029</td>\n",
       "      <td>4.364583</td>\n",
       "    </tr>\n",
       "    <tr>\n",
       "      <th>1991-01-30</th>\n",
       "      <td>5.166667</td>\n",
       "      <td>19764000.0</td>\n",
       "      <td>0.021011</td>\n",
       "      <td>5.208690</td>\n",
       "      <td>5.124644</td>\n",
       "      <td>6.22</td>\n",
       "      <td>5.052083</td>\n",
       "      <td>0.122590</td>\n",
       "      <td>4.416667</td>\n",
       "    </tr>\n",
       "  </tbody>\n",
       "</table>\n",
       "</div>"
      ],
      "text/plain": [
       "               Close      Volume       std     upper     lower  Rates  \\\n",
       "Date                                                                    \n",
       "1991-01-24  4.875000  31964400.0  0.013160  4.901321  4.848679   6.22   \n",
       "1991-01-25  4.989583  28312800.0  0.014789  5.019160  4.960006   6.22   \n",
       "1991-01-28  5.052083  24478800.0  0.016771  5.085625  5.018541   6.22   \n",
       "1991-01-29  5.052083  18824400.0  0.018449  5.088981  5.015185   6.22   \n",
       "1991-01-30  5.166667  19764000.0  0.021011  5.208690  5.124644   6.22   \n",
       "\n",
       "                 lag     std_1     lag_2  \n",
       "Date                                      \n",
       "1991-01-24  4.770833  0.045762  4.239583  \n",
       "1991-01-25  4.875000  0.058649  4.395833  \n",
       "1991-01-28  4.989583  0.106891  4.333333  \n",
       "1991-01-29  5.052083  0.141029  4.364583  \n",
       "1991-01-30  5.052083  0.122590  4.416667  "
      ]
     },
     "execution_count": 19,
     "metadata": {},
     "output_type": "execute_result"
    }
   ],
   "source": [
    "df.head()"
   ]
  },
  {
   "cell_type": "code",
   "execution_count": 20,
   "metadata": {},
   "outputs": [],
   "source": [
    "train_df = df[:'2014']\n",
    "test_df = df['2015':]"
   ]
  },
  {
   "cell_type": "code",
   "execution_count": 21,
   "metadata": {},
   "outputs": [
    {
     "data": {
      "text/html": [
       "<div>\n",
       "<style scoped>\n",
       "    .dataframe tbody tr th:only-of-type {\n",
       "        vertical-align: middle;\n",
       "    }\n",
       "\n",
       "    .dataframe tbody tr th {\n",
       "        vertical-align: top;\n",
       "    }\n",
       "\n",
       "    .dataframe thead th {\n",
       "        text-align: right;\n",
       "    }\n",
       "</style>\n",
       "<table border=\"1\" class=\"dataframe\">\n",
       "  <thead>\n",
       "    <tr style=\"text-align: right;\">\n",
       "      <th></th>\n",
       "      <th>Close</th>\n",
       "      <th>Volume</th>\n",
       "      <th>std</th>\n",
       "      <th>upper</th>\n",
       "      <th>lower</th>\n",
       "      <th>Rates</th>\n",
       "      <th>lag</th>\n",
       "      <th>std_1</th>\n",
       "      <th>lag_2</th>\n",
       "    </tr>\n",
       "    <tr>\n",
       "      <th>Date</th>\n",
       "      <th></th>\n",
       "      <th></th>\n",
       "      <th></th>\n",
       "      <th></th>\n",
       "      <th></th>\n",
       "      <th></th>\n",
       "      <th></th>\n",
       "      <th></th>\n",
       "      <th></th>\n",
       "    </tr>\n",
       "  </thead>\n",
       "  <tbody>\n",
       "    <tr>\n",
       "      <th>2014-12-24</th>\n",
       "      <td>25.830000</td>\n",
       "      <td>17865100.0</td>\n",
       "      <td>0.564560</td>\n",
       "      <td>26.959120</td>\n",
       "      <td>24.700880</td>\n",
       "      <td>0.03</td>\n",
       "      <td>25.879999</td>\n",
       "      <td>0.497514</td>\n",
       "      <td>25.620001</td>\n",
       "    </tr>\n",
       "    <tr>\n",
       "      <th>2014-12-26</th>\n",
       "      <td>25.780001</td>\n",
       "      <td>14978500.0</td>\n",
       "      <td>0.517207</td>\n",
       "      <td>26.814415</td>\n",
       "      <td>24.745587</td>\n",
       "      <td>0.03</td>\n",
       "      <td>25.830000</td>\n",
       "      <td>0.295347</td>\n",
       "      <td>25.160000</td>\n",
       "    </tr>\n",
       "    <tr>\n",
       "      <th>2014-12-29</th>\n",
       "      <td>25.700001</td>\n",
       "      <td>20858200.0</td>\n",
       "      <td>0.492689</td>\n",
       "      <td>26.685378</td>\n",
       "      <td>24.714624</td>\n",
       "      <td>0.03</td>\n",
       "      <td>25.780001</td>\n",
       "      <td>0.102127</td>\n",
       "      <td>25.120001</td>\n",
       "    </tr>\n",
       "    <tr>\n",
       "      <th>2014-12-30</th>\n",
       "      <td>25.570000</td>\n",
       "      <td>22184500.0</td>\n",
       "      <td>0.487743</td>\n",
       "      <td>26.545487</td>\n",
       "      <td>24.594513</td>\n",
       "      <td>0.03</td>\n",
       "      <td>25.700001</td>\n",
       "      <td>0.077136</td>\n",
       "      <td>25.400000</td>\n",
       "    </tr>\n",
       "    <tr>\n",
       "      <th>2014-12-31</th>\n",
       "      <td>25.270000</td>\n",
       "      <td>28206500.0</td>\n",
       "      <td>0.479912</td>\n",
       "      <td>26.229824</td>\n",
       "      <td>24.310176</td>\n",
       "      <td>0.03</td>\n",
       "      <td>25.570000</td>\n",
       "      <td>0.121532</td>\n",
       "      <td>25.219999</td>\n",
       "    </tr>\n",
       "  </tbody>\n",
       "</table>\n",
       "</div>"
      ],
      "text/plain": [
       "                Close      Volume       std      upper      lower  Rates  \\\n",
       "Date                                                                       \n",
       "2014-12-24  25.830000  17865100.0  0.564560  26.959120  24.700880   0.03   \n",
       "2014-12-26  25.780001  14978500.0  0.517207  26.814415  24.745587   0.03   \n",
       "2014-12-29  25.700001  20858200.0  0.492689  26.685378  24.714624   0.03   \n",
       "2014-12-30  25.570000  22184500.0  0.487743  26.545487  24.594513   0.03   \n",
       "2014-12-31  25.270000  28206500.0  0.479912  26.229824  24.310176   0.03   \n",
       "\n",
       "                  lag     std_1      lag_2  \n",
       "Date                                        \n",
       "2014-12-24  25.879999  0.497514  25.620001  \n",
       "2014-12-26  25.830000  0.295347  25.160000  \n",
       "2014-12-29  25.780001  0.102127  25.120001  \n",
       "2014-12-30  25.700001  0.077136  25.400000  \n",
       "2014-12-31  25.570000  0.121532  25.219999  "
      ]
     },
     "execution_count": 21,
     "metadata": {},
     "output_type": "execute_result"
    }
   ],
   "source": [
    "train_df.tail()"
   ]
  },
  {
   "cell_type": "code",
   "execution_count": 22,
   "metadata": {},
   "outputs": [
    {
     "data": {
      "text/html": [
       "<div>\n",
       "<style scoped>\n",
       "    .dataframe tbody tr th:only-of-type {\n",
       "        vertical-align: middle;\n",
       "    }\n",
       "\n",
       "    .dataframe tbody tr th {\n",
       "        vertical-align: top;\n",
       "    }\n",
       "\n",
       "    .dataframe thead th {\n",
       "        text-align: right;\n",
       "    }\n",
       "</style>\n",
       "<table border=\"1\" class=\"dataframe\">\n",
       "  <thead>\n",
       "    <tr style=\"text-align: right;\">\n",
       "      <th></th>\n",
       "      <th>Close</th>\n",
       "      <th>Volume</th>\n",
       "      <th>std</th>\n",
       "      <th>upper</th>\n",
       "      <th>lower</th>\n",
       "      <th>Rates</th>\n",
       "      <th>lag</th>\n",
       "      <th>std_1</th>\n",
       "      <th>lag_2</th>\n",
       "    </tr>\n",
       "    <tr>\n",
       "      <th>Date</th>\n",
       "      <th></th>\n",
       "      <th></th>\n",
       "      <th></th>\n",
       "      <th></th>\n",
       "      <th></th>\n",
       "      <th></th>\n",
       "      <th></th>\n",
       "      <th></th>\n",
       "      <th></th>\n",
       "    </tr>\n",
       "  </thead>\n",
       "  <tbody>\n",
       "    <tr>\n",
       "      <th>2015-01-02</th>\n",
       "      <td>25.059999</td>\n",
       "      <td>40920800.0</td>\n",
       "      <td>0.454663</td>\n",
       "      <td>25.969326</td>\n",
       "      <td>24.150672</td>\n",
       "      <td>0.03</td>\n",
       "      <td>25.270000</td>\n",
       "      <td>0.223942</td>\n",
       "      <td>24.809999</td>\n",
       "    </tr>\n",
       "    <tr>\n",
       "      <th>2015-01-05</th>\n",
       "      <td>24.600000</td>\n",
       "      <td>42033200.0</td>\n",
       "      <td>0.458973</td>\n",
       "      <td>25.517946</td>\n",
       "      <td>23.682054</td>\n",
       "      <td>0.03</td>\n",
       "      <td>25.059999</td>\n",
       "      <td>0.302870</td>\n",
       "      <td>25.250000</td>\n",
       "    </tr>\n",
       "    <tr>\n",
       "      <th>2015-01-06</th>\n",
       "      <td>24.070000</td>\n",
       "      <td>63760000.0</td>\n",
       "      <td>0.497231</td>\n",
       "      <td>25.064461</td>\n",
       "      <td>23.075539</td>\n",
       "      <td>0.03</td>\n",
       "      <td>24.600000</td>\n",
       "      <td>0.436864</td>\n",
       "      <td>24.780001</td>\n",
       "    </tr>\n",
       "    <tr>\n",
       "      <th>2015-01-07</th>\n",
       "      <td>24.080000</td>\n",
       "      <td>43642500.0</td>\n",
       "      <td>0.533998</td>\n",
       "      <td>25.147996</td>\n",
       "      <td>23.012004</td>\n",
       "      <td>0.03</td>\n",
       "      <td>24.070000</td>\n",
       "      <td>0.589347</td>\n",
       "      <td>24.270000</td>\n",
       "    </tr>\n",
       "    <tr>\n",
       "      <th>2015-01-08</th>\n",
       "      <td>24.370001</td>\n",
       "      <td>43224400.0</td>\n",
       "      <td>0.548181</td>\n",
       "      <td>25.466362</td>\n",
       "      <td>23.273640</td>\n",
       "      <td>0.03</td>\n",
       "      <td>24.080000</td>\n",
       "      <td>0.550118</td>\n",
       "      <td>23.950001</td>\n",
       "    </tr>\n",
       "  </tbody>\n",
       "</table>\n",
       "</div>"
      ],
      "text/plain": [
       "                Close      Volume       std      upper      lower  Rates  \\\n",
       "Date                                                                       \n",
       "2015-01-02  25.059999  40920800.0  0.454663  25.969326  24.150672   0.03   \n",
       "2015-01-05  24.600000  42033200.0  0.458973  25.517946  23.682054   0.03   \n",
       "2015-01-06  24.070000  63760000.0  0.497231  25.064461  23.075539   0.03   \n",
       "2015-01-07  24.080000  43642500.0  0.533998  25.147996  23.012004   0.03   \n",
       "2015-01-08  24.370001  43224400.0  0.548181  25.466362  23.273640   0.03   \n",
       "\n",
       "                  lag     std_1      lag_2  \n",
       "Date                                        \n",
       "2015-01-02  25.270000  0.223942  24.809999  \n",
       "2015-01-05  25.059999  0.302870  25.250000  \n",
       "2015-01-06  24.600000  0.436864  24.780001  \n",
       "2015-01-07  24.070000  0.589347  24.270000  \n",
       "2015-01-08  24.080000  0.550118  23.950001  "
      ]
     },
     "execution_count": 22,
     "metadata": {},
     "output_type": "execute_result"
    }
   ],
   "source": [
    "test_df.head()"
   ]
  },
  {
   "cell_type": "markdown",
   "metadata": {},
   "source": [
    "Scale Data"
   ]
  },
  {
   "cell_type": "code",
   "execution_count": 23,
   "metadata": {},
   "outputs": [],
   "source": [
    "from sklearn.preprocessing import MinMaxScaler"
   ]
  },
  {
   "cell_type": "code",
   "execution_count": 24,
   "metadata": {},
   "outputs": [],
   "source": [
    "scaler = MinMaxScaler()"
   ]
  },
  {
   "cell_type": "code",
   "execution_count": 25,
   "metadata": {},
   "outputs": [],
   "source": [
    "X_train = train_df[['Rates', 'lag', 'std_1', 'lag_2']].values\n",
    "X_test = test_df[['Rates', 'lag', 'std_1', 'lag_2']].values"
   ]
  },
  {
   "cell_type": "code",
   "execution_count": 26,
   "metadata": {},
   "outputs": [
    {
     "data": {
      "text/plain": [
       "array([[ 6.22      ,  4.770833  ,  0.04576226,  4.239583  ],\n",
       "       [ 6.22      ,  4.875     ,  0.05864878,  4.395833  ],\n",
       "       [ 6.22      ,  4.989583  ,  0.10689136,  4.333333  ],\n",
       "       ...,\n",
       "       [ 0.03      , 25.780001  ,  0.10212691, 25.120001  ],\n",
       "       [ 0.03      , 25.700001  ,  0.07713589, 25.4       ],\n",
       "       [ 0.03      , 25.57      ,  0.12153158, 25.219999  ]])"
      ]
     },
     "execution_count": 26,
     "metadata": {},
     "output_type": "execute_result"
    }
   ],
   "source": [
    "X_train"
   ]
  },
  {
   "cell_type": "code",
   "execution_count": 27,
   "metadata": {},
   "outputs": [],
   "source": [
    "train_df_sc = scaler.fit_transform(X_train)\n",
    "test_df_sc = scaler.transform(X_test)"
   ]
  },
  {
   "cell_type": "code",
   "execution_count": 28,
   "metadata": {},
   "outputs": [
    {
     "name": "stdout",
     "output_type": "stream",
     "text": [
      "(6032, 4)\n",
      "(943, 4)\n"
     ]
    }
   ],
   "source": [
    "print(train_df_sc.shape)\n",
    "print(test_df_sc.shape)"
   ]
  },
  {
   "cell_type": "code",
   "execution_count": 29,
   "metadata": {},
   "outputs": [
    {
     "data": {
      "text/plain": [
       "array([[1.        , 0.        , 0.01362904, 0.        ],\n",
       "       [1.        , 0.00188609, 0.01746693, 0.00280217],\n",
       "       [1.        , 0.00396077, 0.03183466, 0.0016813 ],\n",
       "       ...,\n",
       "       [0.00322061, 0.38039987, 0.0304157 , 0.37446668],\n",
       "       [0.00322061, 0.37895136, 0.02297281, 0.37948814],\n",
       "       [0.00322061, 0.37659751, 0.03619485, 0.37626003]])"
      ]
     },
     "execution_count": 29,
     "metadata": {},
     "output_type": "execute_result"
    }
   ],
   "source": [
    "train_df_sc"
   ]
  },
  {
   "cell_type": "code",
   "execution_count": 30,
   "metadata": {},
   "outputs": [],
   "source": [
    "from sklearn.svm import SVR"
   ]
  },
  {
   "cell_type": "code",
   "execution_count": 31,
   "metadata": {},
   "outputs": [],
   "source": [
    "svr = SVR()"
   ]
  },
  {
   "cell_type": "code",
   "execution_count": 32,
   "metadata": {},
   "outputs": [],
   "source": [
    "y_train = train_df['Close'].values.reshape(-1,1)"
   ]
  },
  {
   "cell_type": "code",
   "execution_count": 33,
   "metadata": {},
   "outputs": [
    {
     "data": {
      "text/plain": [
       "6032"
      ]
     },
     "execution_count": 33,
     "metadata": {},
     "output_type": "execute_result"
    }
   ],
   "source": [
    "len(X_train)"
   ]
  },
  {
   "cell_type": "code",
   "execution_count": 34,
   "metadata": {},
   "outputs": [
    {
     "data": {
      "text/plain": [
       "6032"
      ]
     },
     "execution_count": 34,
     "metadata": {},
     "output_type": "execute_result"
    }
   ],
   "source": [
    "len(y_train)"
   ]
  },
  {
   "cell_type": "code",
   "execution_count": 35,
   "metadata": {},
   "outputs": [
    {
     "name": "stderr",
     "output_type": "stream",
     "text": [
      "/anaconda3/lib/python3.6/site-packages/sklearn/utils/validation.py:578: DataConversionWarning: A column-vector y was passed when a 1d array was expected. Please change the shape of y to (n_samples, ), for example using ravel().\n",
      "  y = column_or_1d(y, warn=True)\n"
     ]
    },
    {
     "data": {
      "text/plain": [
       "SVR(C=1.0, cache_size=200, coef0=0.0, degree=3, epsilon=0.1, gamma='auto',\n",
       "  kernel='rbf', max_iter=-1, shrinking=True, tol=0.001, verbose=False)"
      ]
     },
     "execution_count": 35,
     "metadata": {},
     "output_type": "execute_result"
    }
   ],
   "source": [
    "svr.fit(X_train, y_train)"
   ]
  },
  {
   "cell_type": "code",
   "execution_count": 36,
   "metadata": {},
   "outputs": [],
   "source": [
    "y_pred = svr.predict(X_test)"
   ]
  },
  {
   "cell_type": "code",
   "execution_count": 37,
   "metadata": {},
   "outputs": [
    {
     "data": {
      "text/plain": [
       "943"
      ]
     },
     "execution_count": 37,
     "metadata": {},
     "output_type": "execute_result"
    }
   ],
   "source": [
    "len(y_pred)"
   ]
  },
  {
   "cell_type": "code",
   "execution_count": 38,
   "metadata": {},
   "outputs": [
    {
     "data": {
      "text/plain": [
       "[<matplotlib.lines.Line2D at 0x1a1a3d6160>]"
      ]
     },
     "execution_count": 38,
     "metadata": {},
     "output_type": "execute_result"
    },
    {
     "data": {
      "image/png": "[encoded data removed]",
      "text/plain": [
       "<Figure size 432x288 with 1 Axes>"
      ]
     },
     "metadata": {},
     "output_type": "display_data"
    }
   ],
   "source": [
    "\n",
    "plt.plot(y_pred)"
   ]
  },
  {
   "cell_type": "code",
   "execution_count": 39,
   "metadata": {},
   "outputs": [],
   "source": [
    "y_test = test_df['Close'].values"
   ]
  },
  {
   "cell_type": "code",
   "execution_count": 40,
   "metadata": {},
   "outputs": [
    {
     "data": {
      "text/plain": [
       "[<matplotlib.lines.Line2D at 0x1a1a48b080>]"
      ]
     },
     "execution_count": 40,
     "metadata": {},
     "output_type": "execute_result"
    },
    {
     "data": {
      "image/png": "[encoded data removed]",
      "text/plain": [
       "<Figure size 432x288 with 1 Axes>"
      ]
     },
     "metadata": {},
     "output_type": "display_data"
    }
   ],
   "source": [
    "plt.plot(test_df['Close'])"
   ]
  },
  {
   "cell_type": "code",
   "execution_count": 41,
   "metadata": {},
   "outputs": [],
   "source": [
    "from sklearn.metrics import r2_score"
   ]
  },
  {
   "cell_type": "code",
   "execution_count": 42,
   "metadata": {},
   "outputs": [
    {
     "data": {
      "text/plain": [
       "-0.6207602708943851"
      ]
     },
     "execution_count": 42,
     "metadata": {},
     "output_type": "execute_result"
    }
   ],
   "source": [
    "r2_score(y_pred, test_df['Close'])"
   ]
  },
  {
   "cell_type": "code",
   "execution_count": 43,
   "metadata": {},
   "outputs": [
    {
     "name": "stderr",
     "output_type": "stream",
     "text": [
      "/anaconda3/lib/python3.6/site-packages/h5py/__init__.py:36: FutureWarning: Conversion of the second argument of issubdtype from `float` to `np.floating` is deprecated. In future, it will be treated as `np.float64 == np.dtype(float).type`.\n",
      "  from ._conv import register_converters as _register_converters\n",
      "Using TensorFlow backend.\n"
     ]
    },
    {
     "name": "stdout",
     "output_type": "stream",
     "text": [
      "Couldn't import dot_parser, loading of dot files will not be possible.\n"
     ]
    }
   ],
   "source": [
    "from keras.models import Sequential\n",
    "from keras.layers import Dense\n",
    "from keras.optimizers import Adam"
   ]
  },
  {
   "cell_type": "code",
   "execution_count": 44,
   "metadata": {},
   "outputs": [],
   "source": [
    "from keras import backend as K\n",
    "K.reset_uids()\n",
    "K.clear_session()"
   ]
  },
  {
   "cell_type": "code",
   "execution_count": 48,
   "metadata": {},
   "outputs": [
    {
     "name": "stdout",
     "output_type": "stream",
     "text": [
      "Train on 6032 samples, validate on 943 samples\n",
      "Epoch 1/100\n",
      "6032/6032 [==============================] - 1s 239us/step - loss: 364.4946 - val_loss: 33.1416\n",
      "Epoch 2/100\n",
      "6032/6032 [==============================] - 1s 121us/step - loss: 52.4709 - val_loss: 33.8634\n",
      "Epoch 3/100\n",
      "6032/6032 [==============================] - 1s 121us/step - loss: 20.6337 - val_loss: 15.1924\n",
      "Epoch 4/100\n",
      "6032/6032 [==============================] - 1s 137us/step - loss: 12.9791 - val_loss: 11.7832\n",
      "Epoch 5/100\n",
      "6032/6032 [==============================] - 1s 121us/step - loss: 10.0868 - val_loss: 8.6068\n",
      "Epoch 6/100\n",
      "6032/6032 [==============================] - 1s 156us/step - loss: 7.8800 - val_loss: 8.1891\n",
      "Epoch 7/100\n",
      "6032/6032 [==============================] - 1s 147us/step - loss: 5.9513 - val_loss: 7.3876\n",
      "Epoch 8/100\n",
      "6032/6032 [==============================] - 1s 128us/step - loss: 4.2324 - val_loss: 5.7363\n",
      "Epoch 9/100\n",
      "6032/6032 [==============================] - 1s 148us/step - loss: 3.3753 - val_loss: 3.7394\n",
      "Epoch 10/100\n",
      "6032/6032 [==============================] - 1s 142us/step - loss: 2.7602 - val_loss: 2.9951\n",
      "Epoch 11/100\n",
      "6032/6032 [==============================] - 1s 149us/step - loss: 2.3190 - val_loss: 2.7606\n",
      "Epoch 12/100\n",
      "6032/6032 [==============================] - 1s 132us/step - loss: 1.9394 - val_loss: 3.0635\n",
      "Epoch 13/100\n",
      "6032/6032 [==============================] - 1s 125us/step - loss: 1.6595 - val_loss: 1.8918\n",
      "Epoch 14/100\n",
      "6032/6032 [==============================] - 1s 140us/step - loss: 1.4614 - val_loss: 0.9379\n",
      "Epoch 15/100\n",
      "6032/6032 [==============================] - 1s 127us/step - loss: 1.2828 - val_loss: 1.5362\n",
      "Epoch 16/100\n",
      "6032/6032 [==============================] - 1s 137us/step - loss: 1.0473 - val_loss: 1.5973\n",
      "Epoch 17/100\n",
      "6032/6032 [==============================] - 1s 158us/step - loss: 0.8963 - val_loss: 0.6729\n",
      "Epoch 18/100\n",
      "6032/6032 [==============================] - 1s 138us/step - loss: 0.7922 - val_loss: 1.0199\n",
      "Epoch 19/100\n",
      "6032/6032 [==============================] - 1s 131us/step - loss: 0.6928 - val_loss: 0.7724\n",
      "Epoch 20/100\n",
      "6032/6032 [==============================] - 1s 139us/step - loss: 0.6357 - val_loss: 1.3752\n",
      "Epoch 21/100\n",
      "6032/6032 [==============================] - 1s 132us/step - loss: 0.6331 - val_loss: 0.4518\n",
      "Epoch 22/100\n",
      "6032/6032 [==============================] - 1s 148us/step - loss: 0.5751 - val_loss: 0.3700\n",
      "Epoch 23/100\n",
      "6032/6032 [==============================] - 1s 138us/step - loss: 0.5133 - val_loss: 0.5377\n",
      "Epoch 24/100\n",
      "6032/6032 [==============================] - 1s 155us/step - loss: 0.5016 - val_loss: 0.3868\n",
      "Epoch 25/100\n",
      "6032/6032 [==============================] - 1s 148us/step - loss: 0.4968 - val_loss: 0.4068\n",
      "Epoch 26/100\n",
      "6032/6032 [==============================] - 1s 135us/step - loss: 0.4729 - val_loss: 0.3791\n",
      "Epoch 27/100\n",
      "6032/6032 [==============================] - 1s 140us/step - loss: 0.4776 - val_loss: 0.2864\n",
      "Epoch 28/100\n",
      "6032/6032 [==============================] - 1s 137us/step - loss: 0.4615 - val_loss: 0.2740\n",
      "Epoch 29/100\n",
      "6032/6032 [==============================] - 1s 140us/step - loss: 0.4817 - val_loss: 0.2334\n",
      "Epoch 30/100\n",
      "6032/6032 [==============================] - 1s 178us/step - loss: 0.4298 - val_loss: 0.2554\n",
      "Epoch 31/100\n",
      "6032/6032 [==============================] - 1s 193us/step - loss: 0.4639 - val_loss: 0.2808\n",
      "Epoch 32/100\n",
      "6032/6032 [==============================] - 1s 160us/step - loss: 0.4856 - val_loss: 0.2176\n",
      "Epoch 33/100\n",
      "6032/6032 [==============================] - 1s 116us/step - loss: 0.4106 - val_loss: 0.1981\n",
      "Epoch 34/100\n",
      "6032/6032 [==============================] - 1s 186us/step - loss: 0.4351 - val_loss: 0.2434\n",
      "Epoch 35/100\n",
      "6032/6032 [==============================] - 1s 175us/step - loss: 0.4162 - val_loss: 0.1817\n",
      "Epoch 36/100\n",
      "6032/6032 [==============================] - 1s 136us/step - loss: 0.4379 - val_loss: 0.2017\n",
      "Epoch 37/100\n",
      "6032/6032 [==============================] - 1s 103us/step - loss: 0.4405 - val_loss: 0.2913\n",
      "Epoch 38/100\n",
      "6032/6032 [==============================] - 1s 103us/step - loss: 0.4152 - val_loss: 0.2003\n",
      "Epoch 39/100\n",
      "6032/6032 [==============================] - 1s 126us/step - loss: 0.4725 - val_loss: 0.4102\n",
      "Epoch 40/100\n",
      "6032/6032 [==============================] - 1s 151us/step - loss: 0.4126 - val_loss: 0.3211\n",
      "Epoch 41/100\n",
      "6032/6032 [==============================] - 1s 167us/step - loss: 0.4139 - val_loss: 0.1653\n",
      "Epoch 42/100\n",
      "6032/6032 [==============================] - 1s 224us/step - loss: 0.4029 - val_loss: 0.2003\n",
      "Epoch 43/100\n",
      "6032/6032 [==============================] - 1s 229us/step - loss: 0.4138 - val_loss: 0.3444\n",
      "Epoch 44/100\n",
      "6032/6032 [==============================] - 1s 199us/step - loss: 0.4377 - val_loss: 0.4367\n",
      "Epoch 45/100\n",
      "6032/6032 [==============================] - 1s 154us/step - loss: 0.4401 - val_loss: 0.2038\n",
      "Epoch 46/100\n",
      "6032/6032 [==============================] - 1s 111us/step - loss: 0.3766 - val_loss: 0.5759\n",
      "Epoch 47/100\n",
      "6032/6032 [==============================] - 1s 110us/step - loss: 0.4171 - val_loss: 0.2638\n",
      "Epoch 48/100\n",
      "6032/6032 [==============================] - 1s 136us/step - loss: 0.4286 - val_loss: 0.1439\n",
      "Epoch 49/100\n",
      "6032/6032 [==============================] - 1s 136us/step - loss: 0.4092 - val_loss: 0.2369\n",
      "Epoch 50/100\n",
      "6032/6032 [==============================] - 1s 115us/step - loss: 0.4040 - val_loss: 0.2278\n",
      "Epoch 51/100\n",
      "6032/6032 [==============================] - 1s 109us/step - loss: 0.3967 - val_loss: 0.1425\n",
      "Epoch 52/100\n",
      "6032/6032 [==============================] - 1s 109us/step - loss: 0.4120 - val_loss: 0.2181\n",
      "Epoch 53/100\n",
      "6032/6032 [==============================] - 1s 118us/step - loss: 0.4053 - val_loss: 0.1633\n",
      "Epoch 54/100\n",
      "6032/6032 [==============================] - 1s 105us/step - loss: 0.3709 - val_loss: 0.1344\n",
      "Epoch 55/100\n",
      "6032/6032 [==============================] - 1s 127us/step - loss: 0.4006 - val_loss: 0.1327\n",
      "Epoch 56/100\n",
      "6032/6032 [==============================] - 1s 106us/step - loss: 0.4645 - val_loss: 0.2217\n",
      "Epoch 57/100\n",
      "6032/6032 [==============================] - 1s 109us/step - loss: 0.3754 - val_loss: 0.1274\n",
      "Epoch 58/100\n",
      "6032/6032 [==============================] - 1s 121us/step - loss: 0.3669 - val_loss: 0.1322\n",
      "Epoch 59/100\n",
      "6032/6032 [==============================] - 1s 123us/step - loss: 0.4037 - val_loss: 0.2102\n",
      "Epoch 60/100\n",
      "6032/6032 [==============================] - 1s 110us/step - loss: 0.4213 - val_loss: 0.1565\n",
      "Epoch 61/100\n",
      "6032/6032 [==============================] - 1s 118us/step - loss: 0.3905 - val_loss: 0.1311\n",
      "Epoch 62/100\n",
      "6032/6032 [==============================] - 1s 104us/step - loss: 0.4126 - val_loss: 0.1551\n",
      "Epoch 63/100\n",
      "6032/6032 [==============================] - 1s 112us/step - loss: 0.4344 - val_loss: 0.2555\n",
      "Epoch 64/100\n",
      "6032/6032 [==============================] - 1s 111us/step - loss: 0.3839 - val_loss: 0.2046\n",
      "Epoch 65/100\n",
      "6032/6032 [==============================] - 1s 104us/step - loss: 0.3816 - val_loss: 0.1485\n",
      "Epoch 66/100\n",
      "6032/6032 [==============================] - 1s 106us/step - loss: 0.3722 - val_loss: 0.1630\n",
      "Epoch 67/100\n",
      "6032/6032 [==============================] - 1s 105us/step - loss: 0.3604 - val_loss: 0.1219\n",
      "Epoch 68/100\n",
      "6032/6032 [==============================] - 1s 109us/step - loss: 0.3943 - val_loss: 0.1302\n",
      "Epoch 69/100\n",
      "6032/6032 [==============================] - 1s 122us/step - loss: 0.3857 - val_loss: 0.1362\n",
      "Epoch 70/100\n",
      "6032/6032 [==============================] - 1s 106us/step - loss: 0.3889 - val_loss: 0.1596\n",
      "Epoch 71/100\n",
      "6032/6032 [==============================] - 1s 105us/step - loss: 0.3694 - val_loss: 0.1683\n",
      "Epoch 72/100\n",
      "6032/6032 [==============================] - 1s 104us/step - loss: 0.3707 - val_loss: 0.1199\n",
      "Epoch 73/100\n",
      "6032/6032 [==============================] - 1s 107us/step - loss: 0.3700 - val_loss: 0.2436\n",
      "Epoch 74/100\n",
      "6032/6032 [==============================] - 1s 116us/step - loss: 0.4113 - val_loss: 0.1308\n",
      "Epoch 75/100\n",
      "6032/6032 [==============================] - 1s 105us/step - loss: 0.3694 - val_loss: 0.1281\n",
      "Epoch 76/100\n",
      "6032/6032 [==============================] - 1s 114us/step - loss: 0.3981 - val_loss: 0.1446\n",
      "Epoch 77/100\n",
      "6032/6032 [==============================] - 1s 105us/step - loss: 0.3785 - val_loss: 0.1407\n"
     ]
    },
    {
     "name": "stdout",
     "output_type": "stream",
     "text": [
      "Epoch 78/100\n",
      "6032/6032 [==============================] - 1s 105us/step - loss: 0.3882 - val_loss: 0.1286\n",
      "Epoch 79/100\n",
      "6032/6032 [==============================] - 1s 104us/step - loss: 0.3518 - val_loss: 0.1731\n",
      "Epoch 80/100\n",
      "6032/6032 [==============================] - 1s 105us/step - loss: 0.3691 - val_loss: 0.1707\n",
      "Epoch 81/100\n",
      "6032/6032 [==============================] - 1s 108us/step - loss: 0.3893 - val_loss: 0.3977\n",
      "Epoch 82/100\n",
      "6032/6032 [==============================] - 1s 109us/step - loss: 0.3776 - val_loss: 0.1217\n",
      "Epoch 83/100\n",
      "6032/6032 [==============================] - 1s 105us/step - loss: 0.3598 - val_loss: 0.1701\n",
      "Epoch 84/100\n",
      "6032/6032 [==============================] - 1s 120us/step - loss: 0.3834 - val_loss: 0.1266\n",
      "Epoch 85/100\n",
      "6032/6032 [==============================] - 1s 123us/step - loss: 0.3811 - val_loss: 0.1473\n",
      "Epoch 86/100\n",
      "6032/6032 [==============================] - 1s 109us/step - loss: 0.3504 - val_loss: 0.1442\n",
      "Epoch 87/100\n",
      "6032/6032 [==============================] - 1s 109us/step - loss: 0.3765 - val_loss: 0.1307\n",
      "Epoch 88/100\n",
      "6032/6032 [==============================] - 1s 105us/step - loss: 0.3746 - val_loss: 0.1380\n",
      "Epoch 89/100\n",
      "6032/6032 [==============================] - 1s 108us/step - loss: 0.3740 - val_loss: 0.1360\n",
      "Epoch 90/100\n",
      "6032/6032 [==============================] - 1s 109us/step - loss: 0.3539 - val_loss: 0.2982\n",
      "Epoch 91/100\n",
      "6032/6032 [==============================] - 1s 108us/step - loss: 0.3406 - val_loss: 0.1603\n",
      "Epoch 92/100\n",
      "6032/6032 [==============================] - 1s 155us/step - loss: 0.3431 - val_loss: 0.1186\n",
      "Epoch 93/100\n",
      "6032/6032 [==============================] - 1s 102us/step - loss: 0.3631 - val_loss: 0.2595\n",
      "Epoch 94/100\n",
      "6032/6032 [==============================] - 1s 102us/step - loss: 0.3668 - val_loss: 0.1472\n",
      "Epoch 95/100\n",
      "6032/6032 [==============================] - 1s 145us/step - loss: 0.3643 - val_loss: 0.1468\n",
      "Epoch 96/100\n",
      "6032/6032 [==============================] - 1s 127us/step - loss: 0.3761 - val_loss: 0.1213\n",
      "Epoch 97/100\n",
      "6032/6032 [==============================] - 1s 110us/step - loss: 0.3493 - val_loss: 0.1893\n",
      "Epoch 98/100\n",
      "6032/6032 [==============================] - 1s 138us/step - loss: 0.3772 - val_loss: 0.4775\n",
      "Epoch 99/100\n",
      "6032/6032 [==============================] - 1s 128us/step - loss: 0.3934 - val_loss: 0.1362\n",
      "Epoch 100/100\n",
      "6032/6032 [==============================] - 1s 163us/step - loss: 0.3574 - val_loss: 0.1591\n"
     ]
    }
   ],
   "source": [
    "model = Sequential()\n",
    "model.add(Dense(10, input_shape=(X_train.shape[1],), activation='tanh', kernel_initializer='lecun_uniform'))\n",
    "model.add(Dense(10, input_shape=(X_train.shape[1],)))\n",
    "model.add(Dense(1))\n",
    "model.compile(optimizer='adam', loss='mean_squared_error')\n",
    "history = model.fit(X_train, y_train, batch_size=16, validation_data=(X_test, y_test), epochs=100, verbose=1)\n",
    "#EarlyStopping(monitor='mean_squared_error', min_delta=0.01, patience=.01, verbose=0, mode='auto')"
   ]
  },
  {
   "cell_type": "code",
   "execution_count": 49,
   "metadata": {},
   "outputs": [
    {
     "data": {
      "image/png": "[encoded data removed]",
      "text/plain": [
       "<Figure size 432x288 with 1 Axes>"
      ]
     },
     "metadata": {},
     "output_type": "display_data"
    }
   ],
   "source": [
    "plt.plot(history.history['loss'], label='train')\n",
    "plt.plot(history.history['val_loss'], label='test')\n",
    "plt.legend()\n",
    "plt.show()"
   ]
  },
  {
   "cell_type": "code",
   "execution_count": 50,
   "metadata": {
    "scrolled": false
   },
   "outputs": [
    {
     "data": {
      "text/plain": [
       "0.9959435209057821"
      ]
     },
     "execution_count": 50,
     "metadata": {},
     "output_type": "execute_result"
    },
    {
     "data": {
      "image/png": "[encoded data removed]",
      "text/plain": [
       "<Figure size 1440x720 with 1 Axes>"
      ]
     },
     "metadata": {},
     "output_type": "display_data"
    }
   ],
   "source": [
    "plt.figure(figsize=(20,10))\n",
    "y_pred = model.predict(X_test)\n",
    "plt.plot(y_test, label = 'Actual')\n",
    "plt.plot(y_pred, label = 'Predictions')\n",
    "plt.legend()\n",
    "r2_score(y_test, y_pred)"
   ]
  },
  {
   "cell_type": "code",
   "execution_count": 51,
   "metadata": {},
   "outputs": [],
   "source": [
    "df_pred = pd.DataFrame([y_test, y_pred]).T"
   ]
  },
  {
   "cell_type": "code",
   "execution_count": 52,
   "metadata": {},
   "outputs": [
    {
     "data": {
      "text/html": [
       "<div>\n",
       "<style scoped>\n",
       "    .dataframe tbody tr th:only-of-type {\n",
       "        vertical-align: middle;\n",
       "    }\n",
       "\n",
       "    .dataframe tbody tr th {\n",
       "        vertical-align: top;\n",
       "    }\n",
       "\n",
       "    .dataframe thead th {\n",
       "        text-align: right;\n",
       "    }\n",
       "</style>\n",
       "<table border=\"1\" class=\"dataframe\">\n",
       "  <thead>\n",
       "    <tr style=\"text-align: right;\">\n",
       "      <th></th>\n",
       "      <th>0</th>\n",
       "      <th>1</th>\n",
       "    </tr>\n",
       "  </thead>\n",
       "  <tbody>\n",
       "    <tr>\n",
       "      <th>0</th>\n",
       "      <td>25.06</td>\n",
       "      <td>[25.090704]</td>\n",
       "    </tr>\n",
       "    <tr>\n",
       "      <th>1</th>\n",
       "      <td>24.6</td>\n",
       "      <td>[24.892162]</td>\n",
       "    </tr>\n",
       "    <tr>\n",
       "      <th>2</th>\n",
       "      <td>24.07</td>\n",
       "      <td>[24.440668]</td>\n",
       "    </tr>\n",
       "    <tr>\n",
       "      <th>3</th>\n",
       "      <td>24.08</td>\n",
       "      <td>[23.917847]</td>\n",
       "    </tr>\n",
       "    <tr>\n",
       "      <th>4</th>\n",
       "      <td>24.37</td>\n",
       "      <td>[23.92722]</td>\n",
       "    </tr>\n",
       "  </tbody>\n",
       "</table>\n",
       "</div>"
      ],
      "text/plain": [
       "       0            1\n",
       "0  25.06  [25.090704]\n",
       "1   24.6  [24.892162]\n",
       "2  24.07  [24.440668]\n",
       "3  24.08  [23.917847]\n",
       "4  24.37   [23.92722]"
      ]
     },
     "execution_count": 52,
     "metadata": {},
     "output_type": "execute_result"
    }
   ],
   "source": [
    "df_pred.head()"
   ]
  },
  {
   "cell_type": "code",
   "execution_count": 53,
   "metadata": {},
   "outputs": [],
   "source": [
    "df_pred[0] = df_pred[0].astype(float)"
   ]
  },
  {
   "cell_type": "code",
   "execution_count": 54,
   "metadata": {},
   "outputs": [],
   "source": [
    "df_pred[1] = df_pred[1].astype(float)"
   ]
  },
  {
   "cell_type": "code",
   "execution_count": 55,
   "metadata": {},
   "outputs": [],
   "source": [
    "maper = {0:'Act', 1:'Preds'}\n",
    "df_pred.rename(maper, axis=1, inplace=True)"
   ]
  },
  {
   "cell_type": "code",
   "execution_count": 56,
   "metadata": {},
   "outputs": [],
   "source": [
    "df_pred.set_index(keys=test_df.index, inplace=True)"
   ]
  },
  {
   "cell_type": "code",
   "execution_count": 57,
   "metadata": {},
   "outputs": [
    {
     "data": {
      "image/png": "[encoded data removed]",
      "text/plain": [
       "<Figure size 1440x720 with 1 Axes>"
      ]
     },
     "metadata": {},
     "output_type": "display_data"
    }
   ],
   "source": [
    "plt.figure(figsize=(20,10))\n",
    "plt.plot(df_pred);"
   ]
  },
  {
   "cell_type": "code",
   "execution_count": 58,
   "metadata": {},
   "outputs": [],
   "source": [
    "import numpy as np"
   ]
  },
  {
   "cell_type": "code",
   "execution_count": 59,
   "metadata": {},
   "outputs": [
    {
     "data": {
      "text/html": [
       "<div>\n",
       "<style scoped>\n",
       "    .dataframe tbody tr th:only-of-type {\n",
       "        vertical-align: middle;\n",
       "    }\n",
       "\n",
       "    .dataframe tbody tr th {\n",
       "        vertical-align: top;\n",
       "    }\n",
       "\n",
       "    .dataframe thead th {\n",
       "        text-align: right;\n",
       "    }\n",
       "</style>\n",
       "<table border=\"1\" class=\"dataframe\">\n",
       "  <thead>\n",
       "    <tr style=\"text-align: right;\">\n",
       "      <th></th>\n",
       "      <th>Close</th>\n",
       "      <th>Volume</th>\n",
       "      <th>std</th>\n",
       "      <th>upper</th>\n",
       "      <th>lower</th>\n",
       "      <th>Rates</th>\n",
       "      <th>lag</th>\n",
       "      <th>std_1</th>\n",
       "      <th>lag_2</th>\n",
       "    </tr>\n",
       "    <tr>\n",
       "      <th>Date</th>\n",
       "      <th></th>\n",
       "      <th></th>\n",
       "      <th></th>\n",
       "      <th></th>\n",
       "      <th></th>\n",
       "      <th></th>\n",
       "      <th></th>\n",
       "      <th></th>\n",
       "      <th></th>\n",
       "    </tr>\n",
       "  </thead>\n",
       "  <tbody>\n",
       "    <tr>\n",
       "      <th>2018-09-24</th>\n",
       "      <td>11.74</td>\n",
       "      <td>148589900.0</td>\n",
       "      <td>0.268106</td>\n",
       "      <td>12.276213</td>\n",
       "      <td>11.203787</td>\n",
       "      <td>2.03</td>\n",
       "      <td>12.17</td>\n",
       "      <td>0.265141</td>\n",
       "      <td>13.83</td>\n",
       "    </tr>\n",
       "    <tr>\n",
       "      <th>2018-09-25</th>\n",
       "      <td>11.27</td>\n",
       "      <td>133694200.0</td>\n",
       "      <td>0.383368</td>\n",
       "      <td>12.036737</td>\n",
       "      <td>10.503263</td>\n",
       "      <td>2.03</td>\n",
       "      <td>11.74</td>\n",
       "      <td>0.438429</td>\n",
       "      <td>13.61</td>\n",
       "    </tr>\n",
       "    <tr>\n",
       "      <th>2018-09-26</th>\n",
       "      <td>11.39</td>\n",
       "      <td>93374600.0</td>\n",
       "      <td>0.446212</td>\n",
       "      <td>12.282424</td>\n",
       "      <td>10.497576</td>\n",
       "      <td>2.03</td>\n",
       "      <td>11.27</td>\n",
       "      <td>0.618587</td>\n",
       "      <td>13.37</td>\n",
       "    </tr>\n",
       "    <tr>\n",
       "      <th>2018-09-27</th>\n",
       "      <td>11.53</td>\n",
       "      <td>82196200.0</td>\n",
       "      <td>0.470152</td>\n",
       "      <td>12.470304</td>\n",
       "      <td>10.589696</td>\n",
       "      <td>2.03</td>\n",
       "      <td>11.39</td>\n",
       "      <td>0.506192</td>\n",
       "      <td>13.37</td>\n",
       "    </tr>\n",
       "    <tr>\n",
       "      <th>2018-09-28</th>\n",
       "      <td>11.29</td>\n",
       "      <td>76542900.0</td>\n",
       "      <td>0.515216</td>\n",
       "      <td>12.320433</td>\n",
       "      <td>10.259567</td>\n",
       "      <td>2.03</td>\n",
       "      <td>11.53</td>\n",
       "      <td>0.353695</td>\n",
       "      <td>13.43</td>\n",
       "    </tr>\n",
       "  </tbody>\n",
       "</table>\n",
       "</div>"
      ],
      "text/plain": [
       "            Close       Volume       std      upper      lower  Rates    lag  \\\n",
       "Date                                                                           \n",
       "2018-09-24  11.74  148589900.0  0.268106  12.276213  11.203787   2.03  12.17   \n",
       "2018-09-25  11.27  133694200.0  0.383368  12.036737  10.503263   2.03  11.74   \n",
       "2018-09-26  11.39   93374600.0  0.446212  12.282424  10.497576   2.03  11.27   \n",
       "2018-09-27  11.53   82196200.0  0.470152  12.470304  10.589696   2.03  11.39   \n",
       "2018-09-28  11.29   76542900.0  0.515216  12.320433  10.259567   2.03  11.53   \n",
       "\n",
       "               std_1  lag_2  \n",
       "Date                         \n",
       "2018-09-24  0.265141  13.83  \n",
       "2018-09-25  0.438429  13.61  \n",
       "2018-09-26  0.618587  13.37  \n",
       "2018-09-27  0.506192  13.37  \n",
       "2018-09-28  0.353695  13.43  "
      ]
     },
     "execution_count": 59,
     "metadata": {},
     "output_type": "execute_result"
    }
   ],
   "source": [
    "df.tail()"
   ]
  },
  {
   "cell_type": "code",
   "execution_count": 60,
   "metadata": {},
   "outputs": [],
   "source": [
    "rate = 2\n",
    "lag = 11\n",
    "std = 12.482"
   ]
  },
  {
   "cell_type": "code",
   "execution_count": 61,
   "metadata": {},
   "outputs": [],
   "source": [
    "pred_1 = np.array([[rate, lag, std]])"
   ]
  },
  {
   "cell_type": "code",
   "execution_count": 62,
   "metadata": {},
   "outputs": [
    {
     "data": {
      "text/plain": [
       "(1, 3)"
      ]
     },
     "execution_count": 62,
     "metadata": {},
     "output_type": "execute_result"
    }
   ],
   "source": [
    "pred_1.shape"
   ]
  },
  {
   "cell_type": "code",
   "execution_count": null,
   "metadata": {},
   "outputs": [],
   "source": [
    "#model.predict(pred_1)"
   ]
  },
  {
   "cell_type": "code",
   "execution_count": null,
   "metadata": {},
   "outputs": [],
   "source": []
  }
 ],
 "metadata": {
  "kernelspec": {
   "display_name": "Python [conda env:anaconda3]",
   "language": "python",
   "name": "conda-env-anaconda3-py"
  },
  "language_info": {
   "codemirror_mode": {
    "name": "ipython",
    "version": 3
   },
   "file_extension": ".py",
   "mimetype": "text/x-python",
   "name": "python",
   "nbconvert_exporter": "python",
   "pygments_lexer": "ipython3",
   "version": "3.6.5"
  }
 },
 "nbformat": 4,
 "nbformat_minor": 2
}
